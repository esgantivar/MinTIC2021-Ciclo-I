{
  "nbformat": 4,
  "nbformat_minor": 0,
  "metadata": {
    "colab": {
      "name": "Ejercicios Semana 4.ipynb",
      "provenance": []
    },
    "kernelspec": {
      "name": "python3",
      "display_name": "Python 3"
    },
    "language_info": {
      "name": "python"
    }
  },
  "cells": [
    {
      "cell_type": "markdown",
      "metadata": {
        "id": "Kc8co9HeK_st"
      },
      "source": [
        "## Ejercicios Semana 4\n",
        "\n",
        "Estructuras de datos"
      ]
    },
    {
      "cell_type": "markdown",
      "metadata": {
        "id": "MDOEsvI1LIXn"
      },
      "source": [
        "### Listas"
      ]
    },
    {
      "cell_type": "markdown",
      "metadata": {
        "id": "fUJUYTXMLNqs"
      },
      "source": [
        "#### 1 \n",
        "Desarrollar un programa que determine si en una lista no existen elementos repetidos.\n"
      ]
    },
    {
      "cell_type": "markdown",
      "metadata": {
        "id": "9Zps7FtQWf90"
      },
      "source": [
        "##### Solución"
      ]
    },
    {
      "cell_type": "code",
      "metadata": {
        "id": "JTtlgiDwSvXh"
      },
      "source": [
        "def no_repetidos(l):\n",
        "  unicos = []\n",
        "  for i in l:\n",
        "    print('i: ', i)\n",
        "    if i not in unicos:\n",
        "      unicos.append(i)\n",
        "    print(unicos)\n",
        "  print('*' * 20)\n",
        "  print(unicos, l)\n",
        "  return len(unicos) == len(l)"
      ],
      "execution_count": null,
      "outputs": []
    },
    {
      "cell_type": "code",
      "metadata": {
        "colab": {
          "base_uri": "https://localhost:8080/"
        },
        "id": "4If-412TTFjt",
        "outputId": "f8ca6082-02c8-48e2-fde9-d7c495d4d89e"
      },
      "source": [
        "no_repetidos(['1', 1, 2, 3])"
      ],
      "execution_count": null,
      "outputs": [
        {
          "output_type": "stream",
          "text": [
            "i:  1\n",
            "['1']\n",
            "i:  1\n",
            "['1', 1]\n",
            "i:  2\n",
            "['1', 1, 2]\n",
            "i:  3\n",
            "['1', 1, 2, 3]\n",
            "********************\n",
            "['1', 1, 2, 3] ['1', 1, 2, 3]\n"
          ],
          "name": "stdout"
        },
        {
          "output_type": "execute_result",
          "data": {
            "text/plain": [
              "True"
            ]
          },
          "metadata": {
            "tags": []
          },
          "execution_count": 7
        }
      ]
    },
    {
      "cell_type": "markdown",
      "metadata": {
        "id": "gsH8_zcsLtF_"
      },
      "source": [
        "#### 2\n",
        "Desarrollar un programa que determine si un elemento de una lista es una cadena palíndrome. Si la cadena existe debe imprimirla y si no existe debe imprimir \"No existe\"."
      ]
    },
    {
      "cell_type": "markdown",
      "metadata": {
        "id": "Eq75HIhQWibz"
      },
      "source": [
        "##### Solución"
      ]
    },
    {
      "cell_type": "code",
      "metadata": {
        "id": "562weKbmdDkh"
      },
      "source": [
        "def es_palindrome(cadena):\n",
        "  return cadena[::-1] == cadena"
      ],
      "execution_count": null,
      "outputs": []
    },
    {
      "cell_type": "code",
      "metadata": {
        "id": "0viS_CUfSvxh"
      },
      "source": [
        "def verificar_palindrome(L):\n",
        "  palindromes = []\n",
        "  for i in L:\n",
        "    if es_palindrome(i):\n",
        "      palindromes.append(i)\n",
        "  \n",
        "  if len(palindromes) > 0:\n",
        "    print(palindromes)\n",
        "  else:\n",
        "    print(\"No existe\")"
      ],
      "execution_count": null,
      "outputs": []
    },
    {
      "cell_type": "code",
      "metadata": {
        "colab": {
          "base_uri": "https://localhost:8080/"
        },
        "id": "XO2waZR1Tyhz",
        "outputId": "b4651e17-98ed-4055-bddd-f92a9f505422"
      },
      "source": [
        "verificar_palindrome([\"amor a roma\", \"anita atina\", \"kop\"])"
      ],
      "execution_count": null,
      "outputs": [
        {
          "output_type": "stream",
          "text": [
            "['amor a roma', 'anita atina']\n"
          ],
          "name": "stdout"
        }
      ]
    },
    {
      "cell_type": "code",
      "metadata": {
        "colab": {
          "base_uri": "https://localhost:8080/"
        },
        "id": "l05ratkscu7N",
        "outputId": "522100ee-8051-421f-a646-b1fcf403fe4f"
      },
      "source": [
        "es_palindrome('amor a romA')"
      ],
      "execution_count": null,
      "outputs": [
        {
          "output_type": "execute_result",
          "data": {
            "text/plain": [
              "False"
            ]
          },
          "metadata": {
            "tags": []
          },
          "execution_count": 22
        }
      ]
    },
    {
      "cell_type": "markdown",
      "metadata": {
        "id": "H82_39dpLvQd"
      },
      "source": [
        "#### 3\n",
        "Desarrollar un programa que determine si en una lista se encuentra una cadena de caracteres con dos o más vocales. Si la cadena existe debe imprimirla y si no existe debe imprimir \"No existe\".\n",
        "\n"
      ]
    },
    {
      "cell_type": "markdown",
      "metadata": {
        "id": "JMWiwtkYWnEy"
      },
      "source": [
        "##### Solución"
      ]
    },
    {
      "cell_type": "code",
      "metadata": {
        "id": "EaGN5G7ihSrh"
      },
      "source": [
        "def contar_vocales(cadena):\n",
        "  p = cadena.lower()\n",
        "  c = 0\n",
        "  for v in ['a', 'e', 'i', 'o', 'u']:\n",
        "    c += p.count(v)\n",
        "  return c"
      ],
      "execution_count": null,
      "outputs": []
    },
    {
      "cell_type": "code",
      "metadata": {
        "id": "xPwk5mDhUd1Y"
      },
      "source": [
        "def verificar_vocales(L):\n",
        "  palabras = []\n",
        "  for i in L:\n",
        "    if contar_vocales(i) >= 2:\n",
        "      palabras.append(i)\n",
        "    \n",
        "  if len(palabras) > 0:\n",
        "    print(palabras)\n",
        "  else:\n",
        "    print(\"No existe\")"
      ],
      "execution_count": null,
      "outputs": []
    },
    {
      "cell_type": "code",
      "metadata": {
        "colab": {
          "base_uri": "https://localhost:8080/"
        },
        "id": "oBDRysJuUoxX",
        "outputId": "e6939a5a-8c1b-4003-ddae-25ee51ca0c46"
      },
      "source": [
        "verificar_vocales([\"TTTya\", \"ua1@.TY\"])"
      ],
      "execution_count": null,
      "outputs": [
        {
          "output_type": "stream",
          "text": [
            "['ua1@.TY']\n"
          ],
          "name": "stdout"
        }
      ]
    },
    {
      "cell_type": "markdown",
      "metadata": {
        "id": "PgbYtEhtLwxi"
      },
      "source": [
        "#### 4\n",
        "Desarrollar un programa que determine si una lista es palíndrome. Una lista es palíndrome si el elemento en la posición i es el mismo de la posición n − 1 − i con n la longitud de la lista.\n",
        "\n"
      ]
    },
    {
      "cell_type": "markdown",
      "metadata": {
        "id": "ao1gj1UDVnqJ"
      },
      "source": [
        "##### Solución"
      ]
    },
    {
      "cell_type": "code",
      "metadata": {
        "id": "r1RTPcz0VpTL"
      },
      "source": [
        "def lista_palindrome(L):\n",
        "  n = len(L)\n",
        "  # L_inverso = L[::-1]\n",
        "  bandera = True\n",
        "  for i in range(len(L)):\n",
        "    bandera = bandera and L[i] == L[n - 1 -i]\n",
        "  return bandera"
      ],
      "execution_count": null,
      "outputs": []
    },
    {
      "cell_type": "code",
      "metadata": {
        "colab": {
          "base_uri": "https://localhost:8080/"
        },
        "id": "nzDV2VXvV9LW",
        "outputId": "705f0c59-9a4d-4b54-93b0-9f259ba1d742"
      },
      "source": [
        "lista_palindrome([1, 2, 2, 1])"
      ],
      "execution_count": null,
      "outputs": [
        {
          "output_type": "stream",
          "text": [
            "[1, 2, 2, 1] [1, 2, 2, 1]\n",
            "0 3\n",
            "1 2\n",
            "2 1\n",
            "3 0\n"
          ],
          "name": "stdout"
        },
        {
          "output_type": "execute_result",
          "data": {
            "text/plain": [
              "True"
            ]
          },
          "metadata": {
            "tags": []
          },
          "execution_count": 49
        }
      ]
    },
    {
      "cell_type": "markdown",
      "metadata": {
        "id": "5deCb3lfLxxK"
      },
      "source": [
        "#### 5\n",
        "Desarrollar un programa que dadas dos listas determine que elementos tiene la primer lista que no tenga la segunda lista.\n",
        "\n",
        "*Ejemplo*:\n",
        "\n",
        "* lista1: [1,\" Hola\",−12.3,True] \n",
        "* lista2: [11,−12.3,\"Hola\",False]\n",
        "* salida: [1,True]"
      ]
    },
    {
      "cell_type": "markdown",
      "metadata": {
        "id": "UCd0QzhAWqlW"
      },
      "source": [
        "##### Solución"
      ]
    },
    {
      "cell_type": "code",
      "metadata": {
        "id": "4P0-VZVdWHEN"
      },
      "source": [
        "def verificar_listas(A, B):\n",
        "  salida = []\n",
        "  for a in A:\n",
        "    if a not in B:\n",
        "      salida.append(a)\n",
        "  return salida"
      ],
      "execution_count": null,
      "outputs": []
    },
    {
      "cell_type": "code",
      "metadata": {
        "colab": {
          "base_uri": "https://localhost:8080/"
        },
        "id": "gyr2wd6RWV3e",
        "outputId": "a21010bc-efea-4cbb-eb47-a197c073f857"
      },
      "source": [
        "verificar_listas([1, \"Hola\", -12, True], [11, -12, \"Hola\", \"False\", 8])"
      ],
      "execution_count": null,
      "outputs": [
        {
          "output_type": "execute_result",
          "data": {
            "text/plain": [
              "[1, True]"
            ]
          },
          "metadata": {
            "tags": []
          },
          "execution_count": 59
        }
      ]
    },
    {
      "cell_type": "markdown",
      "metadata": {
        "id": "HwFjtCqHMUbG"
      },
      "source": [
        "### Arreglos"
      ]
    },
    {
      "cell_type": "markdown",
      "metadata": {
        "id": "6x-eXEToMX_s"
      },
      "source": [
        "#### 1\n",
        "Crea un arreglo donde le indiques el tamaño por teclado y crear una función que rellene el arreglo con los múltiplos de un número pedido por teclado. Por ejemplo, si defino un array de tamaño 5 y elijo un 3 en la función, el arreglo contendrá 3, 6, 9, 12, 15."
      ]
    },
    {
      "cell_type": "markdown",
      "metadata": {
        "id": "45UZ9DbHWs_R"
      },
      "source": [
        "##### Solución"
      ]
    },
    {
      "cell_type": "code",
      "metadata": {
        "colab": {
          "base_uri": "https://localhost:8080/"
        },
        "id": "f0dKlZ6HMn8_",
        "outputId": "c0e87966-e5d5-4132-aa8a-9df98eb895c4"
      },
      "source": [
        "n = int(input(\"Ingrese el tamaño del arreglo: \"))\n",
        "m = int(input(\"Ingrese el número de múltiplos: \"))\n",
        "A = []\n",
        "for multiplo in range(0, n):\n",
        "  A.append((multiplo + 1) * m)\n",
        "print(A)"
      ],
      "execution_count": null,
      "outputs": [
        {
          "output_type": "stream",
          "text": [
            "Ingrese el tamaño del arreglo: 3\n",
            "Ingrese el número de múltiplos: 2\n",
            "[2, 4, 6]\n"
          ],
          "name": "stdout"
        }
      ]
    },
    {
      "cell_type": "markdown",
      "metadata": {
        "id": "e2ey9ZKMMoJ5"
      },
      "source": [
        "#### 2\n",
        "Crea dos arreglos  que tengan el mismo tamaño (lo pedirá por teclado), en uno de ellos almacenarás nombres de personas como cadenas, en el otro arreglo ira almacenando la longitud de los nombres."
      ]
    },
    {
      "cell_type": "markdown",
      "metadata": {
        "id": "ow5YQagvWv7O"
      },
      "source": [
        "##### Solución"
      ]
    },
    {
      "cell_type": "code",
      "metadata": {
        "id": "aaC487l_Mx3O"
      },
      "source": [
        "n = int(input(\"Ingrese el tamaño de los arreglos: \"))\n",
        "B = []\n",
        "C = []\n",
        "for i in range(0, n):\n",
        "  nombre = input(f\"Ingrese nombre de las persona {i + 1}: \")\n",
        "  B.append(nombre)\n",
        "  C.append(len(nombre))\n",
        "\n",
        "print(B)\n",
        "print(C)"
      ],
      "execution_count": null,
      "outputs": []
    },
    {
      "cell_type": "markdown",
      "metadata": {
        "id": "grbf2jRZMyCf"
      },
      "source": [
        "#### 3\n",
        "Dado el siguiente arreglo de números:\n",
        "[1, 5, 8, 3, 30, 9, 13]\n",
        "Imprimir en pantalla programáticamente los números impares mayores a 3."
      ]
    },
    {
      "cell_type": "markdown",
      "metadata": {
        "id": "8tJrZ7gZWxuK"
      },
      "source": [
        "##### Solución"
      ]
    },
    {
      "cell_type": "code",
      "metadata": {
        "id": "yxli_JPBM2Ii"
      },
      "source": [
        "A = [1, 5, 8, 3, 30, 9, 13]\n",
        "B = []\n",
        "for i in A:\n",
        "  if i > 3 and i % 2 != 0:\n",
        "    B.append(i)\n",
        "print(B)"
      ],
      "execution_count": null,
      "outputs": []
    },
    {
      "cell_type": "markdown",
      "metadata": {
        "id": "Bgdr3hWzM2yY"
      },
      "source": [
        "#### 4\n",
        "Dada las siguientes notas almacenadas en un arreglo:\n",
        "\n",
        "[20, 15, 12, 11, 8, 4, 1]\n",
        "\n",
        "Elimine la nota más baja programáticamente sin usar la función (min) y escriba en pantalla. Luego programáticamente calcule el promedio de notas descontando la nota eliminada."
      ]
    },
    {
      "cell_type": "markdown",
      "metadata": {
        "id": "oTOfrFdgWzS6"
      },
      "source": [
        "##### Solución"
      ]
    },
    {
      "cell_type": "code",
      "metadata": {
        "id": "uTiDfSA2QFKZ"
      },
      "source": [
        "A = [20, 15, 12, 11, 8, 4, 12]\n",
        "A.sort()\n",
        "A.pop(0)\n",
        "\n",
        "suma = 0\n",
        "for elemento in A:\n",
        "  suma += elemento\n",
        "\n",
        "print(A)\n",
        "print(suma)\n",
        "print(suma / len(A))"
      ],
      "execution_count": null,
      "outputs": []
    },
    {
      "cell_type": "code",
      "metadata": {
        "id": "sVdOmULxqegv"
      },
      "source": [
        "A = [20, 15, 12, 11, 8, 4, 12]\n",
        "\n",
        "minimo = A[0]\n",
        "for indice in range(1, len(A)):\n",
        "  if A[indice] < minimo:\n",
        "    minimo = A[indice]\n",
        "\n",
        "A.remove(minimo)\n",
        "\n",
        "suma = 0\n",
        "for elemento in A:\n",
        "  suma += elemento\n",
        "\n",
        "print(A)\n",
        "print(suma)\n",
        "print(suma / len(A))"
      ],
      "execution_count": null,
      "outputs": []
    },
    {
      "cell_type": "markdown",
      "metadata": {
        "id": "AcWszaU-NBN2"
      },
      "source": [
        "### Matrices"
      ]
    },
    {
      "cell_type": "code",
      "metadata": {
        "colab": {
          "base_uri": "https://localhost:8080/"
        },
        "id": "robH5VEEr2X2",
        "outputId": "8df270d1-f287-4630-9d19-36949df2c590"
      },
      "source": [
        "M = [[1,2, 3], [9,8, 7]]\n",
        "M"
      ],
      "execution_count": null,
      "outputs": [
        {
          "output_type": "execute_result",
          "data": {
            "text/plain": [
              "[[1, 2, 3], [9, 8, 7]]"
            ]
          },
          "metadata": {
            "tags": []
          },
          "execution_count": 83
        }
      ]
    },
    {
      "cell_type": "code",
      "metadata": {
        "colab": {
          "base_uri": "https://localhost:8080/"
        },
        "id": "P_G0URU1sLV7",
        "outputId": "a096bc64-730c-4978-f3ba-959fba15f847"
      },
      "source": [
        "for i in range(0, len(M)):\n",
        "  for j in range(0, len(M[i])):\n",
        "    print(M[i][j])"
      ],
      "execution_count": null,
      "outputs": [
        {
          "output_type": "stream",
          "text": [
            "1\n",
            "2\n",
            "3\n",
            "9\n",
            "8\n",
            "7\n"
          ],
          "name": "stdout"
        }
      ]
    },
    {
      "cell_type": "markdown",
      "metadata": {
        "id": "UWtSOKxFNESh"
      },
      "source": [
        "#### 1\n",
        "Desarrollar un algoritmo que permita multiplicar dos matrices de números reales (enteros)."
      ]
    },
    {
      "cell_type": "markdown",
      "metadata": {
        "id": "OdDFTQks00a5"
      },
      "source": [
        "**Multiplicación de Matrices**\n",
        "\n",
        "\\begin{equation}\n",
        "A =\n",
        "\\begin{pmatrix}\n",
        "2 & 3\\\\\n",
        "-5 & 1\\\\\n",
        "0 & -6\\\\\n",
        "\\end{pmatrix}\n",
        "\\end{equation}\n",
        "\n",
        "\n",
        "\\begin{equation}\n",
        "B =\n",
        "\\begin{pmatrix}\n",
        "1 & -5 & 0\\\\\n",
        "-8 & 9 & 2\n",
        "\\end{pmatrix}\n",
        "\\end{equation}\n",
        "\n",
        "\n",
        "A = (3 x 2)\n",
        "\n",
        "B = (2 x 3)\n",
        "\n",
        "C = (3 x 3)\n",
        "\n",
        "\\begin{equation}\n",
        "C =\n",
        "\\begin{pmatrix}\n",
        "C_{11} & C_{12} & C_{13}\\\\\n",
        "C_{21} & C_{22} & C_{23}\\\\\n",
        "C_{31} & C_{32} & C_{33}\n",
        "\\end{pmatrix}\n",
        "\\end{equation}\n",
        "\n",
        "\n",
        "$C_{11} = (-2)(1) + (3)(-8) = -2 -24 = -26$\n",
        "\n",
        "$C_{12} = (-2)(-5) + (3)(9) = 10 + 27 = 37$\n",
        "\n",
        "$C_{13} = (-2)(0) + (3)(2) = 6$ \n",
        "\n",
        "\n",
        "$C_{21} = (-5)(1) + (1)(-8) = -5 - 8 = -13$\n",
        "\n",
        "$C_{22} = (-5)(-5) + (1)(9) = 25 + 9 = 34$\n",
        "\n",
        "$C_{23} = (-5)(0) + (1)(2) = 2$\n",
        "\n",
        "\n",
        "$C_{31} = (0)(1) + (-6)(-8) = 48$\n",
        "\n",
        "$C_{32} = (0)(-5) + (-6)(9) = -54$\n",
        "\n",
        "$C_{33} = (0)(0) + (-6)(2) = -12$\n",
        "\n",
        "\n",
        "\\begin{equation}\n",
        "C =\n",
        "\\begin{pmatrix}\n",
        "-26 & 37 & 6\\\\\n",
        "-13 & 34 & 2\\\\\n",
        "48 & -54 & -12\n",
        "\\end{pmatrix}\n",
        "\\end{equation}"
      ]
    },
    {
      "cell_type": "markdown",
      "metadata": {
        "id": "c0yXzzpDW1GU"
      },
      "source": [
        "##### Solución"
      ]
    },
    {
      "cell_type": "code",
      "metadata": {
        "id": "3y4skgpANMKB"
      },
      "source": [
        "def multiplicar_matrices(a, b):\n",
        "    tamano_a = len(a), len(a[0])\n",
        "    tamano_b = len(b), len(b[0])\n",
        "\n",
        "    if tamano_a[1] != tamano_b[0]:\n",
        "      print('Las matrices no se pueden multiplicar')\n",
        "      return None\n",
        "    \n",
        "    C = []\n",
        "    for i in range(tamano_a[0]):\n",
        "        fila = []\n",
        "        for j in range(tamano_b[1]):\n",
        "            fila.append(0)\n",
        "        C.append(fila)\n",
        "\n",
        "    for i in range(tamano_a[0]):\n",
        "        for j in range(tamano_b[1]):\n",
        "            for k in range(tamano_b[0]):\n",
        "                C[i][j] += a[i][k] * b[k][j]\n",
        "    \n",
        "    return C"
      ],
      "execution_count": null,
      "outputs": []
    },
    {
      "cell_type": "code",
      "metadata": {
        "id": "CHbdBf07Q_CZ"
      },
      "source": [
        "A = [[-2, 3], [-5, 1], [0, -6]]\n",
        "B = [[1, -5, 0], [-8, 9, 2]]"
      ],
      "execution_count": null,
      "outputs": []
    },
    {
      "cell_type": "code",
      "metadata": {
        "colab": {
          "base_uri": "https://localhost:8080/"
        },
        "id": "ELUQRelPRUhv",
        "outputId": "e74ede43-46f9-44b6-ce7b-b484d3c6d12d"
      },
      "source": [
        "multiplicar_matrices(A, B)"
      ],
      "execution_count": null,
      "outputs": [
        {
          "output_type": "execute_result",
          "data": {
            "text/plain": [
              "[[-26, 37, 6], [-13, 34, 2], [48, -54, -12]]"
            ]
          },
          "metadata": {
            "tags": []
          },
          "execution_count": 99
        }
      ]
    },
    {
      "cell_type": "code",
      "metadata": {
        "id": "uNEHCXcNytSB"
      },
      "source": [
        "import numpy as np"
      ],
      "execution_count": null,
      "outputs": []
    },
    {
      "cell_type": "code",
      "metadata": {
        "colab": {
          "base_uri": "https://localhost:8080/"
        },
        "id": "06hKX9tBywoG",
        "outputId": "3649fe9a-5adc-4fda-aec9-076ae56edbe0"
      },
      "source": [
        "np.matmul(A, B)"
      ],
      "execution_count": null,
      "outputs": [
        {
          "output_type": "execute_result",
          "data": {
            "text/plain": [
              "array([[-26,  37,   6],\n",
              "       [-13,  34,   2],\n",
              "       [ 48, -54, -12]])"
            ]
          },
          "metadata": {
            "tags": []
          },
          "execution_count": 101
        }
      ]
    },
    {
      "cell_type": "markdown",
      "metadata": {
        "id": "KMhuEqAMNNZQ"
      },
      "source": [
        "#### 2\n",
        "Desarrollar un programa que sume los elementos de una columna dada de una matriz."
      ]
    },
    {
      "cell_type": "markdown",
      "metadata": {
        "id": "_XPAarIqW2ka"
      },
      "source": [
        "##### Solución"
      ]
    },
    {
      "cell_type": "code",
      "metadata": {
        "id": "bJfbc0aXNSMt"
      },
      "source": [
        "def sumar_columna(m, columna):\n",
        "    suma = 0\n",
        "    for i in range(len(m)):\n",
        "        suma += m[i][columna]\n",
        "    return suma"
      ],
      "execution_count": null,
      "outputs": []
    },
    {
      "cell_type": "code",
      "metadata": {
        "colab": {
          "base_uri": "https://localhost:8080/"
        },
        "id": "21evTBniRpfP",
        "outputId": "3be1918b-3d4c-4737-bea3-008d7ab711ac"
      },
      "source": [
        "sumar_columna(A, 0)"
      ],
      "execution_count": null,
      "outputs": [
        {
          "output_type": "execute_result",
          "data": {
            "text/plain": [
              "-7"
            ]
          },
          "metadata": {
            "tags": []
          },
          "execution_count": 19
        }
      ]
    },
    {
      "cell_type": "markdown",
      "metadata": {
        "id": "-Y80KpPPNSVV"
      },
      "source": [
        "#### 3\n",
        "\n",
        "Desarrollar un programa que sume los elementos de una fila dada de una matriz."
      ]
    },
    {
      "cell_type": "markdown",
      "metadata": {
        "id": "BSCk1uAuW4si"
      },
      "source": [
        "##### Solución"
      ]
    },
    {
      "cell_type": "code",
      "metadata": {
        "id": "KmKMRa04NaLC"
      },
      "source": [
        "def sumar_fila(m, fila):\n",
        "    suma = 0\n",
        "    for i in range(len(m[fila])):\n",
        "        suma += m[fila][i]\n",
        "    return suma"
      ],
      "execution_count": null,
      "outputs": []
    },
    {
      "cell_type": "code",
      "metadata": {
        "colab": {
          "base_uri": "https://localhost:8080/"
        },
        "id": "7Z_wLYsAR0fF",
        "outputId": "65c6850a-20c8-4150-92ec-08189094db24"
      },
      "source": [
        "sumar_fila(B, 1)"
      ],
      "execution_count": null,
      "outputs": [
        {
          "output_type": "execute_result",
          "data": {
            "text/plain": [
              "3"
            ]
          },
          "metadata": {
            "tags": []
          },
          "execution_count": 22
        }
      ]
    },
    {
      "cell_type": "markdown",
      "metadata": {
        "id": "bI3cmd-mNZjI"
      },
      "source": [
        "#### 4\n",
        "\n",
        "Desarrollar un algoritmo que determine si una matriz es mágica. Se dice que una matriz cuadrada es mágica si la suma de cada una de sus filas, de cada una de sus columnas y de cada diagonal es igual."
      ]
    },
    {
      "cell_type": "markdown",
      "metadata": {
        "id": "x6Ez0gHHW6as"
      },
      "source": [
        "##### Solución"
      ]
    },
    {
      "cell_type": "code",
      "metadata": {
        "id": "iasQiclSNgxb"
      },
      "source": [
        "def matriz_magica(mat):\n",
        "    N = len(mat)\n",
        "    s = 0\n",
        "    for i in range(0, N) :\n",
        "        s = s + mat[i][i]\n",
        "\n",
        "    s2 = 0\n",
        "    for i in range(0, N) :\n",
        "        s2 = s2 + mat[i][N-i-1]\n",
        " \n",
        "    if(s!=s2) :\n",
        "        return False\n",
        "    \n",
        "\n",
        "    for i in range(0, N) :\n",
        "        fila = 0;    \n",
        "        for j in range(0, N):\n",
        "            fila += mat[i][j]\n",
        "        if fila != s:\n",
        "            return False\n",
        "\n",
        "    for i in range(0, N):\n",
        "        col = 0\n",
        "        for j in range(0, N):\n",
        "            col += mat[j][i]\n",
        "        if s != col:\n",
        "            return False\n",
        "    return True"
      ],
      "execution_count": null,
      "outputs": []
    },
    {
      "cell_type": "code",
      "metadata": {
        "id": "AcVdO99uSJyg"
      },
      "source": [
        "M = [[8, 1, 6], [3, 5, 7], [4, 8, 2]]"
      ],
      "execution_count": null,
      "outputs": []
    },
    {
      "cell_type": "code",
      "metadata": {
        "colab": {
          "base_uri": "https://localhost:8080/"
        },
        "id": "vhzpXVltSYgI",
        "outputId": "a37d1945-b6cf-4619-c7ff-411a75edf08e"
      },
      "source": [
        "matriz_magica(M)"
      ],
      "execution_count": null,
      "outputs": [
        {
          "output_type": "execute_result",
          "data": {
            "text/plain": [
              "False"
            ]
          },
          "metadata": {
            "tags": []
          },
          "execution_count": 31
        }
      ]
    }
  ]
}