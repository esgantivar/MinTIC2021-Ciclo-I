{
  "nbformat": 4,
  "nbformat_minor": 0,
  "metadata": {
    "colab": {
      "name": "Clase 17 Diccionarios.ipynb",
      "provenance": []
    },
    "kernelspec": {
      "name": "python3",
      "display_name": "Python 3.9.1 64-bit ('python@3.9')"
    },
    "language_info": {
      "name": "python",
      "version": "3.9.1"
    },
    "interpreter": {
      "hash": "ac2eaa0ea0ebeafcc7822e65e46aa9d4f966f30b695406963e145ea4a91cd4fc"
    }
  },
  "cells": [
    {
      "cell_type": "markdown",
      "metadata": {
        "id": "Avpnus8iYPfG"
      },
      "source": [
        "## Diccionarios \n",
        "### Estructuras de datos IV"
      ]
    },
    {
      "cell_type": "markdown",
      "metadata": {
        "id": "gYprYYr-UpQz"
      },
      "source": [
        "### Operadores"
      ]
    },
    {
      "cell_type": "markdown",
      "metadata": {
        "id": "F-f30SUpUsFY"
      },
      "source": [
        "#### Unir Diccionarios(update)"
      ]
    },
    {
      "cell_type": "code",
      "metadata": {
        "colab": {
          "base_uri": "https://localhost:8080/"
        },
        "id": "dUj_LhqoUgSj",
        "outputId": "706bebdc-3a70-415c-ab2c-ee991553131c"
      },
      "source": [
        "dict_ports1 = {22:\"SSH\", 80:\"Http\"}\n",
        "dict_ports2 = {53:\"DNS\", 443:\"https\"}\n",
        "print(dict_ports1)\n",
        "dict_ports1.update(dict_ports2)\n",
        "print(dict_ports1)"
      ],
      "execution_count": 1,
      "outputs": [
        {
          "output_type": "stream",
          "name": "stdout",
          "text": [
            "{22: 'SSH', 80: 'Http'}\n{22: 'SSH', 80: 'Http', 53: 'DNS', 443: 'https'}\n"
          ]
        }
      ]
    },
    {
      "cell_type": "markdown",
      "metadata": {
        "id": "D6MjXVqXU0Z4"
      },
      "source": [
        "#### Comparar"
      ]
    },
    {
      "cell_type": "code",
      "metadata": {
        "colab": {
          "base_uri": "https://localhost:8080/"
        },
        "id": "GsM1wkTFU2pi",
        "outputId": "5009ff3a-16c9-4ef5-d6a1-b0260471560a"
      },
      "source": [
        "a = {123:'Rojas', 87:'Rosas'} == {87:'Rosas', 123:\"Rojas\"}\n",
        "print(a)\n",
        "print({'Rosas':123} != {'rosas':123})\n",
        "b = {123:'Rosas', 87:'rojas'} == {'Rosas':123, 87:'rojas'}\n",
        "print(b)"
      ],
      "execution_count": 2,
      "outputs": [
        {
          "output_type": "stream",
          "name": "stdout",
          "text": [
            "True\nTrue\nFalse\n"
          ]
        }
      ]
    },
    {
      "cell_type": "markdown",
      "metadata": {
        "id": "kaeeYAtCVMal"
      },
      "source": [
        "#### Acceder"
      ]
    },
    {
      "cell_type": "code",
      "metadata": {
        "colab": {
          "base_uri": "https://localhost:8080/",
          "height": 223
        },
        "id": "ZT-9vf_PVNkh",
        "outputId": "53908288-1e6b-493a-e964-09e5149b1d33"
      },
      "source": [
        "puertos = {22:'SSH', 23:'Telnet', 80:'HTTP', 3306:'MySQL'}\n",
        "protocolo = puertos[22]\n",
        "print(protocolo)\n",
        "puertos[443]"
      ],
      "execution_count": 3,
      "outputs": [
        {
          "output_type": "stream",
          "name": "stdout",
          "text": [
            "SSH\n"
          ]
        },
        {
          "output_type": "error",
          "ename": "KeyError",
          "evalue": "443",
          "traceback": [
            "\u001b[0;31m---------------------------------------------------------------------------\u001b[0m",
            "\u001b[0;31mKeyError\u001b[0m                                  Traceback (most recent call last)",
            "\u001b[0;32m<ipython-input-3-209f0b8a16a3>\u001b[0m in \u001b[0;36m<module>\u001b[0;34m\u001b[0m\n\u001b[1;32m      2\u001b[0m \u001b[0mprotocolo\u001b[0m \u001b[0;34m=\u001b[0m \u001b[0mpuertos\u001b[0m\u001b[0;34m[\u001b[0m\u001b[0;36m22\u001b[0m\u001b[0;34m]\u001b[0m\u001b[0;34m\u001b[0m\u001b[0;34m\u001b[0m\u001b[0m\n\u001b[1;32m      3\u001b[0m \u001b[0mprint\u001b[0m\u001b[0;34m(\u001b[0m\u001b[0mprotocolo\u001b[0m\u001b[0;34m)\u001b[0m\u001b[0;34m\u001b[0m\u001b[0;34m\u001b[0m\u001b[0m\n\u001b[0;32m----> 4\u001b[0;31m \u001b[0mpuertos\u001b[0m\u001b[0;34m[\u001b[0m\u001b[0;36m443\u001b[0m\u001b[0;34m]\u001b[0m\u001b[0;34m\u001b[0m\u001b[0;34m\u001b[0m\u001b[0m\n\u001b[0m",
            "\u001b[0;31mKeyError\u001b[0m: 443"
          ]
        }
      ]
    },
    {
      "cell_type": "markdown",
      "metadata": {
        "id": "M0G2Aw3eXO07"
      },
      "source": [
        "#### Agregando/Modificando [ ]"
      ]
    },
    {
      "cell_type": "code",
      "metadata": {
        "colab": {
          "base_uri": "https://localhost:8080/"
        },
        "id": "8hGTUFFQXQjh",
        "outputId": "6f992d62-f46f-4667-8768-20b76c40448e"
      },
      "source": [
        "puertos = {80:\"HTTP\", 23:\"SMTP\", 443:\"HTTPS\"}\n",
        "print(puertos)\n",
        "puertos[23] = 'Telnet'\n",
        "print(puertos)\n",
        "puertos[110] = 'POP'\n",
        "print(puertos)"
      ],
      "execution_count": 4,
      "outputs": [
        {
          "output_type": "stream",
          "name": "stdout",
          "text": [
            "{80: 'HTTP', 23: 'SMTP', 443: 'HTTPS'}\n{80: 'HTTP', 23: 'Telnet', 443: 'HTTPS'}\n{80: 'HTTP', 23: 'Telnet', 443: 'HTTPS', 110: 'POP'}\n"
          ]
        }
      ]
    },
    {
      "cell_type": "markdown",
      "metadata": {
        "id": "5cwAFHpYXSkK"
      },
      "source": [
        "#### Eliminando elementos (del)\n"
      ]
    },
    {
      "cell_type": "code",
      "metadata": {
        "colab": {
          "base_uri": "https://localhost:8080/"
        },
        "id": "MqtuYaN9XUiD",
        "outputId": "7f5ce87c-c5c5-4913-c6f7-5ee9b718a14d"
      },
      "source": [
        "puertos = {22:'SSH', 23:'Telnet', 80:'HTTP', 3306:'MySQL'}\n",
        "print(puertos)\n",
        "del puertos[23]\n",
        "print(puertos)"
      ],
      "execution_count": 5,
      "outputs": [
        {
          "output_type": "stream",
          "name": "stdout",
          "text": [
            "{22: 'SSH', 23: 'Telnet', 80: 'HTTP', 3306: 'MySQL'}\n{22: 'SSH', 80: 'HTTP', 3306: 'MySQL'}\n"
          ]
        }
      ]
    },
    {
      "cell_type": "markdown",
      "metadata": {
        "id": "9XoPc99XXYZE"
      },
      "source": [
        "### Diccionarios y estructuras de control"
      ]
    },
    {
      "cell_type": "markdown",
      "metadata": {
        "id": "Dn8iuHLeXebR"
      },
      "source": [
        "####Consultando un diccionario"
      ]
    },
    {
      "cell_type": "code",
      "metadata": {
        "colab": {
          "base_uri": "https://localhost:8080/"
        },
        "id": "E3AaShaZXY8Z",
        "outputId": "7ea39b79-c7d7-49ee-decf-4dcbdb1b953b"
      },
      "source": [
        "puertos = {80:\"HTTP\", 23:\"SMTP\", 443:\"HTTPS\"}\n",
        "if 80 in puertos:\n",
        "    print('yes')\n",
        "if 110 not in puertos:\n",
        "    print('no')\n",
        "else:\n",
        "    print('yes')"
      ],
      "execution_count": 6,
      "outputs": [
        {
          "output_type": "stream",
          "name": "stdout",
          "text": [
            "yes\nno\n"
          ]
        }
      ]
    },
    {
      "cell_type": "markdown",
      "metadata": {
        "id": "imcQSsAtXhFZ"
      },
      "source": [
        "#### Iterando un diccionario (I)"
      ]
    },
    {
      "cell_type": "code",
      "metadata": {
        "colab": {
          "base_uri": "https://localhost:8080/"
        },
        "id": "TjVAWwklXkvY",
        "outputId": "ff193a9b-b546-4ced-80a3-f51389161187"
      },
      "source": [
        "dict_ports = {22:\"SSH\", 23:\"telnet\", 80:\"Http\"}\n",
        "for key in dict_ports:\n",
        "    print(key)"
      ],
      "execution_count": 7,
      "outputs": [
        {
          "output_type": "stream",
          "name": "stdout",
          "text": [
            "22\n23\n80\n"
          ]
        }
      ]
    },
    {
      "cell_type": "markdown",
      "metadata": {
        "id": "XhlSlJTEXlpg"
      },
      "source": [
        "#### Iterando un diccionario (II)"
      ]
    },
    {
      "cell_type": "code",
      "metadata": {
        "colab": {
          "base_uri": "https://localhost:8080/"
        },
        "id": "YwQmBeMPXpR9",
        "outputId": "1ad9106b-e860-4ca0-c5c6-df6b850299f1"
      },
      "source": [
        "dict_ports = {22:\"SSH\", 23:\"telnet\", 80:\"Http\"}\n",
        "for k,v in dict_ports.items():\n",
        "    print(k, '->', v)"
      ],
      "execution_count": 8,
      "outputs": [
        {
          "output_type": "stream",
          "name": "stdout",
          "text": [
            "22 -> SSH\n23 -> telnet\n80 -> Http\n"
          ]
        }
      ]
    },
    {
      "cell_type": "markdown",
      "metadata": {
        "id": "7ADYFS-HXqaJ"
      },
      "source": [
        "### Métodos"
      ]
    },
    {
      "cell_type": "markdown",
      "metadata": {
        "id": "m-s4lnTHXwIs"
      },
      "source": [
        "####Longitud (len)\n"
      ]
    },
    {
      "cell_type": "code",
      "metadata": {
        "colab": {
          "base_uri": "https://localhost:8080/"
        },
        "id": "PVqWb_75Xvhd",
        "outputId": "7612ba60-484a-4cd3-f0b3-6a2027498ce7"
      },
      "source": [
        "puertos = {80:\"HTTP\", 23:\"SMTP\", 443:\"HTTPS\"}\n",
        "print(len(puertos))"
      ],
      "execution_count": 9,
      "outputs": [
        {
          "output_type": "stream",
          "name": "stdout",
          "text": [
            "3\n"
          ]
        }
      ]
    },
    {
      "cell_type": "markdown",
      "metadata": {
        "id": "adRyX99JX1NA"
      },
      "source": [
        "#### Obteniendo valores (get)"
      ]
    },
    {
      "cell_type": "code",
      "metadata": {
        "colab": {
          "base_uri": "https://localhost:8080/"
        },
        "id": "Uyfq-FznX1SG",
        "outputId": "35fa166f-0ed5-451d-c09a-ab632ac1df18"
      },
      "source": [
        "dict1 = {'a':1, 'b':2, 'c':3}\n",
        "print(dict1.get('a'))\n",
        "print(dict1.get('d', 'clave no encontrada.'))"
      ],
      "execution_count": 12,
      "outputs": [
        {
          "output_type": "stream",
          "name": "stdout",
          "text": [
            "1\nclave no encontrada.\n"
          ]
        }
      ]
    },
    {
      "cell_type": "markdown",
      "metadata": {
        "id": "5oP0CBuKX5ME"
      },
      "source": [
        "#### Máximo y mínimo (max, min)"
      ]
    },
    {
      "cell_type": "code",
      "metadata": {
        "colab": {
          "base_uri": "https://localhost:8080/"
        },
        "id": "-ZkrKEpaX5QT",
        "outputId": "8e1b277f-01a3-4b58-a288-0d8cdd3088f2"
      },
      "source": [
        "puertos = {80:\"HTTP\", 23:\"SMTP\", 443:\"HTTPS\"}\n",
        "print(max(puertos))\n",
        "print(min(puertos))"
      ],
      "execution_count": 13,
      "outputs": [
        {
          "output_type": "stream",
          "name": "stdout",
          "text": [
            "443\n23\n"
          ]
        }
      ]
    },
    {
      "cell_type": "markdown",
      "metadata": {
        "id": "HDgkhizMX8Jx"
      },
      "source": [
        "#### Listas de claves y valores (keys, values)"
      ]
    },
    {
      "cell_type": "code",
      "metadata": {
        "colab": {
          "base_uri": "https://localhost:8080/"
        },
        "id": "nqlvYj25X8OF",
        "outputId": "ced98f6f-6fd3-44bd-bf50-e3a54adbc486"
      },
      "source": [
        "dict1 = {'a':1, 'b':2, 'c':3}\n",
        "print(list(dict1.keys()))\n",
        "print(list(dict1.values()))"
      ],
      "execution_count": 14,
      "outputs": [
        {
          "output_type": "stream",
          "name": "stdout",
          "text": [
            "['a', 'b', 'c']\n[1, 2, 3]\n"
          ]
        }
      ]
    },
    {
      "cell_type": "markdown",
      "metadata": {
        "id": "ESenEJ3rYAjK"
      },
      "source": [
        "#### Convertir a diccionarios"
      ]
    },
    {
      "cell_type": "code",
      "metadata": {
        "colab": {
          "base_uri": "https://localhost:8080/"
        },
        "id": "rxN2f23nYAnj",
        "outputId": "7898e6a5-cc83-4135-97e3-f3735cb3fb12"
      },
      "source": [
        "puertos = [[80, \"http\"], [20, \"ftp\"], [23, \"telnet\"]]\n",
        "d_port = dict(puertos)\n",
        "print(d_port)\n",
        "puertos = [(20, \"ftp\"), (80, \"http\"), (23, \"telnet\")]\n",
        "d_port = dict(puertos)\n",
        "print(d_port)"
      ],
      "execution_count": 15,
      "outputs": [
        {
          "output_type": "stream",
          "name": "stdout",
          "text": [
            "{80: 'http', 20: 'ftp', 23: 'telnet'}\n{20: 'ftp', 80: 'http', 23: 'telnet'}\n"
          ]
        }
      ]
    },
    {
      "cell_type": "markdown",
      "metadata": {
        "id": "usMgTC_CYDHu"
      },
      "source": [
        "#### Eliminar entradas (clear)"
      ]
    },
    {
      "cell_type": "code",
      "metadata": {
        "colab": {
          "base_uri": "https://localhost:8080/"
        },
        "id": "M4qmMlcWYDNP",
        "outputId": "4bd2b76f-5e37-4c98-995a-d3762b99c8a2"
      },
      "source": [
        "dict_ports = {22:\"SSH\", 23:\"telnet\", 80:\"Http\"}\n",
        "print(dict_ports)\n",
        "dict_ports.clear()\n",
        "print(dict_ports)"
      ],
      "execution_count": 16,
      "outputs": [
        {
          "output_type": "stream",
          "name": "stdout",
          "text": [
            "{22: 'SSH', 23: 'telnet', 80: 'Http'}\n{}\n"
          ]
        }
      ]
    },
    {
      "cell_type": "markdown",
      "metadata": {
        "id": "v2djiUkgYGvN"
      },
      "source": [
        "#### Copiar diccionarios (copy)"
      ]
    },
    {
      "cell_type": "code",
      "metadata": {
        "colab": {
          "base_uri": "https://localhost:8080/"
        },
        "id": "nIi1u3RsYGzw",
        "outputId": "cbd9d7cd-9691-44c6-f3eb-1fd71ea68d13"
      },
      "source": [
        "port = {80:\"HTTP\", 23:\"SMTP\", 443:\"HTTPS\"}\n",
        "copy_port = port.copy()\n",
        "false_copy = port\n",
        "print(port)\n",
        "print(copy_port)\n",
        "print(false_copy)"
      ],
      "execution_count": 17,
      "outputs": [
        {
          "output_type": "stream",
          "name": "stdout",
          "text": [
            "{80: 'HTTP', 23: 'SMTP', 443: 'HTTPS'}\n{80: 'HTTP', 23: 'SMTP', 443: 'HTTPS'}\n{80: 'HTTP', 23: 'SMTP', 443: 'HTTPS'}\n"
          ]
        }
      ]
    },
    {
      "cell_type": "markdown",
      "metadata": {
        "id": "tKPnPZS0YZaK"
      },
      "source": [
        "### Problemas"
      ]
    },
    {
      "cell_type": "markdown",
      "metadata": {
        "id": "y2Vu3PtOYdV7"
      },
      "source": [
        "#### 1\n",
        "Desarrollar un algoritmo que imprima de manera ascendente los valores (todos del mismo tipo) de un diccionario."
      ]
    },
    {
      "cell_type": "code",
      "metadata": {
        "id": "1Al8B_M7Y9Il"
      },
      "source": [
        "d = {\n",
        "    'a': 1,\n",
        "    'b': 15,\n",
        "    'c': 6\n",
        "}\n",
        "d"
      ],
      "execution_count": 21,
      "outputs": [
        {
          "output_type": "execute_result",
          "data": {
            "text/plain": [
              "{'a': 1, 'b': 15, 'c': 6}"
            ]
          },
          "metadata": {},
          "execution_count": 21
        }
      ]
    },
    {
      "cell_type": "code",
      "execution_count": 22,
      "metadata": {},
      "outputs": [
        {
          "output_type": "stream",
          "name": "stdout",
          "text": [
            "[1, 6, 15]\n"
          ]
        }
      ],
      "source": [
        "values = []\n",
        "for key, value in d.items():\n",
        "    values.append(value)\n",
        "values.sort()\n",
        "print(values)"
      ]
    },
    {
      "cell_type": "markdown",
      "metadata": {
        "id": "v2b9JeV6Ydli"
      },
      "source": [
        "#### 2\n",
        "Desarrollar un algoritmo que verifique si todas las clave:valor de un diccionario se encuentran en otro diccionario."
      ]
    },
    {
      "cell_type": "code",
      "metadata": {
        "id": "ZgdddcVSY9jT"
      },
      "source": [
        "a = {\n",
        "    1: 'pedro',\n",
        "    2: 'juan',\n",
        "    4: 'pepe'\n",
        "}\n",
        "\n",
        "b = {\n",
        "    1: 'pedro',\n",
        "    2: 'juan',\n",
        "    3: 'alex',\n",
        "    4: 'pepes'\n",
        "}"
      ],
      "execution_count": 53,
      "outputs": []
    },
    {
      "cell_type": "code",
      "execution_count": 54,
      "metadata": {},
      "outputs": [],
      "source": [
        "def verificar_diccionarios(a, b):\n",
        "    flag = True\n",
        "    for key, value in a.items():\n",
        "        flag = flag and (b.get(key) == value)\n",
        "    return flag"
      ]
    },
    {
      "cell_type": "code",
      "execution_count": 55,
      "metadata": {},
      "outputs": [
        {
          "output_type": "execute_result",
          "data": {
            "text/plain": [
              "True"
            ]
          },
          "metadata": {},
          "execution_count": 55
        }
      ],
      "source": [
        "verificar_diccionarios(a, b)"
      ]
    },
    {
      "cell_type": "markdown",
      "metadata": {
        "id": "SPVHH7VfYrCg"
      },
      "source": [
        "#### 3\n",
        "Desarrollar una función que reciba dos diccionarios como parámetros y los mezcle, es decir, que se construya un nuevo diccionario con las llaves de los dos diccionarios; si hay una clave repetida en ambos diccionarios, se debe asignar el valor que tenga la clave en el primer diccionario."
      ]
    },
    {
      "cell_type": "code",
      "metadata": {
        "id": "8eHCx1MPY-Dz"
      },
      "source": [
        "a = {\n",
        "    1: 'pedro',\n",
        "    2: 'juan',\n",
        "    4: 'pepe'\n",
        "}\n",
        "\n",
        "b = {\n",
        "    1: 'pedro',\n",
        "    2: 'juan',\n",
        "    3: 'alex',\n",
        "    4: 'pepes'\n",
        "}"
      ],
      "execution_count": 56,
      "outputs": []
    },
    {
      "cell_type": "code",
      "execution_count": 59,
      "metadata": {},
      "outputs": [],
      "source": [
        "def mezclar(a, b):\n",
        "    c = {}\n",
        "    for key, value in b.items():\n",
        "        c[key] = value\n",
        "    for key, value in a.items():\n",
        "        c[key] = value\n",
        "    return c"
      ]
    },
    {
      "cell_type": "code",
      "execution_count": 60,
      "metadata": {},
      "outputs": [
        {
          "output_type": "execute_result",
          "data": {
            "text/plain": [
              "{1: 'pedro', 2: 'juan', 3: 'alex', 4: 'pepe'}"
            ]
          },
          "metadata": {},
          "execution_count": 60
        }
      ],
      "source": [
        "mezclar(a, b)"
      ]
    },
    {
      "cell_type": "markdown",
      "metadata": {
        "id": "p7SJnjzRYdzD"
      },
      "source": [
        "#### 4\n",
        "Desarrollar un programa que dada una listas de personas, cada persona representada como el siguiente ejemplo: \n",
        "\n",
        "`\n",
        "{\"nombres\":\"Pedro Julio\", \"apellidos\":\"Tristán Merchán\", \"edad\":101}\n",
        "` \n",
        "\n",
        "imprima los nombres y apellidos de las personas que están en un rango de edades."
      ]
    },
    {
      "source": [
        "##### Solución"
      ],
      "cell_type": "markdown",
      "metadata": {}
    },
    {
      "cell_type": "code",
      "metadata": {
        "colab": {
          "base_uri": "https://localhost:8080/"
        },
        "id": "gzCNYBDYY_rG",
        "outputId": "1c58fdad-a57b-4f88-cc13-9bf6dd69b45c"
      },
      "source": [
        "l = [{\n",
        "    \"nombres\": \"Pedro Julio\",\n",
        "    \"apellidos\": \"Tristán Merchán\",\n",
        "    \"edad\": 28\n",
        "    },{\n",
        "    \"nombres\": \"Andrés\",\n",
        "    \"apellidos\": \"Perez\",\n",
        "    \"edad\": 12\n",
        "    },{\n",
        "    \"nombres\": \"Juliana\",\n",
        "    \"apellidos\": \"Castillo\",\n",
        "    \"edad\": 23\n",
        "    }]\n",
        "l"
      ],
      "execution_count": 18,
      "outputs": [
        {
          "output_type": "execute_result",
          "data": {
            "text/plain": [
              "[{'nombres': 'Pedro Julio', 'apellidos': 'Tristán Merchán', 'edad': 28},\n",
              " {'nombres': 'Andrés', 'apellidos': 'Perez', 'edad': 12},\n",
              " {'nombres': 'Juliana', 'apellidos': 'Castillo', 'edad': 23}]"
            ]
          },
          "metadata": {},
          "execution_count": 18
        }
      ]
    },
    {
      "cell_type": "code",
      "metadata": {
        "id": "-Cz9Tyu6Z6uh"
      },
      "source": [
        "def mostrar_diccionario(rango_edad, lista):\n",
        "  c = 0\n",
        "  for elemento in lista:\n",
        "    if rango_edad['min'] <= elemento['edad'] <= rango_edad['max']:\n",
        "      c += 1\n",
        "      print(elemento['nombres'], elemento['apellidos'], sep=' ')\n",
        "  if c == 0:\n",
        "    print('No existen elementos con este rango de edad')"
      ],
      "execution_count": 19,
      "outputs": []
    },
    {
      "cell_type": "code",
      "metadata": {
        "colab": {
          "base_uri": "https://localhost:8080/"
        },
        "id": "WsC3TLVPZoRg",
        "outputId": "93d7b881-d90a-436b-bcf8-7be1050df69a"
      },
      "source": [
        "e_min = int(input(\"Ingrese la edad minima: \"))\n",
        "e_max = int(input(\"Ingrese la edad maxima: \"))\n",
        "mostrar_diccionario({\n",
        "    'min': e_min,\n",
        "    'max': e_max\n",
        "}, l)"
      ],
      "execution_count": 20,
      "outputs": [
        {
          "output_type": "stream",
          "name": "stdout",
          "text": [
            "Andrés Perez\nJuliana Castillo\n"
          ]
        }
      ]
    }
  ]
}