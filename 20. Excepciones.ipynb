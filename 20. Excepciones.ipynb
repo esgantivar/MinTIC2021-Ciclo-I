{
  "nbformat": 4,
  "nbformat_minor": 0,
  "metadata": {
    "colab": {
      "name": "20. Excepciones.ipynb",
      "provenance": []
    },
    "interpreter": {
      "hash": "31f2aee4e71d21fbe5cf8b01ff0e069b9275f58929596ceb00d14d90e3e16cd6"
    },
    "kernelspec": {
      "display_name": "Python 3.8.2 64-bit",
      "name": "python3"
    },
    "language_info": {
      "name": "python",
      "version": ""
    }
  },
  "cells": [
    {
      "cell_type": "markdown",
      "metadata": {
        "id": "U084cj8pcRcc"
      },
      "source": [
        "# Manejo de Excepciones en python"
      ]
    },
    {
      "cell_type": "markdown",
      "metadata": {
        "id": "1p5fqo6PcRcw"
      },
      "source": [
        "Programar el decirle al computador que haga lo que uno necesita que éste haga. Para esto se utilizan librerías y operaciones preexistentes o se escribe código nuevo.\n",
        "\n",
        "Dependiendo del problema pueden presentarse situaciones excepcionales que incluyen valores de entrada no válidos o situaciones que afectan el flujo ideal del programa interrumpiendo su ejecución.\n",
        "\n",
        "Es posible detectar esos errores en tiempo de ejecución y tratarlos mediante el manejo de excepciones.\n",
        "\n",
        "Se tiene el siguiente código que divide dos números enteros:"
      ]
    },
    {
      "cell_type": "code",
      "metadata": {
        "id": "6sgRArYlcRcw",
        "outputId": "dacffcaf-71de-4532-c7a9-1ab249e18ffc",
        "colab": {
          "base_uri": "https://localhost:8080/",
          "height": 349
        }
      },
      "source": [
        "def division(a, b):\n",
        "    coc = a//b\n",
        "    res = a % b\n",
        "    return (coc, res)\n",
        "\n",
        "division(4,5)\n",
        "\n",
        "print(division(10, 0))\n",
        "print(division(1024,10))"
      ],
      "execution_count": 12,
      "outputs": [
        {
          "output_type": "error",
          "ename": "ZeroDivisionError",
          "evalue": "ignored",
          "traceback": [
            "\u001b[0;31m---------------------------------------------------------------------------\u001b[0m",
            "\u001b[0;31mZeroDivisionError\u001b[0m                         Traceback (most recent call last)",
            "\u001b[0;32m<ipython-input-12-af58c2d4968e>\u001b[0m in \u001b[0;36m<module>\u001b[0;34m()\u001b[0m\n\u001b[1;32m      6\u001b[0m \u001b[0mdivision\u001b[0m\u001b[0;34m(\u001b[0m\u001b[0;36m4\u001b[0m\u001b[0;34m,\u001b[0m\u001b[0;36m5\u001b[0m\u001b[0;34m)\u001b[0m\u001b[0;34m\u001b[0m\u001b[0;34m\u001b[0m\u001b[0m\n\u001b[1;32m      7\u001b[0m \u001b[0;34m\u001b[0m\u001b[0m\n\u001b[0;32m----> 8\u001b[0;31m \u001b[0mprint\u001b[0m\u001b[0;34m(\u001b[0m\u001b[0mdivision\u001b[0m\u001b[0;34m(\u001b[0m\u001b[0;36m10\u001b[0m\u001b[0;34m,\u001b[0m \u001b[0;36m0\u001b[0m\u001b[0;34m)\u001b[0m\u001b[0;34m)\u001b[0m\u001b[0;34m\u001b[0m\u001b[0;34m\u001b[0m\u001b[0m\n\u001b[0m\u001b[1;32m      9\u001b[0m \u001b[0mprint\u001b[0m\u001b[0;34m(\u001b[0m\u001b[0mdivision\u001b[0m\u001b[0;34m(\u001b[0m\u001b[0;36m1024\u001b[0m\u001b[0;34m,\u001b[0m\u001b[0;36m10\u001b[0m\u001b[0;34m)\u001b[0m\u001b[0;34m)\u001b[0m\u001b[0;34m\u001b[0m\u001b[0;34m\u001b[0m\u001b[0m\n",
            "\u001b[0;32m<ipython-input-12-af58c2d4968e>\u001b[0m in \u001b[0;36mdivision\u001b[0;34m(a, b)\u001b[0m\n\u001b[1;32m      1\u001b[0m \u001b[0;32mdef\u001b[0m \u001b[0mdivision\u001b[0m\u001b[0;34m(\u001b[0m\u001b[0ma\u001b[0m\u001b[0;34m,\u001b[0m \u001b[0mb\u001b[0m\u001b[0;34m)\u001b[0m\u001b[0;34m:\u001b[0m\u001b[0;34m\u001b[0m\u001b[0;34m\u001b[0m\u001b[0m\n\u001b[0;32m----> 2\u001b[0;31m     \u001b[0mcoc\u001b[0m \u001b[0;34m=\u001b[0m \u001b[0ma\u001b[0m\u001b[0;34m//\u001b[0m\u001b[0mb\u001b[0m\u001b[0;34m\u001b[0m\u001b[0;34m\u001b[0m\u001b[0m\n\u001b[0m\u001b[1;32m      3\u001b[0m     \u001b[0mres\u001b[0m \u001b[0;34m=\u001b[0m \u001b[0ma\u001b[0m \u001b[0;34m%\u001b[0m \u001b[0mb\u001b[0m\u001b[0;34m\u001b[0m\u001b[0;34m\u001b[0m\u001b[0m\n\u001b[1;32m      4\u001b[0m     \u001b[0;32mreturn\u001b[0m \u001b[0;34m(\u001b[0m\u001b[0mcoc\u001b[0m\u001b[0;34m,\u001b[0m \u001b[0mres\u001b[0m\u001b[0;34m)\u001b[0m\u001b[0;34m\u001b[0m\u001b[0;34m\u001b[0m\u001b[0m\n\u001b[1;32m      5\u001b[0m \u001b[0;34m\u001b[0m\u001b[0m\n",
            "\u001b[0;31mZeroDivisionError\u001b[0m: integer division or modulo by zero"
          ]
        }
      ]
    },
    {
      "cell_type": "markdown",
      "metadata": {
        "id": "SDiY4ZVmcRcx"
      },
      "source": [
        "Este error puede ser tratado como se muestra a continuación:\n"
      ]
    },
    {
      "cell_type": "code",
      "metadata": {
        "id": "5nTsCP-mcRcx"
      },
      "source": [
        "def division(a, b):\n",
        "    try:\n",
        "        coc = a//b\n",
        "        res = a % b\n",
        "        return (coc, res)\n",
        "    except ZeroDivisionError:\n",
        "        print(f'Error en la división de {a} entre {b}')\n",
        "        return ''"
      ],
      "execution_count": 8,
      "outputs": []
    },
    {
      "cell_type": "markdown",
      "metadata": {
        "id": "LqyhkkaIcRcx"
      },
      "source": [
        "Una situación alterna no esperada puede ser la siguiente:"
      ]
    },
    {
      "cell_type": "code",
      "metadata": {
        "id": "RKplY0k1cRcx",
        "outputId": "584100b8-7196-4696-8856-1feda6163c01",
        "colab": {
          "base_uri": "https://localhost:8080/",
          "height": 295
        }
      },
      "source": [
        "division(10, 0)\n"
      ],
      "execution_count": 13,
      "outputs": [
        {
          "output_type": "error",
          "ename": "ZeroDivisionError",
          "evalue": "ignored",
          "traceback": [
            "\u001b[0;31m---------------------------------------------------------------------------\u001b[0m",
            "\u001b[0;31mZeroDivisionError\u001b[0m                         Traceback (most recent call last)",
            "\u001b[0;32m<ipython-input-13-0b582b2e8bb4>\u001b[0m in \u001b[0;36m<module>\u001b[0;34m()\u001b[0m\n\u001b[0;32m----> 1\u001b[0;31m \u001b[0mdivision\u001b[0m\u001b[0;34m(\u001b[0m\u001b[0;36m10\u001b[0m\u001b[0;34m,\u001b[0m \u001b[0;36m0\u001b[0m\u001b[0;34m)\u001b[0m\u001b[0;34m\u001b[0m\u001b[0;34m\u001b[0m\u001b[0m\n\u001b[0m",
            "\u001b[0;32m<ipython-input-12-af58c2d4968e>\u001b[0m in \u001b[0;36mdivision\u001b[0;34m(a, b)\u001b[0m\n\u001b[1;32m      1\u001b[0m \u001b[0;32mdef\u001b[0m \u001b[0mdivision\u001b[0m\u001b[0;34m(\u001b[0m\u001b[0ma\u001b[0m\u001b[0;34m,\u001b[0m \u001b[0mb\u001b[0m\u001b[0;34m)\u001b[0m\u001b[0;34m:\u001b[0m\u001b[0;34m\u001b[0m\u001b[0;34m\u001b[0m\u001b[0m\n\u001b[0;32m----> 2\u001b[0;31m     \u001b[0mcoc\u001b[0m \u001b[0;34m=\u001b[0m \u001b[0ma\u001b[0m\u001b[0;34m//\u001b[0m\u001b[0mb\u001b[0m\u001b[0;34m\u001b[0m\u001b[0;34m\u001b[0m\u001b[0m\n\u001b[0m\u001b[1;32m      3\u001b[0m     \u001b[0mres\u001b[0m \u001b[0;34m=\u001b[0m \u001b[0ma\u001b[0m \u001b[0;34m%\u001b[0m \u001b[0mb\u001b[0m\u001b[0;34m\u001b[0m\u001b[0;34m\u001b[0m\u001b[0m\n\u001b[1;32m      4\u001b[0m     \u001b[0;32mreturn\u001b[0m \u001b[0;34m(\u001b[0m\u001b[0mcoc\u001b[0m\u001b[0;34m,\u001b[0m \u001b[0mres\u001b[0m\u001b[0;34m)\u001b[0m\u001b[0;34m\u001b[0m\u001b[0;34m\u001b[0m\u001b[0m\n\u001b[1;32m      5\u001b[0m \u001b[0;34m\u001b[0m\u001b[0m\n",
            "\u001b[0;31mZeroDivisionError\u001b[0m: integer division or modulo by zero"
          ]
        }
      ]
    },
    {
      "cell_type": "code",
      "metadata": {
        "id": "OUMrA27bcRcy",
        "outputId": "6097d25d-fd7e-4fef-bbf3-786b301c103e",
        "colab": {
          "base_uri": "https://localhost:8080/",
          "height": 53
        }
      },
      "source": [
        "division('1024', 10)"
      ],
      "execution_count": 11,
      "outputs": [
        {
          "output_type": "stream",
          "text": [
            "Error en la división de 1024 entre 10\n"
          ],
          "name": "stdout"
        },
        {
          "output_type": "execute_result",
          "data": {
            "application/vnd.google.colaboratory.intrinsic+json": {
              "type": "string"
            },
            "text/plain": [
              "''"
            ]
          },
          "metadata": {
            "tags": []
          },
          "execution_count": 11
        }
      ]
    },
    {
      "cell_type": "markdown",
      "metadata": {
        "id": "YgdjzQV7cRcy"
      },
      "source": [
        "## Sintaxis de las excepciones\n",
        "\n",
        "Una sintaxis más completa es la siguiente:\n",
        "\n",
        "```\n",
        "   try:\n",
        "       aquí van las operaciones\n",
        "   except Exception_name:\n",
        "       aquí se ejecuta esa suite si sucedió la excepción Exception_name\n",
        "   except Exception_name2:\n",
        "       aquí se ejecuta esa suite si sucedió la excepción 2\n",
        "   else:\n",
        "       si no hay excepción se ejecuta esta suite\n",
        "```\n",
        "       "
      ]
    },
    {
      "cell_type": "markdown",
      "metadata": {
        "id": "hjyVnZ8jcRcy"
      },
      "source": [
        "## Excepciones cuando se digita texto en vez de un número\n",
        "\n",
        "Otra situación que puede ocurrir con la división pueden digitar texto en vez de numeros"
      ]
    },
    {
      "cell_type": "code",
      "metadata": {
        "id": "GgRd9cymcRcy",
        "outputId": "87b6ff5e-cd12-4c73-c29f-d9e2ef7e911b",
        "colab": {
          "base_uri": "https://localhost:8080/"
        }
      },
      "source": [
        "def division(a, b):\n",
        "    try:\n",
        "        coc = a//b\n",
        "        res = a % b\n",
        "        return (coc, res)\n",
        "    except:\n",
        "        print('ttt' + 'ppp'\n",
        "        print('Error en la división de {} entre {}:{}'.format(a, b,1))\n",
        "        print(f'tttt {\"rr\"}')\n",
        "\n",
        "\n",
        "def main():\n",
        "  try:\n",
        "    num = int(input('digite el dividendo: '))\n",
        "    div = int(input('digite el divisor: '))\n",
        "    print(division(num, div))\n",
        "  except ValueError:\n",
        "    print('valores invalidos')\n",
        "\n",
        "main() #posibles errores incluyen digitar texto en num o div, o definir div = 0\n"
      ],
      "execution_count": 19,
      "outputs": [
        {
          "output_type": "stream",
          "text": [
            "digite el dividendo: tt\n",
            "valores invalidos\n"
          ],
          "name": "stdout"
        }
      ]
    },
    {
      "cell_type": "markdown",
      "metadata": {
        "id": "HmKTfxTLcRcz"
      },
      "source": [
        "Esto se puede tratar capturando la excepción `ValueError`"
      ]
    },
    {
      "cell_type": "code",
      "metadata": {
        "id": "qbRY4IIUcRcz"
      },
      "source": [
        "def division(a, b):\n",
        "    try:\n",
        "        coc = a//b\n",
        "        res = a % b\n",
        "        print(coc, res)\n",
        "    except ZeroDivisionError:\n",
        "        print('La división por cero no está definida.')\n",
        "    except TypeError:\n",
        "        print('Los datos son invalidos')\n",
        "    finally:\n",
        "        print('finally')\n",
        "\n",
        "def main():\n",
        "    try:\n",
        "        num = int(input('digite el dividendo: '))\n",
        "        div = int(input('digite el divisor: '))\n",
        "        print(division(num, div))\n",
        "    except ValueError:\n",
        "        print('El valor digitado no es entero.')\n",
        "\n",
        "#main()"
      ],
      "execution_count": 42,
      "outputs": []
    },
    {
      "cell_type": "code",
      "metadata": {
        "id": "WaLRNOmkiDjE",
        "outputId": "c4c0a74f-6438-4b6b-aa50-963b52a1ddfb",
        "colab": {
          "base_uri": "https://localhost:8080/",
          "height": 313
        }
      },
      "source": [
        "division(90, 'p')"
      ],
      "execution_count": 41,
      "outputs": [
        {
          "output_type": "stream",
          "text": [
            "finally\n"
          ],
          "name": "stdout"
        },
        {
          "output_type": "error",
          "ename": "TypeError",
          "evalue": "ignored",
          "traceback": [
            "\u001b[0;31m---------------------------------------------------------------------------\u001b[0m",
            "\u001b[0;31mTypeError\u001b[0m                                 Traceback (most recent call last)",
            "\u001b[0;32m<ipython-input-41-5610585e2013>\u001b[0m in \u001b[0;36m<module>\u001b[0;34m()\u001b[0m\n\u001b[0;32m----> 1\u001b[0;31m \u001b[0mdivision\u001b[0m\u001b[0;34m(\u001b[0m\u001b[0;36m90\u001b[0m\u001b[0;34m,\u001b[0m \u001b[0;34m'p'\u001b[0m\u001b[0;34m)\u001b[0m\u001b[0;34m\u001b[0m\u001b[0;34m\u001b[0m\u001b[0m\n\u001b[0m",
            "\u001b[0;32m<ipython-input-40-40dd67288abd>\u001b[0m in \u001b[0;36mdivision\u001b[0;34m(a, b)\u001b[0m\n\u001b[1;32m      1\u001b[0m \u001b[0;32mdef\u001b[0m \u001b[0mdivision\u001b[0m\u001b[0;34m(\u001b[0m\u001b[0ma\u001b[0m\u001b[0;34m,\u001b[0m \u001b[0mb\u001b[0m\u001b[0;34m)\u001b[0m\u001b[0;34m:\u001b[0m\u001b[0;34m\u001b[0m\u001b[0;34m\u001b[0m\u001b[0m\n\u001b[1;32m      2\u001b[0m     \u001b[0;32mtry\u001b[0m\u001b[0;34m:\u001b[0m\u001b[0;34m\u001b[0m\u001b[0;34m\u001b[0m\u001b[0m\n\u001b[0;32m----> 3\u001b[0;31m         \u001b[0mcoc\u001b[0m \u001b[0;34m=\u001b[0m \u001b[0ma\u001b[0m\u001b[0;34m//\u001b[0m\u001b[0mb\u001b[0m\u001b[0;34m\u001b[0m\u001b[0;34m\u001b[0m\u001b[0m\n\u001b[0m\u001b[1;32m      4\u001b[0m         \u001b[0mres\u001b[0m \u001b[0;34m=\u001b[0m \u001b[0ma\u001b[0m \u001b[0;34m%\u001b[0m \u001b[0mb\u001b[0m\u001b[0;34m\u001b[0m\u001b[0;34m\u001b[0m\u001b[0m\n\u001b[1;32m      5\u001b[0m         \u001b[0mprint\u001b[0m\u001b[0;34m(\u001b[0m\u001b[0mcoc\u001b[0m\u001b[0;34m,\u001b[0m \u001b[0mres\u001b[0m\u001b[0;34m)\u001b[0m\u001b[0;34m\u001b[0m\u001b[0;34m\u001b[0m\u001b[0m\n",
            "\u001b[0;31mTypeError\u001b[0m: unsupported operand type(s) for //: 'int' and 'str'"
          ]
        }
      ]
    },
    {
      "cell_type": "markdown",
      "metadata": {
        "id": "6FfgBKq9cRc0"
      },
      "source": [
        "## El bloque finally\n",
        "\n",
        "Se especifica el bloque Finally para determinar acciones que se deben ejecutar sin importar si se produce una excepción o no\n",
        "\n",
        "```\n",
        "try:\n",
        "    #run this action first\n",
        "except:\n",
        "    # Run if exception occurs\n",
        "Finally :\n",
        "    #Always run this code\n",
        "```\n",
        "\n",
        "El orden de ejecución de las excepciones es el siguiente:\n",
        "\n",
        "```try -> except -> else -> finally```\n",
        "\n"
      ]
    },
    {
      "cell_type": "markdown",
      "metadata": {
        "id": "4JCPq2lZcRc0"
      },
      "source": [
        "## Ejemplo"
      ]
    },
    {
      "cell_type": "code",
      "metadata": {
        "id": "VQfW6UcBcRc0",
        "outputId": "df076701-3aed-4721-820d-17d3a80f918b",
        "colab": {
          "base_uri": "https://localhost:8080/"
        }
      },
      "source": [
        "## Finally\n",
        "def f():\n",
        "    try:\n",
        "        num = int(input(\"Ingrese el numero \"))\n",
        "        re = 100/num\n",
        "        print(\"result is \",re)\n",
        "        return ''\n",
        "    except ZeroDivisionError as e:\n",
        "        print(e, type(e))\n",
        "        print(\"Sucedio un error\")\n",
        "    except TypeError as e:\n",
        "        print(e)\n",
        "        print(\"Sucedio otro error\")\n",
        "    except ValueError as e:\n",
        "        print(e, type(e))\n",
        "        print(\"Sucedio otro error 2\")\n",
        "    finally:\n",
        "        pass\n",
        "\n",
        "f()"
      ],
      "execution_count": 68,
      "outputs": [
        {
          "output_type": "stream",
          "text": [
            "Ingrese el numero fsfasdf\n",
            "invalid literal for int() with base 10: 'fsfasdf' <class 'ValueError'>\n",
            "Sucedio otro error 2\n"
          ],
          "name": "stdout"
        }
      ]
    },
    {
      "cell_type": "code",
      "metadata": {
        "id": "sVMos8lPoA5Z"
      },
      "source": [
        ""
      ],
      "execution_count": null,
      "outputs": []
    },
    {
      "cell_type": "markdown",
      "metadata": {
        "id": "ELrCAWUIcRc0"
      },
      "source": [
        "## Capturar excepciones de varios tipos\n",
        "\n",
        "Como es tedioso determinar el tipo de excepción se puede utilizar una sóla línea de código:"
      ]
    },
    {
      "cell_type": "code",
      "metadata": {
        "id": "8rgea85kcRc1",
        "outputId": "a441f5de-e49a-47be-ed27-bf757d66b572",
        "colab": {
          "base_uri": "https://localhost:8080/"
        }
      },
      "source": [
        "try:\n",
        "    num = int(input(\"Enter the number \"))\n",
        "    re = 100/num\n",
        "    print(re)\n",
        "except Exception as e:\n",
        "    print(e, type(e))\n"
      ],
      "execution_count": 64,
      "outputs": [
        {
          "output_type": "stream",
          "text": [
            "Enter the number fhajskldfalsjkd\n",
            "invalid literal for int() with base 10: 'fhajskldfalsjkd' <class 'ValueError'>\n"
          ],
          "name": "stdout"
        }
      ]
    },
    {
      "cell_type": "markdown",
      "metadata": {
        "id": "aoxQ6Jm1cRc2"
      },
      "source": [
        "## Lanzar excepciones \n",
        "Es posible lanzar excepciones utilizando ```raise```:"
      ]
    },
    {
      "cell_type": "code",
      "metadata": {
        "id": "8LSWIcZdcRc2",
        "outputId": "cdd7476c-2c7b-408f-943a-b213eff68ae5",
        "colab": {
          "base_uri": "https://localhost:8080/",
          "height": 241
        }
      },
      "source": [
        "a = 4\n",
        "b = 0\n",
        "if b == 0:\n",
        "  raise Exception()\n",
        "c = a / b\n",
        "print(c)"
      ],
      "execution_count": 74,
      "outputs": [
        {
          "output_type": "error",
          "ename": "Exception",
          "evalue": "ignored",
          "traceback": [
            "\u001b[0;31m---------------------------------------------------------------------------\u001b[0m",
            "\u001b[0;31mException\u001b[0m                                 Traceback (most recent call last)",
            "\u001b[0;32m<ipython-input-74-262d86375c70>\u001b[0m in \u001b[0;36m<module>\u001b[0;34m()\u001b[0m\n\u001b[1;32m      2\u001b[0m \u001b[0mb\u001b[0m \u001b[0;34m=\u001b[0m \u001b[0;36m0\u001b[0m\u001b[0;34m\u001b[0m\u001b[0;34m\u001b[0m\u001b[0m\n\u001b[1;32m      3\u001b[0m \u001b[0;32mif\u001b[0m \u001b[0mb\u001b[0m \u001b[0;34m==\u001b[0m \u001b[0;36m0\u001b[0m\u001b[0;34m:\u001b[0m\u001b[0;34m\u001b[0m\u001b[0;34m\u001b[0m\u001b[0m\n\u001b[0;32m----> 4\u001b[0;31m   \u001b[0;32mraise\u001b[0m \u001b[0mException\u001b[0m\u001b[0;34m(\u001b[0m\u001b[0;34m)\u001b[0m\u001b[0;34m\u001b[0m\u001b[0;34m\u001b[0m\u001b[0m\n\u001b[0m\u001b[1;32m      5\u001b[0m \u001b[0mc\u001b[0m \u001b[0;34m=\u001b[0m \u001b[0ma\u001b[0m \u001b[0;34m/\u001b[0m \u001b[0mb\u001b[0m\u001b[0;34m\u001b[0m\u001b[0;34m\u001b[0m\u001b[0m\n\u001b[1;32m      6\u001b[0m \u001b[0mprint\u001b[0m\u001b[0;34m(\u001b[0m\u001b[0mc\u001b[0m\u001b[0;34m)\u001b[0m\u001b[0;34m\u001b[0m\u001b[0;34m\u001b[0m\u001b[0m\n",
            "\u001b[0;31mException\u001b[0m: "
          ]
        }
      ]
    },
    {
      "cell_type": "code",
      "metadata": {
        "id": "y_rSRcIcqoBH",
        "outputId": "4f282682-9781-4473-96fa-dabc84f7863a",
        "colab": {
          "base_uri": "https://localhost:8080/"
        }
      },
      "source": [
        "d = {'r': 1}\n",
        "d"
      ],
      "execution_count": 75,
      "outputs": [
        {
          "output_type": "execute_result",
          "data": {
            "text/plain": [
              "{'r': 1}"
            ]
          },
          "metadata": {
            "tags": []
          },
          "execution_count": 75
        }
      ]
    },
    {
      "cell_type": "code",
      "metadata": {
        "id": "JLcAyaToqr6i",
        "outputId": "90928cc2-da46-4ba0-df53-c3a0c7a70197",
        "colab": {
          "base_uri": "https://localhost:8080/"
        }
      },
      "source": [
        "try:\n",
        "  print(d['t'])\n",
        "except KeyError as e:\n",
        "  print(e)"
      ],
      "execution_count": 78,
      "outputs": [
        {
          "output_type": "stream",
          "text": [
            "'t'\n"
          ],
          "name": "stdout"
        }
      ]
    },
    {
      "cell_type": "code",
      "metadata": {
        "id": "K0NSrcC9rGwY"
      },
      "source": [
        "import json\n",
        "from json.decoder import JSONDecodeError"
      ],
      "execution_count": 84,
      "outputs": []
    },
    {
      "cell_type": "code",
      "metadata": {
        "id": "Wp61lNt3rIXV"
      },
      "source": [
        "try:\n",
        "  d = json.loads('{\"a\": 1}')\n",
        "except json.decoder.JSONDecodeError as e:\n",
        "  print(e, type(e))"
      ],
      "execution_count": 90,
      "outputs": []
    },
    {
      "cell_type": "markdown",
      "metadata": {
        "id": "wRyIy1bccRc2"
      },
      "source": [
        "## Definiendo mis propias excepciones:\n",
        "\n",
        "Para definir nuestras propias excepciones es necesario crear una clase que hereda de la clase Exception. Por ahora puede verse el ejemplo siguiente como una plantilla pues no se han visto clases:\n"
      ]
    },
    {
      "cell_type": "code",
      "metadata": {
        "id": "8Ju2s3bmcRc2"
      },
      "source": [
        "class NoPuedeDigitarDos(Exception):\n",
        "    def __init__(self, value):\n",
        "        self.value = value\n",
        "        \n",
        "    def __str__(self):\n",
        "        return self.value\n",
        "\n",
        "def main():\n",
        "    try:\n",
        "        num = int(input())\n",
        "        if num == 2:\n",
        "            raise NoPuedeDigitarDos('El usuario digitó 2 y no se puede!')\n",
        "        else:\n",
        "            print('all is well it is not 2')\n",
        "    except NoPuedeDigitarDos as e:\n",
        "        print('nuestra exception', type(e))\n",
        "    except ValueError as e:\n",
        "        print(e, type(e))\n"
      ],
      "execution_count": 103,
      "outputs": []
    },
    {
      "cell_type": "code",
      "metadata": {
        "id": "jroX7Vp7s3q2",
        "outputId": "fe2402d0-14e9-47bc-da3f-056446cce0d4",
        "colab": {
          "base_uri": "https://localhost:8080/",
          "height": 169
        }
      },
      "source": [
        "raise NoPuedeDigitarDosException('.....')"
      ],
      "execution_count": 92,
      "outputs": [
        {
          "output_type": "error",
          "ename": "NoPuedeDigitarDosException",
          "evalue": "ignored",
          "traceback": [
            "\u001b[0;31m---------------------------------------------------------------------------\u001b[0m",
            "\u001b[0;31mNoPuedeDigitarDosException\u001b[0m                Traceback (most recent call last)",
            "\u001b[0;32m<ipython-input-92-9f47003ed0a5>\u001b[0m in \u001b[0;36m<module>\u001b[0;34m()\u001b[0m\n\u001b[0;32m----> 1\u001b[0;31m \u001b[0;32mraise\u001b[0m \u001b[0mNoPuedeDigitarDosException\u001b[0m\u001b[0;34m(\u001b[0m\u001b[0;34m'.....'\u001b[0m\u001b[0;34m)\u001b[0m\u001b[0;34m\u001b[0m\u001b[0;34m\u001b[0m\u001b[0m\n\u001b[0m",
            "\u001b[0;31mNoPuedeDigitarDosException\u001b[0m: ....."
          ]
        }
      ]
    },
    {
      "cell_type": "code",
      "metadata": {
        "id": "htD8OMmutd41",
        "outputId": "bdb4c034-4f2f-4473-bd76-12718822e35a",
        "colab": {
          "base_uri": "https://localhost:8080/"
        }
      },
      "source": [
        "main()"
      ],
      "execution_count": 104,
      "outputs": [
        {
          "output_type": "stream",
          "text": [
            "2\n",
            "nuestra exception <class '__main__.NoPuedeDigitarDos'>\n"
          ],
          "name": "stdout"
        }
      ]
    },
    {
      "cell_type": "markdown",
      "metadata": {
        "id": "GpZdCPiucRc2"
      },
      "source": [
        "\n",
        "## Ejercicio 1\n",
        "\n",
        "Dada la siguiente lista capture la excepción que evita que el usuario acceda a posiciones que no se encuentran definidas en la lista y muestre el mensaje ```Intenta acceder una posición que no está en el arreglo```:"
      ]
    },
    {
      "cell_type": "code",
      "metadata": {
        "id": "dIolCrmCcRc3",
        "outputId": "771f9b18-51f4-460a-d8d7-1ca9a7b5f29f",
        "colab": {
          "base_uri": "https://localhost:8080/",
          "height": 187
        }
      },
      "source": [
        "lista = [1, 2, 3, 4]\n",
        "lista[5]"
      ],
      "execution_count": 105,
      "outputs": [
        {
          "output_type": "error",
          "ename": "IndexError",
          "evalue": "ignored",
          "traceback": [
            "\u001b[0;31m---------------------------------------------------------------------------\u001b[0m",
            "\u001b[0;31mIndexError\u001b[0m                                Traceback (most recent call last)",
            "\u001b[0;32m<ipython-input-105-64245f71fd49>\u001b[0m in \u001b[0;36m<module>\u001b[0;34m()\u001b[0m\n\u001b[1;32m      1\u001b[0m \u001b[0mlista\u001b[0m \u001b[0;34m=\u001b[0m \u001b[0;34m[\u001b[0m\u001b[0;36m1\u001b[0m\u001b[0;34m,\u001b[0m \u001b[0;36m2\u001b[0m\u001b[0;34m,\u001b[0m \u001b[0;36m3\u001b[0m\u001b[0;34m,\u001b[0m \u001b[0;36m4\u001b[0m\u001b[0;34m]\u001b[0m\u001b[0;34m\u001b[0m\u001b[0;34m\u001b[0m\u001b[0m\n\u001b[0;32m----> 2\u001b[0;31m \u001b[0mlista\u001b[0m\u001b[0;34m[\u001b[0m\u001b[0;36m5\u001b[0m\u001b[0;34m]\u001b[0m\u001b[0;34m\u001b[0m\u001b[0;34m\u001b[0m\u001b[0m\n\u001b[0m",
            "\u001b[0;31mIndexError\u001b[0m: list index out of range"
          ]
        }
      ]
    },
    {
      "cell_type": "code",
      "metadata": {
        "id": "yhaVixSAuzFo"
      },
      "source": [
        "try:\n",
        "  lista[-4]\n",
        "except IndexError as e:\n",
        "  print('Intenta acceder una posición que no está en el arreglo')"
      ],
      "execution_count": 115,
      "outputs": []
    },
    {
      "cell_type": "code",
      "metadata": {
        "id": "Uxsx9SmwvFnI"
      },
      "source": [
        "class ErrorEnLista(Exception):\n",
        "    def __init__(self, value):\n",
        "        self.value = value\n",
        "        \n",
        "    def __str__(self):\n",
        "        return self.value"
      ],
      "execution_count": 109,
      "outputs": []
    },
    {
      "cell_type": "code",
      "metadata": {
        "id": "i0cn6q7Xvv_C"
      },
      "source": [
        "indice = 5"
      ],
      "execution_count": 121,
      "outputs": []
    },
    {
      "cell_type": "code",
      "metadata": {
        "id": "XePh4tKNxK6G",
        "outputId": "1494220f-5533-459d-fe19-a816483e5472",
        "colab": {
          "base_uri": "https://localhost:8080/",
          "height": 205
        }
      },
      "source": [
        "if 0 <= indice < len(lista):\n",
        "  print(lista[indice])\n",
        "else:\n",
        "  raise ErrorEnLista('Intenta acceder una posición que no está en el arreglo')"
      ],
      "execution_count": 123,
      "outputs": [
        {
          "output_type": "error",
          "ename": "ErrorEnLista",
          "evalue": "ignored",
          "traceback": [
            "\u001b[0;31m---------------------------------------------------------------------------\u001b[0m",
            "\u001b[0;31mErrorEnLista\u001b[0m                              Traceback (most recent call last)",
            "\u001b[0;32m<ipython-input-123-542d355184a5>\u001b[0m in \u001b[0;36m<module>\u001b[0;34m()\u001b[0m\n\u001b[1;32m      2\u001b[0m   \u001b[0mprint\u001b[0m\u001b[0;34m(\u001b[0m\u001b[0mlista\u001b[0m\u001b[0;34m[\u001b[0m\u001b[0mindice\u001b[0m\u001b[0;34m]\u001b[0m\u001b[0;34m)\u001b[0m\u001b[0;34m\u001b[0m\u001b[0;34m\u001b[0m\u001b[0m\n\u001b[1;32m      3\u001b[0m \u001b[0;32melse\u001b[0m\u001b[0;34m:\u001b[0m\u001b[0;34m\u001b[0m\u001b[0;34m\u001b[0m\u001b[0m\n\u001b[0;32m----> 4\u001b[0;31m   \u001b[0;32mraise\u001b[0m \u001b[0mErrorEnLista\u001b[0m\u001b[0;34m(\u001b[0m\u001b[0;34m'Intenta acceder una posición que no está en el arreglo'\u001b[0m\u001b[0;34m)\u001b[0m\u001b[0;34m\u001b[0m\u001b[0;34m\u001b[0m\u001b[0m\n\u001b[0m",
            "\u001b[0;31mErrorEnLista\u001b[0m: Intenta acceder una posición que no está en el arreglo"
          ]
        }
      ]
    },
    {
      "cell_type": "code",
      "metadata": {
        "id": "rYtZpMzbvQXF",
        "outputId": "5b78c456-0a0c-426e-a874-14a72ba2c276",
        "colab": {
          "base_uri": "https://localhost:8080/"
        }
      },
      "source": [
        "try:\n",
        "  if 0 <= indice < len(lista):\n",
        "    print(lista[indice])\n",
        "  else:\n",
        "    raise ErrorEnLista('Intenta acceder una posición que no está en el arreglo')\n",
        "  print('termina')\n",
        "except ErrorEnLista as e:\n",
        "  print(e)\n",
        "else:\n",
        "  print('else')\n",
        "finally:\n",
        "  print('...')"
      ],
      "execution_count": 122,
      "outputs": [
        {
          "output_type": "stream",
          "text": [
            "Intenta acceder una posición que no está en el arreglo\n"
          ],
          "name": "stdout"
        }
      ]
    },
    {
      "cell_type": "markdown",
      "metadata": {
        "id": "WC8tsFKwcRc3"
      },
      "source": [
        "## Ejercicio 2\n",
        "\n",
        "En el siguiente programa capture la excepción para evitar que un programador sume una cadena de texto a un número y muestre el mensaje ```Los tipos de datos no cuadran para hacer la operación```: "
      ]
    },
    {
      "cell_type": "code",
      "metadata": {
        "id": "JZ7Cv4Y6cRc3"
      },
      "source": [
        "def operar(a, b):\n",
        "    return a+b\n",
        "\n",
        "def main():\n",
        "  try:\n",
        "    a = int(input())\n",
        "    b = 'hola'\n",
        "    operar(a, b)\n",
        "  except Exception as mivariable:\n",
        "    print(mivariable)\n",
        "    print('Los tipos de datos no cuadran para hacer la operación')\n",
        "  print(mivariable)"
      ],
      "execution_count": 143,
      "outputs": []
    },
    {
      "cell_type": "markdown",
      "metadata": {
        "id": "DwMqL21T0uaG"
      },
      "source": [
        ""
      ]
    },
    {
      "cell_type": "code",
      "metadata": {
        "id": "cSFYPZV8z188"
      },
      "source": [
        "import tensorflow as tf"
      ],
      "execution_count": 151,
      "outputs": []
    },
    {
      "cell_type": "code",
      "metadata": {
        "id": "bfhEbtbX0Dm6",
        "outputId": "baa30ede-7132-4e13-ef0c-febf0bf838cd",
        "colab": {
          "base_uri": "https://localhost:8080/"
        }
      },
      "source": [
        ""
      ],
      "execution_count": 148,
      "outputs": [
        {
          "output_type": "execute_result",
          "data": {
            "text/plain": [
              "3.141592653589793"
            ]
          },
          "metadata": {
            "tags": []
          },
          "execution_count": 148
        }
      ]
    },
    {
      "cell_type": "code",
      "metadata": {
        "id": "iOywJGHWxl6I",
        "outputId": "d61b6c8f-3e7e-4b24-ffc6-b98ab6b68e35",
        "colab": {
          "base_uri": "https://localhost:8080/"
        }
      },
      "source": [
        "main()"
      ],
      "execution_count": 144,
      "outputs": [
        {
          "output_type": "stream",
          "text": [
            "2\n",
            "unsupported operand type(s) for +: 'int' and 'str'\n",
            "Los tipos de datos no cuadran para hacer la operación\n"
          ],
          "name": "stdout"
        }
      ]
    },
    {
      "cell_type": "markdown",
      "metadata": {
        "id": "bHD9JBA_cRc3"
      },
      "source": [
        "## Ejercicio 3\n",
        "\n",
        "Capture la excepción que valide cuando se trata de obtener una llave que no se encuentra en un diccionario  y muestre el mensaje ```Intenta acceder una llave que no se encuentra en el diccionario```:\n",
        "\n"
      ]
    },
    {
      "cell_type": "code",
      "metadata": {
        "id": "HxGXv9BVyQMf",
        "outputId": "123a2506-1ee7-425f-9aa0-8c41c09a9f98",
        "colab": {
          "base_uri": "https://localhost:8080/"
        }
      },
      "source": [
        "dict\n",
        "print(dict)\n",
        "dict = {'James': 'Java', 'Dennis' : 'C', 'Das':'Python'}\n",
        "print(dict)"
      ],
      "execution_count": 130,
      "outputs": [
        {
          "output_type": "stream",
          "text": [
            "<class 'dict'>\n",
            "{'James': 'Java', 'Dennis': 'C', 'Das': 'Python'}\n"
          ],
          "name": "stdout"
        }
      ]
    },
    {
      "cell_type": "code",
      "metadata": {
        "id": "u1lPey-NyZhu",
        "outputId": "3b132f9b-1398-45cb-dfc1-7646e23335ef",
        "colab": {
          "base_uri": "https://localhost:8080/",
          "height": 169
        }
      },
      "source": [
        "dict([[1,2]])"
      ],
      "execution_count": 131,
      "outputs": [
        {
          "output_type": "error",
          "ename": "TypeError",
          "evalue": "ignored",
          "traceback": [
            "\u001b[0;31m---------------------------------------------------------------------------\u001b[0m",
            "\u001b[0;31mTypeError\u001b[0m                                 Traceback (most recent call last)",
            "\u001b[0;32m<ipython-input-131-a34a8edc6dbc>\u001b[0m in \u001b[0;36m<module>\u001b[0;34m()\u001b[0m\n\u001b[0;32m----> 1\u001b[0;31m \u001b[0mdict\u001b[0m\u001b[0;34m(\u001b[0m\u001b[0;34m[\u001b[0m\u001b[0;34m[\u001b[0m\u001b[0;36m1\u001b[0m\u001b[0;34m,\u001b[0m\u001b[0;36m2\u001b[0m\u001b[0;34m]\u001b[0m\u001b[0;34m]\u001b[0m\u001b[0;34m)\u001b[0m\u001b[0;34m\u001b[0m\u001b[0;34m\u001b[0m\u001b[0m\n\u001b[0m",
            "\u001b[0;31mTypeError\u001b[0m: 'dict' object is not callable"
          ]
        }
      ]
    },
    {
      "cell_type": "code",
      "metadata": {
        "id": "bh_WVdlncRc4"
      },
      "source": [
        "def main():\n",
        "  try:\n",
        "    d = {'James': 'Java', 'Dennis' : 'C', 'Das':'Python'}\n",
        "    print(d['Ada'])\n",
        "  except KeyError:\n",
        "    print('Intenta acceder una llave que no se encuentra en el diccionario')"
      ],
      "execution_count": 140,
      "outputs": []
    },
    {
      "cell_type": "code",
      "metadata": {
        "id": "Oj8Cle6m0f8o"
      },
      "source": [
        ""
      ],
      "execution_count": null,
      "outputs": []
    },
    {
      "cell_type": "code",
      "metadata": {
        "id": "XAWJWlg4yln9",
        "outputId": "008a06d0-fee2-4465-d373-a181bb7e2350",
        "colab": {
          "base_uri": "https://localhost:8080/"
        }
      },
      "source": [
        "main()"
      ],
      "execution_count": 141,
      "outputs": [
        {
          "output_type": "stream",
          "text": [
            "Intenta acceder una llave que no se encuentra en el diccionario\n"
          ],
          "name": "stdout"
        }
      ]
    },
    {
      "cell_type": "markdown",
      "metadata": {
        "id": "fxxpnxefcRc4"
      },
      "source": [
        "## Ejercicio 4\n",
        "\n",
        "Defina una excepción para impedir que un usuario digite más de 20 caracteres cómo número de teléfono. Adicionalmente identifique flujos excepcionales en el programa y capture las excepciones que pueden ocurrir."
      ]
    },
    {
      "cell_type": "code",
      "metadata": {
        "id": "8LWAI4GL1VVh"
      },
      "source": [
        "class MasDe20(Exception):\n",
        "  def __init__(self, value):\n",
        "    self.value = value\n",
        "        \n",
        "  def __str__(self):\n",
        "    return self.value\n",
        "\n",
        "class NumeroNoValido(Exception):\n",
        "  def __init__(self, value):\n",
        "    self.value = value\n",
        "        \n",
        "  def __str__(self):\n",
        "    return self.value"
      ],
      "execution_count": 156,
      "outputs": []
    },
    {
      "cell_type": "code",
      "metadata": {
        "id": "clcjqVtkcRc4",
        "outputId": "69d2a4ea-7e2f-4eeb-fd15-85af470d64a0",
        "colab": {
          "base_uri": "https://localhost:8080/"
        }
      },
      "source": [
        "agenda = {}\n",
        "\n",
        "def process_numbers(person, number):\n",
        "    agenda[person] = number\n",
        "\n",
        "def main():\n",
        "  try:\n",
        "    n = int(input('Digite el número de contactos:'))\n",
        "    print('Agregando ' + str(n) + ' personas...')\n",
        "    for i in range(n):\n",
        "        nombre = input('Digite el nombre del contacto {}:'.format(i+1))\n",
        "        tmp = input('Digite el número de contacto {}:'.format(i+1))\n",
        "        if len(tmp) > 20:\n",
        "          raise MasDe20('Ingreso mas de 20 caracteres')\n",
        "        numero = int(tmp)\n",
        "        if numero <= 0:\n",
        "          raise NumeroNoValido('El numero ingresado no es valido')\n",
        "        process_numbers(nombre, numero)\n",
        "    print('Así va la agenda:' + str(agenda))\n",
        "  except MasDe20 as e:\n",
        "    print(e)\n",
        "  except NumeroNoValido as e:\n",
        "    print(e)\n",
        "  except ValueError:\n",
        "    print('Ingresaron un valor no valido')\n",
        "\n",
        "main() "
      ],
      "execution_count": 162,
      "outputs": [
        {
          "output_type": "stream",
          "text": [
            "Digite el número de contactos:1\n",
            "Agregando 1 personas...\n",
            "Digite el nombre del contacto 1:dadassd\n",
            "Digite el número de contacto 1:-8\n",
            "El numero ingresado no es valido\n"
          ],
          "name": "stdout"
        }
      ]
    }
  ]
}