{
 "cells": [
  {
   "cell_type": "markdown",
   "metadata": {},
   "source": [
    "# Ejercicios Semana 5"
   ]
  },
  {
   "cell_type": "markdown",
   "metadata": {},
   "source": [
    "## Problemas de diccionarios"
   ]
  },
  {
   "cell_type": "markdown",
   "metadata": {},
   "source": [
    "### 1\n",
    "Desarrollar un algoritmo que imprima de manera ascendente los valores (todos del mismo tipo) de un diccionario."
   ]
  },
  {
   "cell_type": "markdown",
   "metadata": {},
   "source": [
    "### 2\n",
    "Desarrollar un algoritmo que verifique si todas las clave:valor de un diccionario se encuentran en otro diccionario."
   ]
  },
  {
   "cell_type": "markdown",
   "metadata": {},
   "source": [
    "### 3\n",
    "\n",
    "Desarrollar una funci ́on que reciba dos diccionarios como par ́ametros y los mezcle, es decir, que se construya un nuevo diccionario con las llaves de los dos diccionarios; si hay una clave repetida en ambos diccionarios, se debe asignar el valor que tenga la clave en el primer diccionario."
   ]
  },
  {
   "cell_type": "markdown",
   "metadata": {},
   "source": [
    "### 4\n",
    "Desarrollar un programa que dada una listas de personas, cada persona representada como el siguiente ejemplo: {\"nombres\":\"Pedro Julio\", \"apellidos\":\"Trist ́an Merch ́an\", \"edad\":101}, imprima los nombres y apellidos de las personas que est ́an en un rango de edades."
   ]
  },
  {
   "cell_type": "markdown",
   "metadata": {},
   "source": [
    "## Problemas de Archivos"
   ]
  },
  {
   "cell_type": "markdown",
   "metadata": {},
   "source": [
    "### 1\n",
    "\n",
    "Dado el archivo de texto files/SalesJan2009.csv, procese el archivo para obtener las compras realizadas en un pa ́ıs dado."
   ]
  },
  {
   "cell_type": "markdown",
   "metadata": {},
   "source": [
    "### 2\n",
    "Dado el archivo de texto files/SalesJan2009.csv, procese el archivo para obtener las compras realizadas con un medio de pago dado."
   ]
  },
  {
   "cell_type": "markdown",
   "metadata": {},
   "source": [
    "## Problemas JSON"
   ]
  },
  {
   "cell_type": "markdown",
   "metadata": {},
   "source": [
    "```{\n",
    "             \"jadiazcoronado\":{\n",
    "                \"nombres\": \"Juan Antonio\", \"apellidos\": \"D ́ıaz Coronado\", \"edad\":19,\n",
    "                \"colombiano\":true,\n",
    "                \"deportes\":[\"F ́utbol\",\"Ajedrez\",\"Gimnasia\"] },\n",
    "               ...\n",
    "               \"dmlunasol\":{\n",
    "                 \"nombres\": \"Dorotea Maritza\",\n",
    "                 \"apellidos\": \"Luna Sol\",\n",
    "                 \"edad\":25,\n",
    "                 \"colombiano\":false,\n",
    "                \"deportes\":[\"Baloncesto\",\"Ajedrez\",\"Gimnasia\"]\n",
    "               }\n",
    "}```"
   ]
  },
  {
   "cell_type": "markdown",
   "metadata": {},
   "source": [
    "### 1\n",
    "\n",
    "Imprima los nombres completos (nombre y apellidos) de las personas que practican el deporte ingresado por el usuario.\n"
   ]
  },
  {
   "cell_type": "markdown",
   "metadata": {},
   "source": [
    "### 2\n",
    "Imprima los nombres completos (nombre y apellidos) de las personas que est ́en en un rango de edades dado por el usuario."
   ]
  },
  {
   "cell_type": "markdown",
   "metadata": {},
   "source": [
    "### 3\n",
    "Cree un JSON de deportes como sigue:\n",
    "\n",
    "```\n",
    "{\n",
    "  \"Ajedrez\":[\"jadiazcoronado\",...,\"dmlunasol\"],\n",
    "  \"Futbol\":[\"jadiazcoronado\",...],\n",
    "  \"Gimnasia\":[\"jadiazcoronado,...,\"dmlunasol\"],\n",
    "  ...\n",
    "  \"Baloncesto\":[...,\"dmlunasol\"]\n",
    "}"
   ]
  },
  {
   "cell_type": "markdown",
   "metadata": {},
   "source": [
    "### 4.\n",
    "Desarrolle un programa que lea dos archivos JSON, y encuentre los componentes clave:valor que son iguales en ambos. Genere un nuevo archivo JSON con las coincidencias exactas entre los dos archivos."
   ]
  },
  {
   "cell_type": "markdown",
   "metadata": {},
   "source": [
    "### 5.\n",
    "Desarrolle un programa que lea un archivo JSON, en el cual se encuentran las notas de los estudiantes del curso. Cada llave corresponde al código de cada estudiante, y su valor es una lista con las notas obtenidas en las actividades del curso. Se debe generar un nuevo archivo JSON que para uno de los estudiantes solo guarde el promedio de las notas obtenidas."
   ]
  },
  {
   "cell_type": "markdown",
   "metadata": {},
   "source": [
    "## Problemas de Excepciones"
   ]
  },
  {
   "cell_type": "markdown",
   "metadata": {},
   "source": [
    "1. ArithmeticError\n",
    "    * ZeroDivisionError\n",
    "2. TypeError\n",
    "3. ValueError\n",
    "4. LookupError\n",
    "    * IndexError\n",
    "    * KeyError\n",
    "5. NameError\n",
    "6. Import Error\n",
    "    * ModuleNotFoundError\n",
    "7. OSError\n",
    "    * FileNotFoundError\n",
    "    * IsADirectoryError"
   ]
  },
  {
   "cell_type": "code",
   "execution_count": 7,
   "metadata": {},
   "outputs": [
    {
     "name": "stdout",
     "output_type": "stream",
     "text": [
      "Variable no definida\n"
     ]
    }
   ],
   "source": [
    "try:\n",
    "    lista.append(5)\n",
    "except NameError:\n",
    "    print('Variable no definida')"
   ]
  },
  {
   "cell_type": "code",
   "execution_count": 8,
   "metadata": {},
   "outputs": [
    {
     "ename": "FileNotFoundError",
     "evalue": "[Errno 2] No such file or directory: 'juan.txt'",
     "output_type": "error",
     "traceback": [
      "\u001b[0;31m---------------------------------------------------------------------------\u001b[0m",
      "\u001b[0;31mFileNotFoundError\u001b[0m                         Traceback (most recent call last)",
      "\u001b[0;32m<ipython-input-8-44f5668c711d>\u001b[0m in \u001b[0;36m<module>\u001b[0;34m\u001b[0m\n\u001b[0;32m----> 1\u001b[0;31m \u001b[0;32mwith\u001b[0m \u001b[0mopen\u001b[0m\u001b[0;34m(\u001b[0m\u001b[0;34m'juan.txt'\u001b[0m\u001b[0;34m,\u001b[0m \u001b[0;34m'r'\u001b[0m\u001b[0;34m)\u001b[0m \u001b[0;32mas\u001b[0m \u001b[0mf\u001b[0m\u001b[0;34m:\u001b[0m\u001b[0;34m\u001b[0m\u001b[0;34m\u001b[0m\u001b[0m\n\u001b[0m\u001b[1;32m      2\u001b[0m     \u001b[0mprint\u001b[0m\u001b[0;34m(\u001b[0m\u001b[0;34m'juan'\u001b[0m\u001b[0;34m)\u001b[0m\u001b[0;34m\u001b[0m\u001b[0;34m\u001b[0m\u001b[0m\n",
      "\u001b[0;31mFileNotFoundError\u001b[0m: [Errno 2] No such file or directory: 'juan.txt'"
     ]
    }
   ],
   "source": [
    "with open('juan.txt', 'r') as f:\n",
    "    print('juan')"
   ]
  },
  {
   "cell_type": "code",
   "execution_count": 9,
   "metadata": {},
   "outputs": [
    {
     "ename": "IsADirectoryError",
     "evalue": "[Errno 21] Is a directory: 'base'",
     "output_type": "error",
     "traceback": [
      "\u001b[0;31m---------------------------------------------------------------------------\u001b[0m",
      "\u001b[0;31mIsADirectoryError\u001b[0m                         Traceback (most recent call last)",
      "\u001b[0;32m<ipython-input-9-e3c0632c6c6d>\u001b[0m in \u001b[0;36m<module>\u001b[0;34m\u001b[0m\n\u001b[0;32m----> 1\u001b[0;31m \u001b[0;32mwith\u001b[0m \u001b[0mopen\u001b[0m\u001b[0;34m(\u001b[0m\u001b[0;34m'base'\u001b[0m\u001b[0;34m,\u001b[0m \u001b[0;34m'r'\u001b[0m\u001b[0;34m)\u001b[0m \u001b[0;32mas\u001b[0m \u001b[0mf\u001b[0m\u001b[0;34m:\u001b[0m\u001b[0;34m\u001b[0m\u001b[0;34m\u001b[0m\u001b[0m\n\u001b[0m\u001b[1;32m      2\u001b[0m     \u001b[0mprint\u001b[0m\u001b[0;34m(\u001b[0m\u001b[0;34m'acceder a base'\u001b[0m\u001b[0;34m)\u001b[0m\u001b[0;34m\u001b[0m\u001b[0;34m\u001b[0m\u001b[0m\n",
      "\u001b[0;31mIsADirectoryError\u001b[0m: [Errno 21] Is a directory: 'base'"
     ]
    }
   ],
   "source": [
    "with open('base', 'r') as f:\n",
    "    print('acceder a base')"
   ]
  },
  {
   "cell_type": "code",
   "execution_count": 6,
   "metadata": {},
   "outputs": [
    {
     "name": "stdout",
     "output_type": "stream",
     "text": [
      "Mi Mensaje\n",
      "2\n"
     ]
    }
   ],
   "source": [
    "class MiExcepcion(Exception):\n",
    "    def __init__(self, mensaje, informacion):\n",
    "        self.mensaje = mensaje\n",
    "        self.informacion = informacion\n",
    "    \n",
    "try:\n",
    "    raise MiExcepcion(\"Mi Mensaje\",2)\n",
    "except MiExcepcion as e:\n",
    "    print(e.mensaje)\n",
    "    print(e.informacion)"
   ]
  }
 ],
 "metadata": {
  "interpreter": {
   "hash": "aee8b7b246df8f9039afb4144a1f6fd8d2ca17a180786b69acc140d282b71a49"
  },
  "kernelspec": {
   "display_name": "Python 3.9.1 64-bit",
   "name": "python3"
  },
  "language_info": {
   "codemirror_mode": {
    "name": "ipython",
    "version": 3
   },
   "file_extension": ".py",
   "mimetype": "text/x-python",
   "name": "python",
   "nbconvert_exporter": "python",
   "pygments_lexer": "ipython3",
   "version": "3.9.1"
  },
  "orig_nbformat": 4
 },
 "nbformat": 4,
 "nbformat_minor": 2
}