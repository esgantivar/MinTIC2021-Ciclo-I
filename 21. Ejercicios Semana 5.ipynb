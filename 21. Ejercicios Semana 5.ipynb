{
 "cells": [
  {
   "cell_type": "markdown",
   "metadata": {},
   "source": [
    "# Ejercicios Semana 5"
   ]
  },
  {
   "cell_type": "code",
   "execution_count": 34,
   "metadata": {},
   "outputs": [],
   "source": [
    "import json\n",
    "import requests"
   ]
  },
  {
   "cell_type": "markdown",
   "metadata": {},
   "source": [
    "## Problemas de Archivos"
   ]
  },
  {
   "cell_type": "markdown",
   "metadata": {},
   "source": [
    "Dado el archivo de texto files/SalesJan2009.csv:\n",
    "\n",
    "1. Procese el archivo para obtener las compras realizadas en un país dado.\n",
    "2. Procese el archivo para obtener las compras realizadas con un medio de pago dado."
   ]
  },
  {
   "cell_type": "code",
   "execution_count": 23,
   "metadata": {},
   "outputs": [],
   "source": [
    "def read_csv(path):\n",
    "    data = []\n",
    "    with open(path, 'r', encoding=\"utf-8\") as f:\n",
    "        data = f.readlines()\n",
    "    rows = [row.split(',') for row in data]\n",
    "    head = rows.pop(0)\n",
    "    elementos = []\n",
    "    for row in rows:\n",
    "        d = {}\n",
    "        for indice, atributo in enumerate(head):\n",
    "            d[atributo] = row[indice]\n",
    "        elementos.append(d)\n",
    "    return elementos"
   ]
  },
  {
   "cell_type": "code",
   "execution_count": 24,
   "metadata": {},
   "outputs": [],
   "source": [
    "def extract_values(value, match, attribute, items):\n",
    "    find = []\n",
    "    for i in items:\n",
    "        if value == i[match]:\n",
    "            find.append(i[attribute])\n",
    "    return find"
   ]
  },
  {
   "cell_type": "code",
   "execution_count": 29,
   "metadata": {},
   "outputs": [
    {
     "data": {
      "text/plain": [
       "['1200', '1200']"
      ]
     },
     "execution_count": 29,
     "metadata": {},
     "output_type": "execute_result"
    }
   ],
   "source": [
    "filtered = extract_values('France', 'Country', 'Price', read_csv('files/SalesJan2009.csv'))\n",
    "filtered[:2]"
   ]
  },
  {
   "cell_type": "code",
   "execution_count": 26,
   "metadata": {},
   "outputs": [
    {
     "data": {
      "text/plain": [
       "53100.0"
      ]
     },
     "execution_count": 26,
     "metadata": {},
     "output_type": "execute_result"
    }
   ],
   "source": [
    "sum([float(p) for p in filtered])"
   ]
  },
  {
   "cell_type": "code",
   "execution_count": 30,
   "metadata": {},
   "outputs": [
    {
     "data": {
      "text/plain": [
       "['1200', '1200']"
      ]
     },
     "execution_count": 30,
     "metadata": {},
     "output_type": "execute_result"
    }
   ],
   "source": [
    "filtered = extract_values('Diners', 'Payment_Type', 'Price', read_csv('files/SalesJan2009.csv'))\n",
    "filtered[:2]"
   ]
  },
  {
   "cell_type": "code",
   "execution_count": 31,
   "metadata": {},
   "outputs": [
    {
     "data": {
      "text/plain": [
       "133800.0"
      ]
     },
     "execution_count": 31,
     "metadata": {},
     "output_type": "execute_result"
    }
   ],
   "source": [
    "sum([float(p) for p in filtered])"
   ]
  },
  {
   "cell_type": "markdown",
   "metadata": {},
   "source": [
    "## Problemas JSON\n",
    "\n",
    "Usando el API [JSONPlaceholder](https://jsonplaceholder.typicode.com/guide/), realizar las siguientes operaciones\n",
    "\n",
    "1. Consultar los usuarios y crear una lista en donde se muestre el Identificador y el nombre como una cadena de caracteres.\n",
    "2. Consultar todos los posts y crear una lista de diccionarios en donde solo se presente el identificador y el titulo.\n",
    "3. Capturar un identificador ingresado por el usuario y verificar que exista en la lista de usuarios disponibles consultada en el punto 1 y mostrar su información relevante.\n",
    "4. Con el identificador capturado en el punto 3 identificar cuales posts de los consultados en el punto dos le pertenecen al usuario y crear un nuevo diccionario en donde este la información del usuario y un listado de sus posts.\n",
    "5. Guardar el resultado del punto 5 en un archivo JSON\n",
    "6. Capturar un identificador ingresado por el usuario y verificar que exista en la lista de post que se consulto en el punto 2 y consultar los comentarios de este post "
   ]
  },
  {
   "cell_type": "code",
   "execution_count": 39,
   "metadata": {},
   "outputs": [],
   "source": [
    "def consultar_usuarios():\n",
    "    response = requests.get('https://jsonplaceholder.typicode.com/users')\n",
    "    if response.status_code == 200:\n",
    "        return response.json()\n",
    "    else:\n",
    "        raise Exception('No se pudieron consultar los usuarios')\n",
    "        return []\n"
   ]
  },
  {
   "cell_type": "code",
   "execution_count": 45,
   "metadata": {},
   "outputs": [],
   "source": [
    "def consultar_posts():\n",
    "    response = requests.get('https://jsonplaceholder.typicode.com/posts')\n",
    "    if response.status_code == 200:\n",
    "        return response.json()\n",
    "    else:\n",
    "        raise Exception('No se pudieron consultar los posts')\n",
    "        return []"
   ]
  },
  {
   "cell_type": "code",
   "execution_count": 47,
   "metadata": {},
   "outputs": [],
   "source": [
    "def convertir_posts(posts):\n",
    "    items = []\n",
    "    for p in posts:\n",
    "        items.append({\n",
    "            'id': p['id'],\n",
    "            'title': p['title']\n",
    "        })\n",
    "    return items"
   ]
  },
  {
   "cell_type": "code",
   "execution_count": 53,
   "metadata": {},
   "outputs": [
    {
     "data": {
      "text/plain": [
       "[{'id': 1,\n",
       "  'name': 'Leanne Graham',\n",
       "  'username': 'Bret',\n",
       "  'email': 'Sincere@april.biz',\n",
       "  'address': {'street': 'Kulas Light',\n",
       "   'suite': 'Apt. 556',\n",
       "   'city': 'Gwenborough',\n",
       "   'zipcode': '92998-3874',\n",
       "   'geo': {'lat': '-37.3159', 'lng': '81.1496'}},\n",
       "  'phone': '1-770-736-8031 x56442',\n",
       "  'website': 'hildegard.org',\n",
       "  'company': {'name': 'Romaguera-Crona',\n",
       "   'catchPhrase': 'Multi-layered client-server neural-net',\n",
       "   'bs': 'harness real-time e-markets'}},\n",
       " {'id': 2,\n",
       "  'name': 'Ervin Howell',\n",
       "  'username': 'Antonette',\n",
       "  'email': 'Shanna@melissa.tv',\n",
       "  'address': {'street': 'Victor Plains',\n",
       "   'suite': 'Suite 879',\n",
       "   'city': 'Wisokyburgh',\n",
       "   'zipcode': '90566-7771',\n",
       "   'geo': {'lat': '-43.9509', 'lng': '-34.4618'}},\n",
       "  'phone': '010-692-6593 x09125',\n",
       "  'website': 'anastasia.net',\n",
       "  'company': {'name': 'Deckow-Crist',\n",
       "   'catchPhrase': 'Proactive didactic contingency',\n",
       "   'bs': 'synergize scalable supply-chains'}}]"
      ]
     },
     "execution_count": 53,
     "metadata": {},
     "output_type": "execute_result"
    }
   ],
   "source": [
    "consultar_usuarios()[:2]"
   ]
  },
  {
   "cell_type": "code",
   "execution_count": 51,
   "metadata": {},
   "outputs": [
    {
     "data": {
      "text/plain": [
       "[{'id': 1,\n",
       "  'title': 'sunt aut facere repellat provident occaecati excepturi optio reprehenderit'},\n",
       " {'id': 2, 'title': 'qui est esse'}]"
      ]
     },
     "execution_count": 51,
     "metadata": {},
     "output_type": "execute_result"
    }
   ],
   "source": [
    "convertir_posts(consultar_posts())[:2]"
   ]
  },
  {
   "cell_type": "markdown",
   "metadata": {},
   "source": [
    "Alternativa Lambda Function"
   ]
  },
  {
   "cell_type": "code",
   "execution_count": 52,
   "metadata": {},
   "outputs": [
    {
     "data": {
      "text/plain": [
       "[{'id': 1,\n",
       "  'title': 'sunt aut facere repellat provident occaecati excepturi optio reprehenderit'},\n",
       " {'id': 2, 'title': 'qui est esse'}]"
      ]
     },
     "execution_count": 52,
     "metadata": {},
     "output_type": "execute_result"
    }
   ],
   "source": [
    "list(map(lambda p: {'id': p['id'], 'title':p['title']}, consultar_posts()))[:2]"
   ]
  },
  {
   "cell_type": "code",
   "execution_count": 73,
   "metadata": {},
   "outputs": [],
   "source": [
    "class UsuarioNoEncontrado(Exception):\n",
    "    def __init__(self, userId):\n",
    "        self.userId = userId\n",
    "    def __str__(self):\n",
    "        return f\"El usuario: {self.userId} no ha sido encontrado\""
   ]
  },
  {
   "cell_type": "code",
   "execution_count": 93,
   "metadata": {},
   "outputs": [],
   "source": [
    "def consultar_usuario():\n",
    "    try:\n",
    "        userId = int(input('Ingrese el id del usuario que desea buscar: '))\n",
    "        print(userId)\n",
    "        usuarios = consultar_usuarios()\n",
    "        usuario = None\n",
    "        for u in usuarios:\n",
    "            if u['id'] == userId:\n",
    "                usuario = u\n",
    "                break\n",
    "        if not usuario:\n",
    "            raise UsuarioNoEncontrado(userId)\n",
    "        print(f'Nombre: {usuario[\"name\"]}')\n",
    "        print(f'Username: {usuario[\"username\"]}')\n",
    "        print(f'Correo: {usuario[\"email\"]}')\n",
    "    except ValueError:\n",
    "        print('Ingreso un id no valido')\n",
    "        return None\n",
    "    except UsuarioNoEncontrado as e:\n",
    "        print(e)\n",
    "        return None\n",
    "    else:\n",
    "        return usuario\n"
   ]
  },
  {
   "cell_type": "code",
   "execution_count": 83,
   "metadata": {},
   "outputs": [
    {
     "name": "stdout",
     "output_type": "stream",
     "text": [
      "2\n",
      "Nombre: Ervin Howell\n",
      "Username: Antonette\n",
      "Correo: Shanna@melissa.tv\n"
     ]
    },
    {
     "data": {
      "text/plain": [
       "2"
      ]
     },
     "execution_count": 83,
     "metadata": {},
     "output_type": "execute_result"
    }
   ],
   "source": [
    "consultar_usuario()"
   ]
  },
  {
   "cell_type": "code",
   "execution_count": 104,
   "metadata": {},
   "outputs": [],
   "source": [
    "def encontrar_posts():\n",
    "    try:\n",
    "        usuario = consultar_usuario()\n",
    "        if not usuario:\n",
    "            raise UsuarioNoEncontrado()\n",
    "        posts = consultar_posts()\n",
    "\n",
    "        filtrados = list(filter(lambda p:p['userId'] == usuario['id'], posts))\n",
    "        copia = usuario.copy()\n",
    "        copia['posts'] = filtrados\n",
    "        return copia\n",
    "    except UsuarioNoEncontrado as e:\n",
    "        print(e)\n",
    "        return None"
   ]
  },
  {
   "cell_type": "code",
   "execution_count": 106,
   "metadata": {},
   "outputs": [
    {
     "name": "stdout",
     "output_type": "stream",
     "text": [
      "2\n",
      "Nombre: Ervin Howell\n",
      "Username: Antonette\n",
      "Correo: Shanna@melissa.tv\n"
     ]
    }
   ],
   "source": [
    "user = encontrar_posts()"
   ]
  },
  {
   "cell_type": "code",
   "execution_count": 109,
   "metadata": {},
   "outputs": [],
   "source": [
    "def guardar_usuario():\n",
    "    data = encontrar_posts()\n",
    "    with open('json/usuario.json', 'w') as f:\n",
    "        f.write(json.dumps(data, indent=4))"
   ]
  },
  {
   "cell_type": "code",
   "execution_count": 113,
   "metadata": {},
   "outputs": [],
   "source": [
    "def consultar_comentarios_post(postId):\n",
    "    response = requests.get(f'https://jsonplaceholder.typicode.com/posts/{postId}/comments')\n",
    "    if response.status_code != 200:\n",
    "        raise Exception(f'No se pudo consultar los comentarios del post: {postId}')\n",
    "    comments = response.json()\n",
    "    return comments\n",
    "    "
   ]
  },
  {
   "cell_type": "code",
   "execution_count": 122,
   "metadata": {},
   "outputs": [],
   "source": [
    "def consultar_comentarios():\n",
    "    try:\n",
    "        postId = int(input('Ingrese el id del post que desea consultar'))\n",
    "        posts = consultar_posts()\n",
    "        post = None\n",
    "        for p in posts:\n",
    "            if p['id'] == postId:\n",
    "                post = p\n",
    "                break\n",
    "        if not post:\n",
    "            raise Exception('Post no encontrado')\n",
    "        comentarios = consultar_comentarios_post(post['id'])\n",
    "        return comentarios\n",
    "    except ValueError:\n",
    "        print('El id del post es invalido')\n",
    "        return []\n",
    "    except Exception as e:\n",
    "        print(e)\n",
    "        return []\n",
    "    \n"
   ]
  },
  {
   "cell_type": "code",
   "execution_count": 124,
   "metadata": {},
   "outputs": [
    {
     "data": {
      "text/plain": [
       "[{'postId': 15,\n",
       "  'id': 71,\n",
       "  'name': 'vel pariatur perferendis vero ab aut voluptates labore',\n",
       "  'email': 'Lavinia@lafayette.me',\n",
       "  'body': 'mollitia magnam et\\nipsum consequatur est expedita\\naut rem ut ex doloremque est vitae est\\ncumque velit recusandae numquam libero dolor fuga fugit a'},\n",
       " {'postId': 15,\n",
       "  'id': 72,\n",
       "  'name': 'quia sunt dolor dolor suscipit expedita quis',\n",
       "  'email': 'Sabrina.Marks@savanah.name',\n",
       "  'body': 'quisquam voluptas ut\\npariatur eos amet non\\nreprehenderit voluptates numquam\\nin est voluptatem dicta ipsa qui esse enim'},\n",
       " {'postId': 15,\n",
       "  'id': 73,\n",
       "  'name': 'ut quia ipsa repellat sunt et sequi aut est',\n",
       "  'email': 'Desmond_Graham@kailee.biz',\n",
       "  'body': 'nam qui possimus deserunt\\ninventore dignissimos nihil rerum ut consequatur vel architecto\\ntenetur recusandae voluptate\\nnumquam dignissimos aliquid ut reprehenderit voluptatibus'},\n",
       " {'postId': 15,\n",
       "  'id': 74,\n",
       "  'name': 'ut non illum pariatur dolor',\n",
       "  'email': 'Gussie_Kunde@sharon.biz',\n",
       "  'body': 'non accusamus eum aut et est\\naccusantium animi nesciunt distinctio ea quas quisquam\\nsit ut voluptatem modi natus sint\\nfacilis est qui molestias recusandae nemo'},\n",
       " {'postId': 15,\n",
       "  'id': 75,\n",
       "  'name': 'minus laboriosam consequuntur',\n",
       "  'email': 'Richard@chelsie.co.uk',\n",
       "  'body': 'natus numquam enim asperiores doloremque ullam et\\nest molestias doloribus cupiditate labore vitae aut voluptatem\\nitaque quos quo consectetur nihil illum veniam\\nnostrum voluptatum repudiandae ut'}]"
      ]
     },
     "execution_count": 124,
     "metadata": {},
     "output_type": "execute_result"
    }
   ],
   "source": [
    "consultar_comentarios()"
   ]
  },
  {
   "cell_type": "markdown",
   "metadata": {},
   "source": [
    "## Excepciones"
   ]
  },
  {
   "cell_type": "markdown",
   "metadata": {},
   "source": [
    "1. ArithmeticError\n",
    "    * ZeroDivisionError\n",
    "2. TypeError\n",
    "3. ValueError\n",
    "4. LookupError\n",
    "    * IndexError\n",
    "    * KeyError\n",
    "5. NameError\n",
    "6. Import Error\n",
    "    * ModuleNotFoundError\n",
    "7. OSError\n",
    "    * FileNotFoundError\n",
    "    * IsADirectoryError\n",
    "\n",
    "[Documentación Oficial Python Excepciones](https://docs.python.org/es/3/library/exceptions.html)"
   ]
  },
  {
   "cell_type": "code",
   "execution_count": 120,
   "metadata": {},
   "outputs": [
    {
     "name": "stdout",
     "output_type": "stream",
     "text": [
      "Variable no definida\n"
     ]
    }
   ],
   "source": [
    "try:\n",
    "    lista.append(5)\n",
    "except NameError:\n",
    "    print('Variable no definida')"
   ]
  },
  {
   "cell_type": "code",
   "execution_count": 121,
   "metadata": {},
   "outputs": [
    {
     "ename": "FileNotFoundError",
     "evalue": "[Errno 2] No such file or directory: 'juan.txt'",
     "output_type": "error",
     "traceback": [
      "\u001b[0;31m---------------------------------------------------------------------------\u001b[0m",
      "\u001b[0;31mFileNotFoundError\u001b[0m                         Traceback (most recent call last)",
      "\u001b[0;32m<ipython-input-121-44f5668c711d>\u001b[0m in \u001b[0;36m<module>\u001b[0;34m\u001b[0m\n\u001b[0;32m----> 1\u001b[0;31m \u001b[0;32mwith\u001b[0m \u001b[0mopen\u001b[0m\u001b[0;34m(\u001b[0m\u001b[0;34m'juan.txt'\u001b[0m\u001b[0;34m,\u001b[0m \u001b[0;34m'r'\u001b[0m\u001b[0;34m)\u001b[0m \u001b[0;32mas\u001b[0m \u001b[0mf\u001b[0m\u001b[0;34m:\u001b[0m\u001b[0;34m\u001b[0m\u001b[0;34m\u001b[0m\u001b[0m\n\u001b[0m\u001b[1;32m      2\u001b[0m     \u001b[0mprint\u001b[0m\u001b[0;34m(\u001b[0m\u001b[0;34m'juan'\u001b[0m\u001b[0;34m)\u001b[0m\u001b[0;34m\u001b[0m\u001b[0;34m\u001b[0m\u001b[0m\n",
      "\u001b[0;31mFileNotFoundError\u001b[0m: [Errno 2] No such file or directory: 'juan.txt'"
     ]
    }
   ],
   "source": [
    "with open('juan.txt', 'r') as f:\n",
    "    print('juan')"
   ]
  },
  {
   "cell_type": "code",
   "execution_count": null,
   "metadata": {},
   "outputs": [
    {
     "ename": "IsADirectoryError",
     "evalue": "[Errno 21] Is a directory: 'base'",
     "output_type": "error",
     "traceback": [
      "\u001b[0;31m---------------------------------------------------------------------------\u001b[0m",
      "\u001b[0;31mIsADirectoryError\u001b[0m                         Traceback (most recent call last)",
      "\u001b[0;32m<ipython-input-9-e3c0632c6c6d>\u001b[0m in \u001b[0;36m<module>\u001b[0;34m\u001b[0m\n\u001b[0;32m----> 1\u001b[0;31m \u001b[0;32mwith\u001b[0m \u001b[0mopen\u001b[0m\u001b[0;34m(\u001b[0m\u001b[0;34m'base'\u001b[0m\u001b[0;34m,\u001b[0m \u001b[0;34m'r'\u001b[0m\u001b[0;34m)\u001b[0m \u001b[0;32mas\u001b[0m \u001b[0mf\u001b[0m\u001b[0;34m:\u001b[0m\u001b[0;34m\u001b[0m\u001b[0;34m\u001b[0m\u001b[0m\n\u001b[0m\u001b[1;32m      2\u001b[0m     \u001b[0mprint\u001b[0m\u001b[0;34m(\u001b[0m\u001b[0;34m'acceder a base'\u001b[0m\u001b[0;34m)\u001b[0m\u001b[0;34m\u001b[0m\u001b[0;34m\u001b[0m\u001b[0m\n",
      "\u001b[0;31mIsADirectoryError\u001b[0m: [Errno 21] Is a directory: 'base'"
     ]
    }
   ],
   "source": [
    "with open('base', 'r') as f:\n",
    "    print('acceder a base')"
   ]
  },
  {
   "cell_type": "code",
   "execution_count": null,
   "metadata": {},
   "outputs": [
    {
     "name": "stdout",
     "output_type": "stream",
     "text": [
      "Mi Mensaje\n",
      "2\n"
     ]
    }
   ],
   "source": [
    "class MiExcepcion(Exception):\n",
    "    def __init__(self, mensaje, informacion):\n",
    "        self.mensaje = mensaje\n",
    "        self.informacion = informacion\n",
    "    \n",
    "try:\n",
    "    raise MiExcepcion(\"Mi Mensaje\",2)\n",
    "except MiExcepcion as e:\n",
    "    print(e.mensaje)\n",
    "    print(e.informacion)"
   ]
  }
 ],
 "metadata": {
  "interpreter": {
   "hash": "aee8b7b246df8f9039afb4144a1f6fd8d2ca17a180786b69acc140d282b71a49"
  },
  "kernelspec": {
   "display_name": "Python 3.9.1 64-bit",
   "name": "python3"
  },
  "language_info": {
   "codemirror_mode": {
    "name": "ipython",
    "version": 3
   },
   "file_extension": ".py",
   "mimetype": "text/x-python",
   "name": "python",
   "nbconvert_exporter": "python",
   "pygments_lexer": "ipython3",
   "version": "3.9.1"
  },
  "orig_nbformat": 4
 },
 "nbformat": 4,
 "nbformat_minor": 2
}