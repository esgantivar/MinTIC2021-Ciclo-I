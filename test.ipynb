{
 "cells": [
  {
   "cell_type": "code",
   "execution_count": 34,
   "metadata": {},
   "outputs": [],
   "source": [
    "path = '/Users/esgantivar/desktop/Your.Honor.S01E02.720p.WEB.H264-GGWP.srt'"
   ]
  },
  {
   "cell_type": "code",
   "execution_count": 6,
   "metadata": {},
   "outputs": [],
   "source": [
    "import os    \n",
    "from chardet import detect\n",
    "\n",
    "# get file encoding type\n",
    "def get_encoding_type(file):\n",
    "    with open(file, 'rb') as f:\n",
    "        rawdata = f.read()\n",
    "    return detect(rawdata)['encoding']"
   ]
  },
  {
   "cell_type": "code",
   "execution_count": 37,
   "metadata": {},
   "outputs": [],
   "source": [
    "paths = [\n",
    "    '/Users/esgantivar/desktop/Your.Honor.S01E03.720p.WEB.H264-GGWP.srt',\n",
    "    '/Users/esgantivar/desktop/Your.Honor.S01E04.720p.WEB.H264-GGEZ.srt',\n",
    "    '/Users/esgantivar/desktop/Your.Honor.S01E05.720p.WEB.h264-KOGi.srt',\n",
    "    '/Users/esgantivar/desktop/Your.Honor.S01E06.720p.WEB.H264-GGEZ.srt',\n",
    "    '/Users/esgantivar/desktop/Your.Honor.S01E07.720p.WEB.H264-GGEZ.srt',\n",
    "    '/Users/esgantivar/desktop/Your.Honor.S01E08.720p.WEB.H264-GGEZ.srt',\n",
    "    '/Users/esgantivar/desktop/Your.Honor.S01E09.720p.WEB.H264-GGEZ.srt',\n",
    "    '/Users/esgantivar/desktop/Your.Honor.S01E10.720p.WEB.H264-GGEZ.srt'\n",
    "]"
   ]
  },
  {
   "cell_type": "code",
   "execution_count": 39,
   "metadata": {},
   "outputs": [],
   "source": [
    "for p in paths:\n",
    "    base_path = p.split('/')\n",
    "    name = base_path[-1].removesuffix('.srt')\n",
    "    base_path = base_path[:len(base_path) - 1]\n",
    "    base_path = '/'.join(base_path)\n",
    "    with open(p, 'r', encoding=get_encoding_type(p)) as f:\n",
    "        data = f.read()\n",
    "    with open(f'{base_path}/{name} - utf8.srt', 'w', encoding='utf8') as f:\n",
    "        f.write(data)\n"
   ]
  },
  {
   "cell_type": "code",
   "execution_count": 35,
   "metadata": {},
   "outputs": [],
   "source": [
    "base_path = path.split('/')\n",
    "name = base_path[-1].removesuffix('.srt')\n",
    "base_path = base_path[:len(base_path) - 1]\n",
    "base_path = '/'.join(base_path)"
   ]
  },
  {
   "cell_type": "code",
   "execution_count": 36,
   "metadata": {},
   "outputs": [],
   "source": [
    "with open(path, 'r', encoding=get_encoding_type(path)) as f:\n",
    "    data = f.read()\n",
    "with open(f'{base_path}/{name} - utf8.srt', 'w', encoding='utf8') as f:\n",
    "    f.write(data)"
   ]
  },
  {
   "cell_type": "code",
   "execution_count": 27,
   "metadata": {},
   "outputs": [],
   "source": [
    "from pymkv import MKVFile"
   ]
  },
  {
   "cell_type": "code",
   "execution_count": 29,
   "metadata": {},
   "outputs": [],
   "source": [
    "t = '/Users/esgantivar/Documents/Video/Your\\ Honor/your.honor.s01e01.720p.web.h264-ggwp.mkv'"
   ]
  },
  {
   "cell_type": "code",
   "execution_count": 31,
   "metadata": {},
   "outputs": [
    {
     "data": {
      "text/plain": [
       "'/Users/esgantivar/Documents/Video/Your\\\\ Honor/your.honor.s01e01.720p.web.h264-ggwp.mkv'"
      ]
     },
     "execution_count": 31,
     "metadata": {},
     "output_type": "execute_result"
    }
   ],
   "source": [
    "t"
   ]
  },
  {
   "cell_type": "code",
   "execution_count": 33,
   "metadata": {},
   "outputs": [
    {
     "ename": "FileNotFoundError",
     "evalue": "mkvmerge is not at the specified path, add it there or change the mkvmerge_path property",
     "output_type": "error",
     "traceback": [
      "\u001b[0;31m---------------------------------------------------------------------------\u001b[0m",
      "\u001b[0;31mFileNotFoundError\u001b[0m                         Traceback (most recent call last)",
      "\u001b[0;32m<ipython-input-33-1d8730d55f63>\u001b[0m in \u001b[0;36m<module>\u001b[0;34m\u001b[0m\n\u001b[0;32m----> 1\u001b[0;31m \u001b[0mmkv\u001b[0m \u001b[0;34m=\u001b[0m \u001b[0mMKVFile\u001b[0m\u001b[0;34m(\u001b[0m\u001b[0mfile_path\u001b[0m\u001b[0;34m=\u001b[0m\u001b[0;34m'/Users/esgantivar/Documents/Video/'\u001b[0m\u001b[0;34m)\u001b[0m\u001b[0;34m\u001b[0m\u001b[0;34m\u001b[0m\u001b[0m\n\u001b[0m\u001b[1;32m      2\u001b[0m \u001b[0mmkv\u001b[0m\u001b[0;34m.\u001b[0m\u001b[0madd_track\u001b[0m\u001b[0;34m(\u001b[0m\u001b[0;34mf'{base_path}/{name} - utf8.srt'\u001b[0m\u001b[0;34m)\u001b[0m\u001b[0;34m\u001b[0m\u001b[0;34m\u001b[0m\u001b[0m\n\u001b[1;32m      3\u001b[0m \u001b[0mmkv\u001b[0m\u001b[0;34m.\u001b[0m\u001b[0mmux\u001b[0m\u001b[0;34m(\u001b[0m\u001b[0;34m'/Users/esgantivar/Documents/Video'\u001b[0m\u001b[0;34m)\u001b[0m\u001b[0;34m\u001b[0m\u001b[0;34m\u001b[0m\u001b[0m\n",
      "\u001b[0;32m/usr/local/lib/python3.9/site-packages/pymkv/MKVFile.py\u001b[0m in \u001b[0;36m__init__\u001b[0;34m(self, file_path, title)\u001b[0m\n\u001b[1;32m     91\u001b[0m         \u001b[0mself\u001b[0m\u001b[0;34m.\u001b[0m\u001b[0mattachments\u001b[0m \u001b[0;34m=\u001b[0m \u001b[0;34m[\u001b[0m\u001b[0;34m]\u001b[0m\u001b[0;34m\u001b[0m\u001b[0;34m\u001b[0m\u001b[0m\n\u001b[1;32m     92\u001b[0m         \u001b[0;32mif\u001b[0m \u001b[0mfile_path\u001b[0m \u001b[0;32mis\u001b[0m \u001b[0;32mnot\u001b[0m \u001b[0;32mNone\u001b[0m \u001b[0;32mand\u001b[0m \u001b[0;32mnot\u001b[0m \u001b[0mverify_mkvmerge\u001b[0m\u001b[0;34m(\u001b[0m\u001b[0mmkvmerge_path\u001b[0m\u001b[0;34m=\u001b[0m\u001b[0mself\u001b[0m\u001b[0;34m.\u001b[0m\u001b[0mmkvmerge_path\u001b[0m\u001b[0;34m)\u001b[0m\u001b[0;34m:\u001b[0m\u001b[0;34m\u001b[0m\u001b[0;34m\u001b[0m\u001b[0m\n\u001b[0;32m---> 93\u001b[0;31m             raise FileNotFoundError('mkvmerge is not at the specified path, add it there or change the mkvmerge_path '\n\u001b[0m\u001b[1;32m     94\u001b[0m                                     'property')\n\u001b[1;32m     95\u001b[0m         \u001b[0;32mif\u001b[0m \u001b[0mfile_path\u001b[0m \u001b[0;32mis\u001b[0m \u001b[0;32mnot\u001b[0m \u001b[0;32mNone\u001b[0m \u001b[0;32mand\u001b[0m \u001b[0mverify_matroska\u001b[0m\u001b[0;34m(\u001b[0m\u001b[0mfile_path\u001b[0m\u001b[0;34m)\u001b[0m\u001b[0;34m:\u001b[0m\u001b[0;34m\u001b[0m\u001b[0;34m\u001b[0m\u001b[0m\n",
      "\u001b[0;31mFileNotFoundError\u001b[0m: mkvmerge is not at the specified path, add it there or change the mkvmerge_path property"
     ]
    }
   ],
   "source": [
    "\n",
    "mkv = MKVFile(file_path='/Users/esgantivar/Documents/Video/')\n",
    "mkv.add_track(f'{base_path}/{name} - utf8.srt')\n",
    "mkv.mux('/Users/esgantivar/Documents/Video')"
   ]
  }
 ],
 "metadata": {
  "interpreter": {
   "hash": "aee8b7b246df8f9039afb4144a1f6fd8d2ca17a180786b69acc140d282b71a49"
  },
  "kernelspec": {
   "display_name": "Python 3.9.1 64-bit",
   "name": "python3"
  },
  "language_info": {
   "codemirror_mode": {
    "name": "ipython",
    "version": 3
   },
   "file_extension": ".py",
   "mimetype": "text/x-python",
   "name": "python",
   "nbconvert_exporter": "python",
   "pygments_lexer": "ipython3",
   "version": "3.9.1"
  },
  "orig_nbformat": 4
 },
 "nbformat": 4,
 "nbformat_minor": 2
}