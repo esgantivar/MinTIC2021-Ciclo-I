{
  "nbformat": 4,
  "nbformat_minor": 0,
  "metadata": {
    "interpreter": {
      "hash": "aee8b7b246df8f9039afb4144a1f6fd8d2ca17a180786b69acc140d282b71a49"
    },
    "kernelspec": {
      "display_name": "Python 3.9.1 64-bit",
      "name": "python3"
    },
    "language_info": {
      "codemirror_mode": {
        "name": "ipython",
        "version": 3
      },
      "file_extension": ".py",
      "mimetype": "text/x-python",
      "name": "python",
      "nbconvert_exporter": "python",
      "pygments_lexer": "ipython3",
      "version": "3.9.1"
    },
    "orig_nbformat": 4,
    "colab": {
      "name": "23. Modularidad.ipynb",
      "provenance": []
    }
  },
  "cells": [
    {
      "cell_type": "markdown",
      "metadata": {
        "id": "l0mVOI9fGkeA"
      },
      "source": [
        "# Modularidad"
      ]
    },
    {
      "cell_type": "markdown",
      "metadata": {
        "id": "W8biXdbbGkeJ"
      },
      "source": [
        "# Funciones"
      ]
    },
    {
      "cell_type": "markdown",
      "metadata": {
        "id": "7jRcWQ0mGkeJ"
      },
      "source": [
        "## Funciones sin argumentos con retorno de valor"
      ]
    },
    {
      "cell_type": "code",
      "metadata": {
        "id": "NimwUT31GkeK"
      },
      "source": [
        "def obtener_nombre():\n",
        "  return input(\"Ingrese el nombre: \")"
      ],
      "execution_count": 1,
      "outputs": []
    },
    {
      "cell_type": "markdown",
      "metadata": {
        "id": "q8yNB2ZVGkeK"
      },
      "source": [
        "## Funciones sin argumentos"
      ]
    },
    {
      "cell_type": "code",
      "metadata": {
        "id": "qkERZ-wrGkeK"
      },
      "source": [
        "def saludar():\n",
        "  nombre = obtener_nombre()\n",
        "  print(\"Hola\", nombre)"
      ],
      "execution_count": 2,
      "outputs": []
    },
    {
      "cell_type": "code",
      "metadata": {
        "id": "BjoERyhTGkeL",
        "outputId": "df5fbe89-510f-46c6-d1ed-744cf2de7929",
        "colab": {
          "base_uri": "https://localhost:8080/"
        }
      },
      "source": [
        "saludar()"
      ],
      "execution_count": 3,
      "outputs": [
        {
          "output_type": "stream",
          "text": [
            "Ingrese el nombre: fasdf\n",
            "Hola fasdf\n"
          ],
          "name": "stdout"
        }
      ]
    },
    {
      "cell_type": "markdown",
      "metadata": {
        "id": "EcjVBni5GszX"
      },
      "source": [
        "## Funciones con argumentos y sin valor de retorno\n",
        "\n",
        "\n"
      ]
    },
    {
      "cell_type": "code",
      "metadata": {
        "id": "8MiAdu_YGqcZ"
      },
      "source": [
        "def saludar2(nombre):\n",
        "  print(\"Hola\", nombre)"
      ],
      "execution_count": 4,
      "outputs": []
    },
    {
      "cell_type": "code",
      "metadata": {
        "id": "OzRxBWYVGwsE",
        "outputId": "365b155d-d03c-42c3-9879-2ebe3052099c",
        "colab": {
          "base_uri": "https://localhost:8080/"
        }
      },
      "source": [
        "nombre = obtener_nombre()\n",
        "saludar2(nombre)"
      ],
      "execution_count": 5,
      "outputs": [
        {
          "output_type": "stream",
          "text": [
            "Ingrese el nombre: fasdf\n",
            "Hola fasdf\n"
          ],
          "name": "stdout"
        }
      ]
    },
    {
      "cell_type": "markdown",
      "metadata": {
        "id": "ZTZxMNIIG5DA"
      },
      "source": [
        "## Funciones con argumentos y con valor de retorno"
      ]
    },
    {
      "cell_type": "code",
      "metadata": {
        "id": "jagncVxQG02M"
      },
      "source": [
        "def saludar3(nombre):\n",
        "    return f\"Hola {nombre}\""
      ],
      "execution_count": 6,
      "outputs": []
    },
    {
      "cell_type": "code",
      "metadata": {
        "id": "HqaSf4gXG1uR",
        "outputId": "ba8472db-bd62-473b-a457-fdae9f32f24f",
        "colab": {
          "base_uri": "https://localhost:8080/"
        }
      },
      "source": [
        "nombre = obtener_nombre()\n",
        "print(saludar3(nombre))"
      ],
      "execution_count": 7,
      "outputs": [
        {
          "output_type": "stream",
          "text": [
            "Ingrese el nombre: asdfasdf\n",
            "Hola asdfasdf\n"
          ],
          "name": "stdout"
        }
      ]
    },
    {
      "cell_type": "markdown",
      "metadata": {
        "id": "HTiHD_W1G-Ap"
      },
      "source": [
        "## Otros tipos de función\n",
        "\n",
        "Existen otras formas alternativas para definir funciones:\n",
        "\n",
        "* Funciones con argumentos por defecto el argumento que la variable toma el valor dado en la definición\n",
        "* Funciones con un número de argumentos variable que los tome como una tupla adicional\n",
        "* Funciones con un número de argumentos variable que los tome como un diccionario"
      ]
    },
    {
      "cell_type": "markdown",
      "metadata": {
        "id": "46brN8DNHGLd"
      },
      "source": [
        "## Funciones con argumentos por defecto"
      ]
    },
    {
      "cell_type": "code",
      "metadata": {
        "id": "bMnaoIKeHACl"
      },
      "source": [
        "def log_entero(num, base=2):\n",
        "  cont = 0\n",
        "  while num >= base:\n",
        "    cont+=1\n",
        "    num /= base\n",
        "  return cont"
      ],
      "execution_count": 8,
      "outputs": []
    },
    {
      "cell_type": "code",
      "metadata": {
        "id": "g6DmQYcUHJLj",
        "outputId": "4f516f40-e0ae-434f-d769-92882689cdf8",
        "colab": {
          "base_uri": "https://localhost:8080/"
        }
      },
      "source": [
        "print(log_entero(1024))\n",
        "print(log_entero(1000,10))\n",
        "print(log_entero(9,3))"
      ],
      "execution_count": 9,
      "outputs": [
        {
          "output_type": "stream",
          "text": [
            "10\n",
            "3\n",
            "2\n"
          ],
          "name": "stdout"
        }
      ]
    },
    {
      "cell_type": "markdown",
      "metadata": {
        "id": "z1iX1IFqHRiq"
      },
      "source": [
        "## Funciones con número de argumentos variable: Tupla"
      ]
    },
    {
      "cell_type": "code",
      "metadata": {
        "id": "VVFUm4w4HMzE"
      },
      "source": [
        "def variable_argument(var1, *vari):\n",
        "  print(\"salida: \" + str(var1))\n",
        "  for var in vari:\n",
        "    print(var)"
      ],
      "execution_count": 10,
      "outputs": []
    },
    {
      "cell_type": "code",
      "metadata": {
        "id": "e2XUeMPaHOcJ",
        "outputId": "707f2e0c-d891-4105-9291-2a428a19952c",
        "colab": {
          "base_uri": "https://localhost:8080/"
        }
      },
      "source": [
        "variable_argument(60)\n",
        "variable_argument(100, 90, 67, 23, 10)"
      ],
      "execution_count": 11,
      "outputs": [
        {
          "output_type": "stream",
          "text": [
            "salida: 60\n",
            "salida: 100\n",
            "90\n",
            "67\n",
            "23\n",
            "10\n"
          ],
          "name": "stdout"
        }
      ]
    },
    {
      "cell_type": "markdown",
      "metadata": {
        "id": "aKdyxBITHS76"
      },
      "source": [
        "## Funciones con número de argumentos variable: Diccionario"
      ]
    },
    {
      "cell_type": "code",
      "metadata": {
        "id": "xts98AH4HW6d"
      },
      "source": [
        "from pprint import pprint"
      ],
      "execution_count": 12,
      "outputs": []
    },
    {
      "cell_type": "code",
      "metadata": {
        "id": "QVKNIGdVHYoa"
      },
      "source": [
        "def informar(**var):\n",
        "    pprint(var)\n",
        "    for key, value in var.items():\n",
        "      pprint(f\"{key} == {value}\") "
      ],
      "execution_count": 13,
      "outputs": []
    },
    {
      "cell_type": "code",
      "metadata": {
        "id": "pBO3A7NiHaZW",
        "outputId": "0900e5f3-efaf-404b-f277-67ccc45ea1c5",
        "colab": {
          "base_uri": "https://localhost:8080/"
        }
      },
      "source": [
        "informar(nombre=\"Poseidón\",edad=6000,ciudad=\"Olimpo\")"
      ],
      "execution_count": 14,
      "outputs": [
        {
          "output_type": "stream",
          "text": [
            "{'ciudad': 'Olimpo', 'edad': 6000, 'nombre': 'Poseidón'}\n",
            "'nombre == Poseidón'\n",
            "'edad == 6000'\n",
            "'ciudad == Olimpo'\n"
          ],
          "name": "stdout"
        }
      ]
    },
    {
      "cell_type": "markdown",
      "metadata": {
        "id": "81jHs8OmHdaV"
      },
      "source": [
        "# Paso de parámetros en python"
      ]
    },
    {
      "cell_type": "code",
      "metadata": {
        "id": "jxSCZa3cHwt2"
      },
      "source": [
        "def unir_listas(lista1, lista2):\n",
        "  lista1.extend(lista2)"
      ],
      "execution_count": 15,
      "outputs": []
    },
    {
      "cell_type": "code",
      "metadata": {
        "id": "Rm-fGoGfHyGy"
      },
      "source": [
        "avengers = [\"Tony\", \"Natalia\", \"Steve\"]\n",
        "nuevos_avengers = [\"Thor\", \"Peter\"]"
      ],
      "execution_count": 16,
      "outputs": []
    },
    {
      "cell_type": "code",
      "metadata": {
        "id": "egVwEXttHzwQ"
      },
      "source": [
        "unir_listas(avengers, nuevos_avengers)"
      ],
      "execution_count": 17,
      "outputs": []
    },
    {
      "cell_type": "code",
      "metadata": {
        "id": "U-fnFPA9H1Lm",
        "outputId": "e9da7af8-3032-4e2a-cbfe-b59e68f431e6",
        "colab": {
          "base_uri": "https://localhost:8080/"
        }
      },
      "source": [
        "print(avengers)"
      ],
      "execution_count": 18,
      "outputs": [
        {
          "output_type": "stream",
          "text": [
            "['Tony', 'Natalia', 'Steve', 'Thor', 'Peter']\n"
          ],
          "name": "stdout"
        }
      ]
    },
    {
      "cell_type": "code",
      "metadata": {
        "id": "BDePo7j0H3Ix"
      },
      "source": [
        "def func(a):\n",
        "  a *= 10\n",
        "  print(\"En la función a = \", a)"
      ],
      "execution_count": 19,
      "outputs": []
    },
    {
      "cell_type": "code",
      "metadata": {
        "id": "KewjDNKrH4WU",
        "outputId": "4c19fc3d-f332-4dbe-ba33-75372caf4440",
        "colab": {
          "base_uri": "https://localhost:8080/"
        }
      },
      "source": [
        "a = 45\n",
        "func(a)"
      ],
      "execution_count": 20,
      "outputs": [
        {
          "output_type": "stream",
          "text": [
            "En la función a =  450\n"
          ],
          "name": "stdout"
        }
      ]
    },
    {
      "cell_type": "code",
      "metadata": {
        "id": "0jAkh3n-H5b0",
        "outputId": "7982716c-3b1d-489b-ef04-c9698dd4795f",
        "colab": {
          "base_uri": "https://localhost:8080/"
        }
      },
      "source": [
        "print(\"En el programa principal a = \",a)"
      ],
      "execution_count": 21,
      "outputs": [
        {
          "output_type": "stream",
          "text": [
            "En el programa principal a =  45\n"
          ],
          "name": "stdout"
        }
      ]
    },
    {
      "cell_type": "code",
      "metadata": {
        "id": "e_hWr__lH7EV"
      },
      "source": [
        "def no_limpia_lista(lista):\n",
        "  lista = []\n",
        "  print(lista)"
      ],
      "execution_count": 22,
      "outputs": []
    },
    {
      "cell_type": "code",
      "metadata": {
        "id": "1GrxGuByH9Ls",
        "outputId": "24083e4b-16d1-49fc-c97b-7e1f4c521e59",
        "colab": {
          "base_uri": "https://localhost:8080/"
        }
      },
      "source": [
        "avengers = [\"Tony\", \"Natalia\", \"Steve\"]\n",
        "no_limpia_lista(avengers)\n",
        "print(avengers)"
      ],
      "execution_count": 23,
      "outputs": [
        {
          "output_type": "stream",
          "text": [
            "[]\n",
            "['Tony', 'Natalia', 'Steve']\n"
          ],
          "name": "stdout"
        }
      ]
    },
    {
      "cell_type": "markdown",
      "metadata": {
        "id": "QrQWQR5jIFs7"
      },
      "source": [
        "# Alcance de variables\n",
        "\n",
        "\n",
        "En python hay dos típos básicos de alcance de las variables: \n",
        "* Variables locales\n",
        "* Variables globales\n",
        "\n",
        "Para entender este concepto, se usarán los decretos expedidos por gobiernos locales y nacionales como símil. Un decreto expedido por la alcaldía de Bogotá tiene alcance sólo para los habitantes de la capital pero no para los del resto del país. Un decreto expedido por la presidencia de Colombia tiene alcance en el país (incluida Bogotá) pero no en otros países."
      ]
    },
    {
      "cell_type": "markdown",
      "metadata": {
        "id": "dy-V8u-LILFk"
      },
      "source": [
        "## Variables Locales"
      ]
    },
    {
      "cell_type": "code",
      "metadata": {
        "id": "6tUDcCw_IJ4d"
      },
      "source": [
        "def func():\n",
        "  a = 12\n",
        "  print(\"Variable local: \", a)"
      ],
      "execution_count": 24,
      "outputs": []
    },
    {
      "cell_type": "code",
      "metadata": {
        "id": "AX1f2rnWIO91",
        "outputId": "909b1909-15fe-4c03-eaa5-4761f43bf7df",
        "colab": {
          "base_uri": "https://localhost:8080/"
        }
      },
      "source": [
        "a = 10\n",
        "\n",
        "func()\n",
        "print (\"Variable del cuerpo principal: \", a)"
      ],
      "execution_count": 25,
      "outputs": [
        {
          "output_type": "stream",
          "text": [
            "Variable local:  12\n",
            "Variable del cuerpo principal:  10\n"
          ],
          "name": "stdout"
        }
      ]
    },
    {
      "cell_type": "markdown",
      "metadata": {
        "id": "eLJhirZnITgC"
      },
      "source": [
        "## Variables Globales"
      ]
    },
    {
      "cell_type": "code",
      "metadata": {
        "id": "YExz1z7TISwb"
      },
      "source": [
        "k = 4\n",
        "lista = []\n",
        "def add():\n",
        "  for x in range(k):\n",
        "    lista.append(x)\n",
        "  print(lista)"
      ],
      "execution_count": 26,
      "outputs": []
    },
    {
      "cell_type": "code",
      "metadata": {
        "id": "mUeX6HXHIV96",
        "outputId": "79bd0cb9-7043-4b08-db7f-1aa1786ec51b",
        "colab": {
          "base_uri": "https://localhost:8080/"
        }
      },
      "source": [
        "add()"
      ],
      "execution_count": 27,
      "outputs": [
        {
          "output_type": "stream",
          "text": [
            "[0, 1, 2, 3]\n"
          ],
          "name": "stdout"
        }
      ]
    },
    {
      "cell_type": "markdown",
      "metadata": {
        "id": "ey8mvT0MIe14"
      },
      "source": [
        "## Palabra Global"
      ]
    },
    {
      "cell_type": "code",
      "metadata": {
        "id": "YYbIGJZjIb0r",
        "outputId": "3d3adece-b65e-4f92-fcd2-2e7f6dd3417f",
        "colab": {
          "base_uri": "https://localhost:8080/"
        }
      },
      "source": [
        "k=5\n",
        "\n",
        "def funcg():\n",
        "  global k\n",
        "  k = k + 7\n",
        "  print(\"La variable k tiene alcance global: \", k)\n",
        "  k = 10"
      ],
      "execution_count": 28,
      "outputs": [
        {
          "output_type": "stream",
          "text": [
            "La variable k tiene alcance global:  12\n",
            "Valor de la variable global k fuera de la función:  10\n"
          ],
          "name": "stdout"
        }
      ]
    },
    {
      "cell_type": "code",
      "metadata": {
        "id": "Y_rM-7gzIib_",
        "outputId": "9992a407-5964-44f3-c4b8-364ea30bd01a",
        "colab": {
          "base_uri": "https://localhost:8080/"
        }
      },
      "source": [
        "funcg()\n",
        "print (\"Valor de la variable global k fuera de la función: \", k)"
      ],
      "execution_count": 29,
      "outputs": [
        {
          "output_type": "stream",
          "text": [
            "La variable k tiene alcance global:  17\n",
            "Valor de la variable global k fuera de la función:  10\n"
          ],
          "name": "stdout"
        }
      ]
    },
    {
      "cell_type": "code",
      "metadata": {
        "id": "LehOdGESIoU5"
      },
      "source": [
        "x = \"sorprendente\""
      ],
      "execution_count": 30,
      "outputs": []
    },
    {
      "cell_type": "code",
      "metadata": {
        "id": "GFn8dh8LIl6T"
      },
      "source": [
        "def myfunc():\n",
        "  global x\n",
        "  x = \"fantástico\""
      ],
      "execution_count": 31,
      "outputs": []
    },
    {
      "cell_type": "code",
      "metadata": {
        "id": "hZD3G5WMInKf",
        "outputId": "8264d4d2-6f18-4fdb-c078-6ebc2d24f03a",
        "colab": {
          "base_uri": "https://localhost:8080/"
        }
      },
      "source": [
        "print(\"Antes Python era \" + x)\n",
        "myfunc()\n",
        "print(\"Ahora Python es \" + x)"
      ],
      "execution_count": 32,
      "outputs": [
        {
          "output_type": "stream",
          "text": [
            "Antes Python era sorprendente\n",
            "Ahora Python es fantástico\n"
          ],
          "name": "stdout"
        }
      ]
    },
    {
      "cell_type": "markdown",
      "metadata": {
        "id": "0sYvYaOFIuyw"
      },
      "source": [
        "# Módulos en Python\n",
        "\n",
        "Un módulo en Python es un archivo fuente con funciones y definiciones que pueden ser usadas en otro archivo mediante la palabra import."
      ]
    },
    {
      "cell_type": "code",
      "metadata": {
        "id": "vp4AakM3Itua"
      },
      "source": [
        "import modulo"
      ],
      "execution_count": 36,
      "outputs": []
    },
    {
      "cell_type": "code",
      "metadata": {
        "id": "klnNaW__Izyt"
      },
      "source": [
        "x = 12\n",
        "y = 34"
      ],
      "execution_count": 37,
      "outputs": []
    },
    {
      "cell_type": "code",
      "metadata": {
        "id": "COB7P_TPI0-e",
        "outputId": "6ecc194e-082e-432f-c83b-9532873100e0",
        "colab": {
          "base_uri": "https://localhost:8080/"
        }
      },
      "source": [
        "print(\"La suma es \", modulo.sum1(x, y))\n",
        "print(\"La multiplicación es \", modulo.mul1(x, y))"
      ],
      "execution_count": 39,
      "outputs": [
        {
          "output_type": "stream",
          "text": [
            "La suma es  46\n",
            "La multiplicación es  408\n"
          ],
          "name": "stdout"
        }
      ]
    },
    {
      "cell_type": "code",
      "metadata": {
        "id": "3pIvlnzKI3iy"
      },
      "source": [
        "import modulo as md"
      ],
      "execution_count": 40,
      "outputs": []
    },
    {
      "cell_type": "code",
      "metadata": {
        "id": "y3K7QR4fI4rC",
        "outputId": "144e2693-30ac-4358-af6c-ea5be7643406",
        "colab": {
          "base_uri": "https://localhost:8080/"
        }
      },
      "source": [
        "print(\"La suma es \", md.sum1(x, y))\n",
        "print(\"La multiplicación es \", md.mul1(x, y))"
      ],
      "execution_count": 41,
      "outputs": [
        {
          "output_type": "stream",
          "text": [
            "La suma es  46\n",
            "La multiplicación es  408\n"
          ],
          "name": "stdout"
        }
      ]
    },
    {
      "cell_type": "code",
      "metadata": {
        "id": "aiKsY_vYI7X1"
      },
      "source": [
        "from modulo import sum1"
      ],
      "execution_count": 42,
      "outputs": []
    },
    {
      "cell_type": "code",
      "metadata": {
        "id": "-gNd2svvI8qG",
        "outputId": "2bf4ff9c-903e-45b1-9499-aa250af01c02",
        "colab": {
          "base_uri": "https://localhost:8080/"
        }
      },
      "source": [
        "print(\"La suma es \", sum1(x, y))"
      ],
      "execution_count": 43,
      "outputs": [
        {
          "output_type": "stream",
          "text": [
            "La suma es  46\n"
          ],
          "name": "stdout"
        }
      ]
    },
    {
      "cell_type": "code",
      "metadata": {
        "id": "-Jg2vSo6I9qq"
      },
      "source": [
        "import modulo"
      ],
      "execution_count": 44,
      "outputs": []
    },
    {
      "cell_type": "code",
      "metadata": {
        "id": "ePxgPKKiJAtu",
        "outputId": "9bf2e2c7-d3d9-4270-f2d1-e442c166abfd",
        "colab": {
          "base_uri": "https://localhost:8080/"
        }
      },
      "source": [
        "print(\"Las funciones de modulo son:\", dir(modulo))"
      ],
      "execution_count": 45,
      "outputs": [
        {
          "output_type": "stream",
          "text": [
            "Las funciones de modulo son: ['__builtins__', '__cached__', '__doc__', '__file__', '__loader__', '__name__', '__package__', '__spec__', 'mul1', 'sum1']\n"
          ],
          "name": "stdout"
        }
      ]
    },
    {
      "cell_type": "markdown",
      "metadata": {
        "id": "FJDtyrzWJFLn"
      },
      "source": [
        "## Localización de los módulos de Python"
      ]
    },
    {
      "cell_type": "code",
      "metadata": {
        "id": "iqMaGQNwJGmQ"
      },
      "source": [
        "import sys"
      ],
      "execution_count": 46,
      "outputs": []
    },
    {
      "cell_type": "code",
      "metadata": {
        "id": "1_V-Fr-dJHco",
        "outputId": "151327a2-3e92-4bbd-da3a-2da6fd8a880e",
        "colab": {
          "base_uri": "https://localhost:8080/"
        }
      },
      "source": [
        "for p in sys.path:\n",
        "  print(p)"
      ],
      "execution_count": 47,
      "outputs": [
        {
          "output_type": "stream",
          "text": [
            "\n",
            "/content\n",
            "/env/python\n",
            "/usr/lib/python37.zip\n",
            "/usr/lib/python3.7\n",
            "/usr/lib/python3.7/lib-dynload\n",
            "/usr/local/lib/python3.7/dist-packages\n",
            "/usr/lib/python3/dist-packages\n",
            "/usr/local/lib/python3.7/dist-packages/IPython/extensions\n",
            "/root/.ipython\n"
          ],
          "name": "stdout"
        }
      ]
    },
    {
      "cell_type": "markdown",
      "metadata": {
        "id": "0X1yMLD9JNHN"
      },
      "source": [
        "# Paquetes en python"
      ]
    },
    {
      "cell_type": "code",
      "metadata": {
        "id": "Bu6o4uKdJP16"
      },
      "source": [
        "from comprimir import torar\n",
        "from comprimir import totar\n",
        "from comprimir import tozip"
      ],
      "execution_count": 48,
      "outputs": []
    },
    {
      "cell_type": "code",
      "metadata": {
        "id": "M30Mf44tJQ5Z",
        "outputId": "83b97722-bc61-402d-f7cd-50bd729b75fd",
        "colab": {
          "base_uri": "https://localhost:8080/"
        }
      },
      "source": [
        "torar.crear_rar(\"archivo1\")\n",
        "totar.crear_tar(\"archivo2\")\n",
        "tozip.crear_zip(\"archivo3\")"
      ],
      "execution_count": 49,
      "outputs": [
        {
          "output_type": "stream",
          "text": [
            "creando...archivo1.rar\n",
            "creando...archivo2.tar\n",
            "creando...archivo3.zip\n"
          ],
          "name": "stdout"
        }
      ]
    },
    {
      "cell_type": "code",
      "metadata": {
        "id": "nKHgoyEOJR8o"
      },
      "source": [
        "from comprimir.torar import crear_rar\n",
        "from comprimir.totar import crear_tar\n",
        "from comprimir.tozip import crear_zip"
      ],
      "execution_count": 50,
      "outputs": []
    },
    {
      "cell_type": "code",
      "metadata": {
        "id": "yHnoQH5PJTBT",
        "outputId": "19e04610-4265-4a06-aebc-66d3e825899b",
        "colab": {
          "base_uri": "https://localhost:8080/"
        }
      },
      "source": [
        "crear_rar(\"archivo 4\")\n",
        "crear_tar(\"archivo 5\")\n",
        "crear_zip(\"archivo 6\")"
      ],
      "execution_count": 51,
      "outputs": [
        {
          "output_type": "stream",
          "text": [
            "creando...archivo 4.rar\n",
            "creando...archivo 5.tar\n",
            "creando...archivo 6.zip\n"
          ],
          "name": "stdout"
        }
      ]
    }
  ]
}