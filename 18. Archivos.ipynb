{
 "metadata": {
  "language_info": {
   "codemirror_mode": {
    "name": "ipython",
    "version": 3
   },
   "file_extension": ".py",
   "mimetype": "text/x-python",
   "name": "python",
   "nbconvert_exporter": "python",
   "pygments_lexer": "ipython3",
   "version": "3.9.1"
  },
  "orig_nbformat": 4,
  "kernelspec": {
   "name": "python3",
   "display_name": "Python 3.9.1 64-bit"
  },
  "interpreter": {
   "hash": "aee8b7b246df8f9039afb4144a1f6fd8d2ca17a180786b69acc140d282b71a49"
  }
 },
 "nbformat": 4,
 "nbformat_minor": 2,
 "cells": [
  {
   "source": [
    "### Manejo de Archivos"
   ],
   "cell_type": "markdown",
   "metadata": {}
  },
  {
   "source": [
    "Descargar y descomprimir los archivos"
   ],
   "cell_type": "markdown",
   "metadata": {}
  },
  {
   "cell_type": "code",
   "execution_count": 6,
   "metadata": {},
   "outputs": [],
   "source": [
    "!wget \"https://github.com/arleserp/MinTIC2022/raw/master/files.zip\" -q\n",
    "!unzip -u -q files.zip"
   ]
  },
  {
   "source": [
    "`os` es un modulo de python que nos permite manejar de forma mas facil las rutas sin importar el sistema operativo"
   ],
   "cell_type": "markdown",
   "metadata": {}
  },
  {
   "cell_type": "code",
   "execution_count": 1,
   "metadata": {},
   "outputs": [],
   "source": [
    "import os\n",
    "os.path.join('thisfolder', 'workdata.txt')"
   ]
  },
  {
   "cell_type": "code",
   "execution_count": 5,
   "metadata": {},
   "outputs": [
    {
     "output_type": "execute_result",
     "data": {
      "text/plain": [
       "'thisfolder/workdata.txt'"
      ]
     },
     "metadata": {},
     "execution_count": 5
    }
   ],
   "source": []
  },
  {
   "source": [
    "## Leer  un archivo\n",
    "\n",
    "```open()``` toma un nombre de archivo y modo como argumentos. ```r``` abre el archivo en modo de lectura (read).  `with` asegura un uso propio y liberación de recursos. Aquí vamos a trabajar con archivos de texto ubicados en el computador. En el siguiente ejemplo se abrirán archivos ubicados en la carpeta files. Así luce la carpeta files en el computador:"
   ],
   "cell_type": "markdown",
   "metadata": {}
  },
  {
   "cell_type": "code",
   "execution_count": 7,
   "metadata": {},
   "outputs": [
    {
     "output_type": "stream",
     "name": "stdout",
     "text": [
      "Hola amigos!!!\n"
     ]
    }
   ],
   "source": [
    "with open('files/data.txt', 'r') as f:\n",
    "    data = f.read()\n",
    "    print(data)"
   ]
  },
  {
   "source": [
    "## Escribir en un archivo\n",
    "\n",
    "Para escribir información en un archivo se para el argumento w (write):"
   ],
   "cell_type": "markdown",
   "metadata": {}
  },
  {
   "cell_type": "code",
   "execution_count": 9,
   "metadata": {},
   "outputs": [],
   "source": [
    "with open('files/wdata.txt', 'w') as f:\n",
    "    data = 'estamos escribiendo en el archivo 123\\n'\n",
    "    f.write(data)\n",
    "    f.write(data)\n",
    "    f.write(data)"
   ]
  },
  {
   "source": [
    "## Agregar contenido al final de un archivo (append)"
   ],
   "cell_type": "markdown",
   "metadata": {}
  },
  {
   "cell_type": "code",
   "execution_count": 10,
   "metadata": {},
   "outputs": [],
   "source": [
    "with open('files/wdata.txt', 'a', encoding='utf-8') as f:\n",
    "    data = 'más cosas\\n'\n",
    "    f.write(data)\n",
    "    f.write(data)\n",
    "    f.write(data)"
   ]
  },
  {
   "source": [
    "## Otros modos de apertura de archivos \n",
    "\n",
    "Otros modos de abrir archivos en python son:\n",
    "\n",
    "- 'r+' – (read/write): Este modo es usado cuando se desean hacer cambios al archivo y a la vez leer información. El puntero del archivo se ubica al principio del archivo.\n",
    "- 'a+' – (append and Read): Se abre el archivo para escribir y leer del archivo. El puntero del archivo se ubica al final del archivo.\n",
    "- x (exclusive creation): usado exclusivamente para crear un archivo. Si existe un archivo con el mismo nombre la función fallará.\n",
    "\n",
    "Para leer archivos binarios se agrega la letra b al final del modificador. Por ejemplo para escribir ```wb``` y los otros serían ```rb```, ```ab```, ```r+b``` y ```a+b```."
   ],
   "cell_type": "markdown",
   "metadata": {}
  },
  {
   "source": [
    "## Lectura de un archivo \n",
    "\n",
    "Para leer el contenido de un archivo se puede usar ```read()```. Sin parámetros leerá el archivo entero y almacenará el contenido la salida como un string si es un archivo de texto o como objetos en bytes si se trata de un archivo binario. \n",
    "\n",
    "Si se trata de leer un archivo más grande que la memoria disponible no se podrá leer todo el archivo de una vez. En este caso se puede leer el archivo por bytes.\n",
    "\n",
    "Si se tiene el siguiente archivo llamado ```datos1.txt``` con el siguiente contenido:\n",
    "\n",
    "```\n",
    "    Esta es la línea 1: abcabcabc\n",
    "    Esta es la línea 2: abcabcabc\n",
    "    Esta es la línea 3: abcabcabc\n",
    "```"
   ],
   "cell_type": "markdown",
   "metadata": {}
  },
  {
   "cell_type": "code",
   "execution_count": 11,
   "metadata": {},
   "outputs": [
    {
     "output_type": "stream",
     "name": "stdout",
     "text": [
      "Esta es la línea 1: abcabcabc\nEsta es la línea 2: abcabcabc\nEsta es la línea 3: abcabcabc\n"
     ]
    }
   ],
   "source": [
    "with open('files/data1.txt', 'r') as f:\n",
    "    print(f.read())"
   ]
  },
  {
   "source": [
    "## Leer archivos con tíldes\n",
    "\n",
    "Para no tener problemas de codificación se puede agregar el siguiente parámetro:"
   ],
   "cell_type": "markdown",
   "metadata": {}
  },
  {
   "cell_type": "code",
   "execution_count": 17,
   "metadata": {},
   "outputs": [
    {
     "output_type": "stream",
     "name": "stdout",
     "text": [
      "Esta e\ns la línea\n"
     ]
    }
   ],
   "source": [
    "with open('files/data1.txt', 'r', encoding=\"utf-8\") as f:\n",
    "    line = f.read(6)\n",
    "    line2 = f.read(10)\n",
    "\n",
    "print(line)\n",
    "print(line2)"
   ]
  },
  {
   "source": [
    "## Leer archivo línea por línea:\n",
    "\n",
    "Es posible leer un archivo línea por línea utilizando ```readline()```"
   ],
   "cell_type": "markdown",
   "metadata": {}
  },
  {
   "cell_type": "code",
   "execution_count": 18,
   "metadata": {},
   "outputs": [
    {
     "output_type": "stream",
     "name": "stdout",
     "text": [
      "Esta es la línea 1: abcabcabc\nEsta es la línea 2: abcabcabc\n"
     ]
    }
   ],
   "source": [
    "with open('files/data1.txt', 'r', encoding=\"utf-8\") as f:\n",
    "    line = f.readline()\n",
    "    line2 = f.readline()\n",
    "print(line, end='')\n",
    "print(line2, end='')"
   ]
  },
  {
   "source": [
    "## Cargar las líneas de un archivo como una lista\n",
    "\n",
    "Es posible cargar todas las lineas del archivo como una lista si se utiliza:"
   ],
   "cell_type": "markdown",
   "metadata": {}
  },
  {
   "cell_type": "code",
   "execution_count": 22,
   "metadata": {},
   "outputs": [
    {
     "output_type": "stream",
     "name": "stdout",
     "text": [
      "Nombre del archivo:  files/data1.txt\n['Esta es la línea 1: abcabcabc\\n', 'Esta es la línea 2: abcabcabc\\n', 'Esta es la línea 3: abcabcabc']\n"
     ]
    }
   ],
   "source": [
    "with open(\"files/data1.txt\", \"r\", encoding='utf-8') as f:\n",
    "     print(\"Nombre del archivo: \", f.name)\n",
    "     lista = f.readlines()\n",
    "print(lista)"
   ]
  },
  {
   "source": [
    "## La forma más eficiente de procesar un archivo\n",
    "\n",
    "La forma más sencilla y eficiente de abrir y procesar un archivo de texto es: "
   ],
   "cell_type": "markdown",
   "metadata": {}
  },
  {
   "cell_type": "code",
   "execution_count": 23,
   "metadata": {},
   "outputs": [
    {
     "output_type": "stream",
     "name": "stdout",
     "text": [
      "Esta es la línea 1: abcabcabc\nEsta es la línea 2: abcabcabc\nEsta es la línea 3: abcabcabc"
     ]
    }
   ],
   "source": [
    "with open(\"files/data1.txt\", \"r\", encoding='utf-8') as work_data:\n",
    "    for line in work_data:\n",
    "        print(line, end='')"
   ]
  },
  {
   "source": [
    "La anterior es la mejor forma de procesar archivos. Pues nunca carga el contenido del archivo completo si no por partes. "
   ],
   "cell_type": "markdown",
   "metadata": {}
  },
  {
   "source": [
    "## Escritura de archivos\n",
    "\n",
    "A menudo se prefiere utilizar ```a+``` como el modo de apertura para escribir un archivo porque permite añadir datos al final del mismo. Utilizar ```w+``` borrará cualquier dato que existe en el archivo y pues producirá un archivo en límpio para trabajar.\n",
    "\n",
    "El método por defecto para añadir datos en un archivo es ```write```:\n"
   ],
   "cell_type": "markdown",
   "metadata": {}
  },
  {
   "cell_type": "code",
   "execution_count": 24,
   "metadata": {},
   "outputs": [],
   "source": [
    "with open(\"files/data2.txt\", \"a+\", encoding='utf-8') as work_data:\n",
    "    work_data.write(\"\\nEsta es la línea 4: abcabcabc\")"
   ]
  },
  {
   "cell_type": "code",
   "execution_count": 25,
   "metadata": {},
   "outputs": [
    {
     "output_type": "stream",
     "name": "stdout",
     "text": [
      "Esta es la línea 1: abcabcabc\nEsta es la línea 2: abcabcabc\nEsta es la línea 3: abcabcabc\n\nEsta es la línea 4: abcabcabc\n\nEsta es la línea 4: abcabcabc"
     ]
    }
   ],
   "source": [
    "with open(\"files/data2.txt\", \"r\", encoding='utf-8') as work_data:\n",
    "    for line in work_data:\n",
    "        print(line, end='')"
   ]
  },
  {
   "source": [
    "## Escribir datos que no son de texto en un archivo\n",
    "\n",
    "Si se desean escribir datos que no son cadenas de texto en un archivo es necesario convertir cada dato a string."
   ],
   "cell_type": "markdown",
   "metadata": {}
  },
  {
   "cell_type": "code",
   "execution_count": 26,
   "metadata": {},
   "outputs": [],
   "source": [
    "values = [1234, 5678, 9012]\n",
    "\n",
    "with open(\"files/data3.txt\", \"w+\") as work_data:\n",
    "    for value in values:\n",
    "        str_value = str(value)\n",
    "        work_data.write(str_value)\n",
    "        work_data.write(\"\\n\")"
   ]
  },
  {
   "cell_type": "code",
   "execution_count": 27,
   "metadata": {},
   "outputs": [
    {
     "output_type": "stream",
     "name": "stdout",
     "text": [
      "1234\n5678\n9012\n"
     ]
    }
   ],
   "source": [
    "with open(\"files/data3.txt\", \"r\", encoding='utf-8') as work_data:\n",
    "    for line in work_data:\n",
    "        print(line, end='')"
   ]
  },
  {
   "source": [
    "## Seek: moviendo el puntero de lectura y escritura\n",
    " \n",
    "A veces es necesario moverse al principio del archivo o a alguna posición específica en un archivo dado. La forma más fácil de hacerlo es es utilizar ```fileobject.seek(offset, from_what)```.\n",
    "\n",
    "```offset``` es el número de caracteres desde la posición ```from_what```.\n",
    "\n",
    "Hay algunos valores por defecto para la posición ```from_what```:\n",
    "\n",
    "* 0 – Al principio del archivo\n",
    "* 1 – posición actual\n",
    "* 2 – al final del archivo\n",
    "\n",
    "Con archivos de texto 0 ó seek(0, 2), lo llevarán al final del archivo."
   ],
   "cell_type": "markdown",
   "metadata": {}
  },
  {
   "cell_type": "code",
   "execution_count": 29,
   "metadata": {},
   "outputs": [
    {
     "output_type": "stream",
     "name": "stdout",
     "text": [
      "letras\n1234\n5678\n"
     ]
    }
   ],
   "source": [
    "with open(\"files/data4.txt\", \"r\", encoding='utf-8') as work_data:\n",
    "    work_data.seek(11,0)\n",
    "    for line in work_data:\n",
    "        print(line, end='')"
   ]
  },
  {
   "source": [
    "## Determinar tamaño de un archivo en bytes \n",
    "\n",
    "Para obtener la longitud de un archivo o la posición en donde se encuentra en un archivo se puede usar ```fileobject.tell()```. Para determinar el tamaño de un archivo en bytes se puede utilizar:"
   ],
   "cell_type": "markdown",
   "metadata": {}
  },
  {
   "cell_type": "code",
   "execution_count": 30,
   "metadata": {},
   "outputs": [
    {
     "output_type": "stream",
     "name": "stdout",
     "text": [
      "31\n"
     ]
    }
   ],
   "source": [
    "with open(\"files/data4.txt\", \"a+\") as work_data:\n",
    "    print(work_data.tell())"
   ]
  },
  {
   "source": [
    "## Editando un archivo de python\n",
    "\n",
    "La forma más facil de editar un archivo dado es guardar el archivo entero en una lista y utilizar list.insert(i, x) para insertar los datos nuevos. Una vez creada la lista se puede unir (join) de nuevo y escribir esto en el archivo."
   ],
   "cell_type": "markdown",
   "metadata": {}
  },
  {
   "cell_type": "code",
   "execution_count": 31,
   "metadata": {},
   "outputs": [],
   "source": [
    "# Open the file as read-only\n",
    "with open(\"files/data5.txt\", \"r\", encoding='utf-8') as f:\n",
    "    list_content = f.readlines()\n",
    "\n",
    "#print(list_content)\n",
    "    \n",
    "list_content.insert(1, \"Esta es la línea 1.5 jajajaj\\n\")\n",
    "\n",
    "# Re-open in write-only format to overwrite old file\n",
    "with open(\"files/data5.txt\", \"w\", encoding='utf-8') as f:\n",
    "    contenido = \"\".join(list_content)\n",
    "    f.write(contenido)"
   ]
  },
  {
   "cell_type": "code",
   "execution_count": 32,
   "metadata": {},
   "outputs": [
    {
     "output_type": "stream",
     "name": "stdout",
     "text": [
      "Esta es la línea 1: abcabcabc\n\nEsta es la línea 1.5 jajajaj\n\nEsta es la línea 2: abcabcabc\n\nEsta es la línea 3: abcabcabc\n\n"
     ]
    }
   ],
   "source": [
    "with open(\"files/data5.txt\", \"r\", encoding='utf-8') as work_data:\n",
    "    for line in work_data:\n",
    "        print(line)"
   ]
  },
  {
   "source": [
    "## Listando archivos y directorios:\n",
    "\n",
    "En las versiones modernas de python una alternativa a ```os.listdir()``` es utilizar ```os.scandir()``` (desde python 3.5) y ```pathlib.Path()```. \n"
   ],
   "cell_type": "markdown",
   "metadata": {}
  },
  {
   "cell_type": "code",
   "execution_count": 33,
   "metadata": {},
   "outputs": [
    {
     "output_type": "stream",
     "name": "stdout",
     "text": [
      "discurso.jpg, es directorio: False, size: 59808 bytes.\nnames.txt, es directorio: False, size: 220 bytes.\nSalesJan2009.csv, es directorio: False, size: 130480 bytes.\nwdata.txt, es directorio: False, size: 147 bytes.\nprogramming_powers.pkl, es directorio: False, size: 154 bytes.\ntestdir, es directorio: True, size: 64 bytes.\npython_es.txt, es directorio: False, size: 33754 bytes.\ndata1.txt, es directorio: False, size: 94 bytes.\nwdatas.txt, es directorio: False, size: 117 bytes.\ndata3.txt, es directorio: False, size: 15 bytes.\ndata2.txt, es directorio: False, size: 161 bytes.\ndata.txt, es directorio: False, size: 14 bytes.\ndata5.txt, es directorio: False, size: 123 bytes.\ncopy.jpg, es directorio: False, size: 59808 bytes.\ndata4.txt, es directorio: False, size: 31 bytes.\nwdataegghgg.txt, es directorio: False, size: 36 bytes.\n"
     ]
    }
   ],
   "source": [
    "import os\n",
    "entries = os.scandir('files/')\n",
    "\n",
    "for entry in entries:\n",
    "    print(entry.name + ', es directorio: ' + str(entry.is_dir()) + ', size: ' + str(entry.stat().st_size)\n",
    "         + ' bytes.')"
   ]
  },
  {
   "source": [
    "## Guardar Estructuras de Datos en archivos: Pickling\n",
    "\n",
    "A veces se desea almacenar información compleja tales como la información que contiene un diccionario ó una lista. Aquí es donde podemos utilizar el módulo ```pickle``` de python para serializar objetos."
   ],
   "cell_type": "markdown",
   "metadata": {}
  },
  {
   "cell_type": "code",
   "execution_count": 34,
   "metadata": {},
   "outputs": [],
   "source": [
    "import pickle\n",
    "\n",
    "name = [\"mohit\",\"bhaskar\", \"manish\"]\n",
    "skill = [\"Python\", \"Python\", \"Java\"]\n",
    "dict1 = dict([(k,v) for k,v in zip(name, skill)])\n",
    "\n",
    "with open(\"files/programming_powers.pkl\", \"wb\") as pickle_file:\n",
    "    pickle.dump(name, pickle_file)\n",
    "    pickle.dump(skill,pickle_file)\n",
    "    pickle.dump(dict1,pickle_file)"
   ]
  },
  {
   "source": [
    "## Cargar una estructura de datos de un archivo: Unpickling\n",
    "\n",
    "Para obtener los datos de vuelta es posible hacer lo siguiente:"
   ],
   "cell_type": "markdown",
   "metadata": {}
  },
  {
   "cell_type": "code",
   "execution_count": 35,
   "metadata": {},
   "outputs": [
    {
     "output_type": "stream",
     "name": "stdout",
     "text": [
      "['mohit', 'bhaskar', 'manish']\n['Python', 'Python', 'Java']\n{'mohit': 'Python', 'bhaskar': 'Python', 'manish': 'Java'}\n"
     ]
    }
   ],
   "source": [
    "import pickle\n",
    "\n",
    "with open(\"files/programming_powers.pkl\", \"rb\") as pickle_file:\n",
    "    list1 = pickle.load(pickle_file)\n",
    "    list2 = pickle.load(pickle_file)\n",
    "    dict1 = pickle.load(pickle_file)\n",
    "print(list1)\n",
    "print(list2)\n",
    "print(dict1)"
   ]
  },
  {
   "source": [
    "Pickle obtiene los datos de forma secuencial. "
   ],
   "cell_type": "markdown",
   "metadata": {}
  },
  {
   "source": [
    "## Copiar una imagen\n",
    "\n",
    "Una imagen de tipo jpg es un archivo de tipo binario. Con cierto procesamiento es posible crear una copia del archivo:"
   ],
   "cell_type": "markdown",
   "metadata": {}
  },
  {
   "cell_type": "code",
   "execution_count": 37,
   "metadata": {},
   "outputs": [],
   "source": [
    "with open(\"files/discurso.jpg\", \"rb\") as imagen:\n",
    "    data = imagen.read()\n",
    "\n",
    "#print(data)\n",
    "    \n",
    "with open(\"files/copy.jpg\", \"wb\") as f:\n",
    "    f.write(data)"
   ]
  },
  {
   "source": [
    "## Ejercicio 1\n",
    "\n",
    "Dado el archivo de texto ```files/SalesJan2009.csv```, procese el archivo para obtener las compras realizadas en un país dado:\n"
   ],
   "cell_type": "markdown",
   "metadata": {}
  },
  {
   "cell_type": "code",
   "execution_count": null,
   "metadata": {},
   "outputs": [],
   "source": []
  },
  {
   "source": [
    "##  Ejercicio 2\n",
    "\n",
    "Dado el archivo de texto files/SalesJan2009.csv, procese el archivo para obtener las compras realizadas con un medio de pago dado:\n",
    "\n",
    "<table>\n",
    "    <tr>\n",
    "        <td>Input</td><td>Output</td>\n",
    "    </tr>\n",
    "    <tr>\n",
    "        <td>Visa</td><td>521</td>\n",
    "    </tr>\n",
    " </table>"
   ],
   "cell_type": "markdown",
   "metadata": {}
  },
  {
   "cell_type": "code",
   "execution_count": null,
   "metadata": {},
   "outputs": [],
   "source": []
  },
  {
   "source": [
    "## Referencias\n",
    "\n",
    "- Das, B. N. (2017). Learn Python in 7 Days. Packt Publishing Ltd.\n",
    "- https://support.spatialkey.com/spatialkey-sample-csv-data/\n",
    "- https://www.geeksforgeeks.org/with-statement-in-python/\n",
    "- https://stackoverflow.com/questions/40918503/how-to-read-a-utf-8-encoded-text-file-using-python/40918636\n",
    "- https://dbader.org/blog/python-file-io\n",
    "- https://docs.hektorprofe.net/python/errores-y-excepciones/ejercicios/"
   ],
   "cell_type": "markdown",
   "metadata": {}
  },
  {
   "source": [],
   "cell_type": "markdown",
   "metadata": {}
  }
 ]
}