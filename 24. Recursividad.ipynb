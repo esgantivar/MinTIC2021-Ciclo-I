{
 "cells": [
  {
   "cell_type": "markdown",
   "metadata": {},
   "source": [
    "# Recursividad"
   ]
  },
  {
   "cell_type": "markdown",
   "metadata": {},
   "source": [
    "## Programación recursiva"
   ]
  },
  {
   "cell_type": "code",
   "execution_count": 62,
   "metadata": {},
   "outputs": [],
   "source": [
    "def sumar(n):\n",
    "    if n > 1:\n",
    "        return n + sumar(n - 1)\n",
    "    else:\n",
    "        return 1"
   ]
  },
  {
   "cell_type": "code",
   "execution_count": 63,
   "metadata": {},
   "outputs": [
    {
     "data": {
      "text/plain": [
       "15"
      ]
     },
     "execution_count": 63,
     "metadata": {},
     "output_type": "execute_result"
    }
   ],
   "source": [
    "sumar(5)"
   ]
  },
  {
   "cell_type": "code",
   "execution_count": 64,
   "metadata": {},
   "outputs": [],
   "source": [
    "def sumar_parcial(L,n):\n",
    "    if n > 0:\n",
    "        return L[n-1] + sumar_parcial(L,n-1)\n",
    "    else:\n",
    "        return 0"
   ]
  },
  {
   "cell_type": "code",
   "execution_count": 65,
   "metadata": {},
   "outputs": [
    {
     "data": {
      "text/plain": [
       "26"
      ]
     },
     "execution_count": 65,
     "metadata": {},
     "output_type": "execute_result"
    }
   ],
   "source": [
    "L = [3,4,8,5,6]\n",
    "sumar_parcial(L, len(L))"
   ]
  },
  {
   "cell_type": "code",
   "execution_count": 21,
   "metadata": {},
   "outputs": [],
   "source": [
    "def buscar_parcial(str,ch,n):\n",
    "    if n > 0:\n",
    "        return (str[n-1] == ch) or buscar_parcial(str,ch,n-1)\n",
    "    else:\n",
    "        return False"
   ]
  },
  {
   "cell_type": "code",
   "execution_count": 24,
   "metadata": {},
   "outputs": [],
   "source": [
    "cadena = 'ufaseefasd'\n",
    "ch = 'a'"
   ]
  },
  {
   "cell_type": "code",
   "execution_count": 25,
   "metadata": {},
   "outputs": [
    {
     "data": {
      "text/plain": [
       "True"
      ]
     },
     "execution_count": 25,
     "metadata": {},
     "output_type": "execute_result"
    }
   ],
   "source": [
    "buscar_parcial(cadena, ch, len(cadena))"
   ]
  },
  {
   "cell_type": "markdown",
   "metadata": {},
   "source": [
    "## Ejemplos de funciones recursivas"
   ]
  },
  {
   "cell_type": "markdown",
   "metadata": {},
   "source": [
    "### Ejemplo 1\n",
    "\n",
    "<img src=\"https://raw.githubusercontent.com/esgantivar/MinTIC2021-Ciclo-I/main/img/r1.png\" width=500>"
   ]
  },
  {
   "cell_type": "code",
   "execution_count": 26,
   "metadata": {},
   "outputs": [],
   "source": [
    "def f(n):\n",
    "    if n == 0:\n",
    "        return True\n",
    "    elif n == 1:\n",
    "        return False\n",
    "    else:\n",
    "        return f(n-2)"
   ]
  },
  {
   "cell_type": "code",
   "execution_count": null,
   "metadata": {},
   "outputs": [],
   "source": [
    "f(10)"
   ]
  },
  {
   "cell_type": "markdown",
   "metadata": {},
   "source": [
    "### Ejemplo 2\n",
    "\n",
    "<img src=\"https://raw.githubusercontent.com/esgantivar/MinTIC2021-Ciclo-I/main/img/r2.png\" width=500>"
   ]
  },
  {
   "cell_type": "code",
   "execution_count": 29,
   "metadata": {},
   "outputs": [],
   "source": [
    "def g(n):\n",
    "    if n == 0:\n",
    "        return 0\n",
    "    elif n == 1:\n",
    "        return 1\n",
    "    elif n == 2:\n",
    "        return 2\n",
    "    else:\n",
    "        return g(n - 3)"
   ]
  },
  {
   "cell_type": "code",
   "execution_count": null,
   "metadata": {},
   "outputs": [],
   "source": [
    "g(5)"
   ]
  },
  {
   "cell_type": "markdown",
   "metadata": {},
   "source": [
    "### Ejemplo 3\n",
    "\n",
    "<img src=\"https://raw.githubusercontent.com/esgantivar/MinTIC2021-Ciclo-I/main/img/r3.png\" width=500>"
   ]
  },
  {
   "cell_type": "code",
   "execution_count": 36,
   "metadata": {},
   "outputs": [],
   "source": [
    "def h(n, m):\n",
    "    if m == 0:\n",
    "        return n\n",
    "    else:\n",
    "        return h(n + 1, m - 1)    "
   ]
  },
  {
   "cell_type": "code",
   "execution_count": null,
   "metadata": {},
   "outputs": [],
   "source": [
    "h(8, 5)"
   ]
  },
  {
   "cell_type": "markdown",
   "metadata": {},
   "source": [
    "### Problema\n",
    "\n",
    "Diseñe un modelo matemático que permita calcular la función **producto**, es decir, que reciba dos (2) números naturales y retorne la multiplicación del primer número por el segundo.\n",
    "\n",
    "No se pueden utilizar los operadores de multiplicación ni de división (ni entera ni real).\n",
    "\n",
    "Codifique el modelo matemático utilizando el lenguaje Python.\n",
    "  "
   ]
  },
  {
   "cell_type": "code",
   "execution_count": 59,
   "metadata": {},
   "outputs": [],
   "source": [
    "def producto(n, m):\n",
    "    if m == 0:\n",
    "        return 0\n",
    "    else:\n",
    "        return n + producto(n, m - 1)"
   ]
  },
  {
   "cell_type": "code",
   "execution_count": 61,
   "metadata": {},
   "outputs": [
    {
     "data": {
      "text/plain": [
       "55"
      ]
     },
     "execution_count": 61,
     "metadata": {},
     "output_type": "execute_result"
    }
   ],
   "source": [
    "producto(5, 11)"
   ]
  },
  {
   "cell_type": "markdown",
   "metadata": {},
   "source": [
    "## Algunos problemas clásicos de programación recursiva\n",
    "\n",
    "En este ejemplo se definirá una función recursiva que permita hallar un número real elevado a un número natural. Para expresar una función que calcule esta operación, en primera instancia se construye la expresión potencia : $R × N → R$ que define la función que tiene como entrada un número real que representa la base y un número natural que indica el exponente, y como salida se obtendrá un número real que será la potencia. Por facilidad, aquí se asumirá que $0^{0} = 1.$"
   ]
  },
  {
   "cell_type": "markdown",
   "metadata": {},
   "source": [
    "### Potencia"
   ]
  },
  {
   "cell_type": "code",
   "execution_count": 66,
   "metadata": {},
   "outputs": [],
   "source": [
    "def potencia(b, n):\n",
    "    if n == 0:\n",
    "        return 1\n",
    "    else:\n",
    "        return potencia(b, n-1) * b\n"
   ]
  },
  {
   "cell_type": "code",
   "execution_count": 67,
   "metadata": {},
   "outputs": [
    {
     "data": {
      "text/plain": [
       "27"
      ]
     },
     "execution_count": 67,
     "metadata": {},
     "output_type": "execute_result"
    }
   ],
   "source": [
    "potencia(3, 3)"
   ]
  },
  {
   "cell_type": "markdown",
   "metadata": {},
   "source": [
    "### Factorial"
   ]
  },
  {
   "cell_type": "code",
   "execution_count": 68,
   "metadata": {},
   "outputs": [],
   "source": [
    "def fact(n):\n",
    "    if n == 0:\n",
    "        return 1\n",
    "    else: \n",
    "        return n * fact(n - 1)"
   ]
  },
  {
   "cell_type": "markdown",
   "metadata": {},
   "source": [
    "### Interés Compuesto"
   ]
  },
  {
   "cell_type": "code",
   "execution_count": 69,
   "metadata": {},
   "outputs": [],
   "source": [
    "def pago(m, i, n):\n",
    "    if n == 0:\n",
    "        return m\n",
    "    else:\n",
    "        return pago(m, i, n-1) * (1+i)\n",
    "           "
   ]
  },
  {
   "cell_type": "code",
   "execution_count": 70,
   "metadata": {},
   "outputs": [
    {
     "data": {
      "text/plain": [
       "1795856.3260221295"
      ]
     },
     "execution_count": 70,
     "metadata": {},
     "output_type": "execute_result"
    }
   ],
   "source": [
    " pago(1000000, 0.05, 12)"
   ]
  },
  {
   "cell_type": "markdown",
   "metadata": {},
   "source": [
    "### Números de Fibonacci"
   ]
  },
  {
   "cell_type": "code",
   "execution_count": 71,
   "metadata": {},
   "outputs": [],
   "source": [
    "def fibo(n):\n",
    "    if n == 0:\n",
    "        return 0\n",
    "    elif n == 1:\n",
    "        return 1\n",
    "    return fibo(n - 1) + fibo(n - 2)"
   ]
  },
  {
   "cell_type": "code",
   "execution_count": 72,
   "metadata": {},
   "outputs": [
    {
     "data": {
      "text/plain": [
       "144"
      ]
     },
     "execution_count": 72,
     "metadata": {},
     "output_type": "execute_result"
    }
   ],
   "source": [
    "fibo(12)"
   ]
  },
  {
   "cell_type": "markdown",
   "metadata": {},
   "source": [
    "### Problemas"
   ]
  },
  {
   "cell_type": "markdown",
   "metadata": {},
   "source": [
    "1. [x] Modele mediante una función matemática y diseñe un programa recursivo que calcule la suma de los primeros n cuadrados de los números naturales $\\sum_{i=0}^{n}i_{2}$\n",
    "\n",
    "2. [x] Modele mediante una función matemática y diseñe un programa sin cadenas, tuplas o listas que retorne el último dígito de un número natural n (leído de izquierda a derecha). Por ejemplo, `ultimo(13579) = 9`.\n",
    "\n",
    "3. [x] Modele mediante una función matemática y diseñe un programa recursivo sin cadenas, tupla o listas que dado un número natural n elimine el último dígito del número. Por ejemplo elimina `ult(654321) = 65432`.\n",
    "4. [x] Modele mediante una función matemática y diseñe un programa recursivo sin cadenas, tuplas o listas que determine la cantidad de dígitos que componen un número natural n. Por ejemplo, `longitud(1230321) = 7`.\n",
    "5. [x] Modele mediante una función matemática y diseñe un programa recursivo sin cadenas, tuplas o listas que calcule la suma de los dígitos que componen un número natural n. Por ejemplo, `suma digitos(123456) = 21`.\n",
    "6. [x] Modele mediante una función matemática y diseñe un programa recursivo sin cadenas, tuplas o listas que retorne el primer dígito de un número natural n (leído de izquierda a derecha). Por ejemplo, `primero(86420) = 8`.\n",
    "7. [ ] Modele mediante una función matemática y diseñe un programa recursivo sin cadenas, tuplas o listas que dado un número natural n elimine el primer dígito del número. Por ejemplo, elimina `pri(654321) = 54321`.\n",
    "8. [x] Modele mediante una función matemática y diseñe un programa recursivo sin cadenas, tuplas o listas que dado un número natural n inserte un dígito al comienzo del número. Por ejemplo, `inserta(7, 654321) = 7654321`.\n",
    "9. [ ] Modele mediante una función matemática y diseñe un programa recursivo sin cadenas, tuplas o listas que invierta la cifras de un número n dado. Por ejemplo, `inversa(654321) = 123456`.\n",
    "10. [ ] Modele mediante una función matemática y diseñe un programa recursivo sin cadenas, tuplas o listas que determine si un número es capicua. Un número se dice palíndromo si al leerlo de izquierda a derecha es lo mismo que leerlo de derecha a izquierda. Por ejemplo, capicua(1) = V , capicua(1234321) = V , capicua(123421) = F ."
   ]
  },
  {
   "cell_type": "code",
   "execution_count": 53,
   "metadata": {},
   "outputs": [],
   "source": [
    "def sumar_cuadrados(n):\n",
    "    if n > 0:\n",
    "        return n ** 2 + sumar(n - 1)\n",
    "    else:\n",
    "        return 1"
   ]
  },
  {
   "cell_type": "code",
   "execution_count": 54,
   "metadata": {},
   "outputs": [],
   "source": [
    "def ultimo(n):\n",
    "    if n > 10:\n",
    "        return ultimo(n - 10)\n",
    "    else:\n",
    "        return n"
   ]
  },
  {
   "cell_type": "code",
   "execution_count": 55,
   "metadata": {},
   "outputs": [],
   "source": [
    "def ult(n):\n",
    "    return n // 10"
   ]
  },
  {
   "cell_type": "code",
   "execution_count": 56,
   "metadata": {},
   "outputs": [],
   "source": [
    "def len_digitos(n):\n",
    "    if n == 0:\n",
    "        return 0\n",
    "    else:\n",
    "        return 1 + len_digitos(n // 10)"
   ]
  },
  {
   "cell_type": "code",
   "execution_count": 57,
   "metadata": {},
   "outputs": [],
   "source": [
    "def sumar_digitos(n):\n",
    "    if n == 0:\n",
    "        return 0\n",
    "    else:\n",
    "        return n % 10 + sumar_digitos(n // 10)"
   ]
  },
  {
   "cell_type": "code",
   "execution_count": 47,
   "metadata": {},
   "outputs": [],
   "source": [
    "def primero(n):\n",
    "    if n < 10:\n",
    "        return n\n",
    "    else:\n",
    "        return primero(n // 10)"
   ]
  },
  {
   "cell_type": "code",
   "execution_count": 92,
   "metadata": {},
   "outputs": [
    {
     "data": {
      "text/plain": [
       "8"
      ]
     },
     "execution_count": 92,
     "metadata": {},
     "output_type": "execute_result"
    }
   ],
   "source": [
    "primero(84332)"
   ]
  },
  {
   "cell_type": "code",
   "execution_count": 90,
   "metadata": {},
   "outputs": [],
   "source": [
    "def pri(d):\n",
    "    if d < 10:\n",
    "        return d\n",
    "    else:\n",
    "        return pri(d // 10)"
   ]
  },
  {
   "cell_type": "code",
   "execution_count": 91,
   "metadata": {},
   "outputs": [
    {
     "data": {
      "text/plain": [
       "8"
      ]
     },
     "execution_count": 91,
     "metadata": {},
     "output_type": "execute_result"
    }
   ],
   "source": [
    "pri(84332)"
   ]
  },
  {
   "cell_type": "code",
   "execution_count": 86,
   "metadata": {},
   "outputs": [],
   "source": [
    "def inserta(d, n):\n",
    "    if d > n:\n",
    "        return (d * 10) + n\n",
    "    else:\n",
    "        return inserta(d * 10, n)"
   ]
  },
  {
   "cell_type": "code",
   "execution_count": 88,
   "metadata": {},
   "outputs": [
    {
     "data": {
      "text/plain": [
       "54321"
      ]
     },
     "execution_count": 88,
     "metadata": {},
     "output_type": "execute_result"
    }
   ],
   "source": [
    "654321 - 6 * 10 ** 5"
   ]
  },
  {
   "cell_type": "code",
   "execution_count": null,
   "metadata": {},
   "outputs": [],
   "source": [
    "21"
   ]
  },
  {
   "cell_type": "code",
   "execution_count": 89,
   "metadata": {},
   "outputs": [
    {
     "data": {
      "text/plain": [
       "1"
      ]
     },
     "execution_count": 89,
     "metadata": {},
     "output_type": "execute_result"
    }
   ],
   "source": [
    "21 % 10"
   ]
  }
 ],
 "metadata": {
  "interpreter": {
   "hash": "aee8b7b246df8f9039afb4144a1f6fd8d2ca17a180786b69acc140d282b71a49"
  },
  "kernelspec": {
   "display_name": "Python 3.9.1 64-bit",
   "name": "python3"
  },
  "language_info": {
   "codemirror_mode": {
    "name": "ipython",
    "version": 3
   },
   "file_extension": ".py",
   "mimetype": "text/x-python",
   "name": "python",
   "nbconvert_exporter": "python",
   "pygments_lexer": "ipython3",
   "version": "3.9.1"
  },
  "orig_nbformat": 4
 },
 "nbformat": 4,
 "nbformat_minor": 2
}