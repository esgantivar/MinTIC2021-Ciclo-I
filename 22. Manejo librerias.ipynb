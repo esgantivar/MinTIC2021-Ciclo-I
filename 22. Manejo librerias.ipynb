{
 "cells": [
  {
   "cell_type": "markdown",
   "metadata": {},
   "source": [
    "# Manejo de Librerías"
   ]
  },
  {
   "cell_type": "markdown",
   "metadata": {},
   "source": [
    "## Numpy"
   ]
  },
  {
   "cell_type": "markdown",
   "metadata": {},
   "source": [
    "Es una de las librerías más conocidas para realizar computaci ́on cient ́ıfica en Python. Provee una librer ́ıa de alto rendimiento para la manipulación de arreglos en varias dimensiones, además de ofrecer herramientas sofisticadas para manipularlos."
   ]
  },
  {
   "cell_type": "markdown",
   "metadata": {},
   "source": [
    "### Arreglos\n",
    "* Un arreglo en numpy es una ret ́ıcula de valores del mismo tipo indexadas por enteros no negativos\n",
    "* El número de dimensiones (rank) y la forma (shape) del arreglo es una tupla de enteros que da el tamaño del arreglo para cada dimensi ́on.\n",
    "* Se pueden crear arreglos de numpy desde listas de Python y acceder a los elementos con el operador subscript []."
   ]
  },
  {
   "cell_type": "code",
   "execution_count": 1,
   "metadata": {},
   "outputs": [],
   "source": [
    "import numpy as np"
   ]
  },
  {
   "cell_type": "code",
   "execution_count": 3,
   "metadata": {},
   "outputs": [
    {
     "name": "stdout",
     "output_type": "stream",
     "text": [
      "<class 'numpy.ndarray'>\n",
      "[1 2 3 4]\n",
      "(4,)\n",
      "[-4  2  3  4]\n"
     ]
    }
   ],
   "source": [
    "a = np.array(list(range(1,5))) # Crea un arreglo lineal \n",
    "print(type(a)) # Imprime \"<class ’numpy.ndarray’>\"\n",
    "print(a)\n",
    "print(a.shape) \n",
    "a[0] = -4\n",
    "print(a)"
   ]
  },
  {
   "cell_type": "code",
   "execution_count": 4,
   "metadata": {},
   "outputs": [
    {
     "name": "stdout",
     "output_type": "stream",
     "text": [
      "(2, 5)\n",
      "[[1 2 3 5 6]\n",
      " [4 5 6 7 8]]\n",
      "[[1590    2    3    5    6]\n",
      " [   4    5    6    7    8]]\n",
      "1590 2 4\n"
     ]
    }
   ],
   "source": [
    "b = np.array([[1,2,3,5,6],[4,5,6,7,8]]) # Crea un arreglo 2-dimensional\n",
    "print(b.shape)\n",
    "print(b)\n",
    "b[0,0] = 1590\n",
    "print(b)\n",
    "print(b[0,0], b[0,1], b[1,0])"
   ]
  },
  {
   "cell_type": "markdown",
   "metadata": {},
   "source": [
    "Crea una matriz 3-dimensional (2x3x4) de ceros (0’s)"
   ]
  },
  {
   "cell_type": "code",
   "execution_count": 5,
   "metadata": {},
   "outputs": [
    {
     "name": "stdout",
     "output_type": "stream",
     "text": [
      "(2, 3, 4)\n",
      "[[[0. 0. 0. 0.]\n",
      "  [0. 0. 0. 0.]\n",
      "  [0. 0. 0. 0.]]\n",
      "\n",
      " [[0. 0. 0. 0.]\n",
      "  [0. 0. 0. 0.]\n",
      "  [0. 0. 0. 0.]]]\n"
     ]
    }
   ],
   "source": [
    "a = np.zeros((2,3,4))\n",
    "print(a.shape)\n",
    "print(a)"
   ]
  },
  {
   "cell_type": "markdown",
   "metadata": {},
   "source": [
    "Crea una matriz de 2x3 de unos (1’s)"
   ]
  },
  {
   "cell_type": "code",
   "execution_count": 6,
   "metadata": {},
   "outputs": [
    {
     "name": "stdout",
     "output_type": "stream",
     "text": [
      "(2, 3)\n",
      "[[1. 1. 1.]\n",
      " [1. 1. 1.]]\n"
     ]
    }
   ],
   "source": [
    "b = np.ones((2,3))\n",
    "print(b.shape)\n",
    "print(b)"
   ]
  },
  {
   "cell_type": "markdown",
   "metadata": {},
   "source": [
    "**subscript**"
   ]
  },
  {
   "cell_type": "code",
   "execution_count": 7,
   "metadata": {},
   "outputs": [
    {
     "name": "stdout",
     "output_type": "stream",
     "text": [
      "(3, 4)\n",
      "[[ 1  2  3  4]\n",
      " [ 5  6  7  8]\n",
      " [ 9 10 11 12]]\n"
     ]
    }
   ],
   "source": [
    "a = np.array([[1,2,3,4], [5,6,7,8], [9,10,11,12]])\n",
    "print(a.shape)\n",
    "print(a)"
   ]
  },
  {
   "cell_type": "code",
   "execution_count": 8,
   "metadata": {},
   "outputs": [
    {
     "name": "stdout",
     "output_type": "stream",
     "text": [
      "[[2 3]\n",
      " [6 7]]\n"
     ]
    }
   ],
   "source": [
    "# El primer argumento indica las filas y el segundo las columnas\n",
    "b = a[:2, 1:3]\n",
    "print(b)"
   ]
  },
  {
   "cell_type": "code",
   "execution_count": 13,
   "metadata": {},
   "outputs": [
    {
     "name": "stdout",
     "output_type": "stream",
     "text": [
      "int64\n",
      "float64\n",
      "[ 5 -4  3]\n",
      "int32\n"
     ]
    }
   ],
   "source": [
    "x = np.array([5, -4])\n",
    "print(x.dtype)\n",
    "x = np.array([1.0, 2.0])\n",
    "print(x.dtype)\n",
    "x = np.array([5, -4], dtype=np.int32)\n",
    "print(x)\n",
    "print(x.dtype)"
   ]
  },
  {
   "cell_type": "code",
   "execution_count": 15,
   "metadata": {},
   "outputs": [
    {
     "name": "stdout",
     "output_type": "stream",
     "text": [
      "[[1. 2. 5.]\n",
      " [3. 4. 6.]]\n",
      "[[ 5.  6. -1.]\n",
      " [ 7.  8. -6.]]\n"
     ]
    }
   ],
   "source": [
    "x = np.array([[1,2,5], [3,4,6]], dtype=np.float128)\n",
    "y = np.array([[5,6,-1], [7,8,-6]], dtype=np.float128)\n",
    "print(x)\n",
    "print(y)\n"
   ]
  },
  {
   "cell_type": "code",
   "execution_count": 16,
   "metadata": {},
   "outputs": [
    {
     "data": {
      "text/plain": [
       "array([[ 6.,  8.,  4.],\n",
       "       [10., 12.,  0.]], dtype=float128)"
      ]
     },
     "execution_count": 16,
     "metadata": {},
     "output_type": "execute_result"
    }
   ],
   "source": [
    "x + y"
   ]
  },
  {
   "cell_type": "code",
   "execution_count": 17,
   "metadata": {},
   "outputs": [
    {
     "data": {
      "text/plain": [
       "array([[ 6.,  8.,  4.],\n",
       "       [10., 12.,  0.]], dtype=float128)"
      ]
     },
     "execution_count": 17,
     "metadata": {},
     "output_type": "execute_result"
    }
   ],
   "source": [
    "np.add(x, y)"
   ]
  },
  {
   "cell_type": "code",
   "execution_count": 18,
   "metadata": {},
   "outputs": [
    {
     "name": "stdout",
     "output_type": "stream",
     "text": [
      "[[1.         1.41421356 2.23606798]\n",
      " [1.73205081 2.         2.44948974]]\n"
     ]
    }
   ],
   "source": [
    "print(np.sqrt(x))"
   ]
  },
  {
   "cell_type": "code",
   "execution_count": 19,
   "metadata": {},
   "outputs": [
    {
     "data": {
      "text/plain": [
       "array([2.        , 2.11111111, 2.22222222, 2.33333333, 2.44444444,\n",
       "       2.55555556, 2.66666667, 2.77777778, 2.88888889, 3.        ])"
      ]
     },
     "execution_count": 19,
     "metadata": {},
     "output_type": "execute_result"
    }
   ],
   "source": [
    "np.linspace(2, 3, num=10, endpoint=True, retstep=False)"
   ]
  },
  {
   "cell_type": "markdown",
   "metadata": {},
   "source": [
    "## Matplotlib\n",
    "\n",
    "* Matplotlib es una librería para crear visualizaciones estáticas o animadas en Python.\n",
    "* Es posible graficar en un área con uno o más ejes (en términos de coordenadas x-y, theta-r, coordenadas polares, x-y-z, etc.\n",
    "* La forma más simple de crear una figura con ejes es usar el m ́odulo pyplot\n",
    "\n",
    "[Documentación](https://matplotlib.org/stable/tutorials/introductory/usage.html)"
   ]
  },
  {
   "cell_type": "code",
   "execution_count": 21,
   "metadata": {},
   "outputs": [],
   "source": [
    "import matplotlib.pyplot as plt"
   ]
  },
  {
   "cell_type": "code",
   "execution_count": 22,
   "metadata": {},
   "outputs": [
    {
     "data": {
      "text/plain": [
       "[<matplotlib.lines.Line2D at 0x1124129a0>]"
      ]
     },
     "execution_count": 22,
     "metadata": {},
     "output_type": "execute_result"
    },
    {
     "data": {
      "image/png": "[encoded data removed]",
      "text/plain": [
       "<Figure size 432x288 with 1 Axes>"
      ]
     },
     "metadata": {
      "needs_background": "light"
     },
     "output_type": "display_data"
    }
   ],
   "source": [
    "plt.plot([1, 2, 3, 4], [1, 4, 2, 3])"
   ]
  },
  {
   "cell_type": "code",
   "execution_count": 23,
   "metadata": {},
   "outputs": [
    {
     "data": {
      "text/plain": [
       "<matplotlib.legend.Legend at 0x1124fb220>"
      ]
     },
     "execution_count": 23,
     "metadata": {},
     "output_type": "execute_result"
    },
    {
     "data": {
      "image/png": "[encoded data removed]",
      "text/plain": [
       "<Figure size 432x288 with 1 Axes>"
      ]
     },
     "metadata": {
      "needs_background": "light"
     },
     "output_type": "display_data"
    }
   ],
   "source": [
    "x = np.linspace(0, 2, 50)\n",
    "#print(x)\n",
    "# A ́un con el OO-style, usamos \".pyplot.figure\" para crear la figura. \n",
    "fig, ax = plt.subplots() # Crea la figura y los ejes.\n",
    "ax.plot(x, x, label=\"linear\") # Dibuja algunos datos en los ejes. \n",
    "ax.plot(x, x**2, label=\"quadratic\") # Dibuja mas datos en los ejes. \n",
    "ax.plot(x, x**3, label=\"cubic\") # ... y algunos más. \n",
    "ax.set_xlabel(\"x label\") # Agrega un x-label a los ejes. \n",
    "ax.set_ylabel(\"y label\") # Agrega un y-label a los ejes. \n",
    "ax.set_title(\"Simple Plot\") # Agrega título a los ejes.\n",
    "ax.legend() # Agrega una leyenda."
   ]
  },
  {
   "cell_type": "code",
   "execution_count": 24,
   "metadata": {},
   "outputs": [
    {
     "data": {
      "image/png": "[encoded data removed]",
      "text/plain": [
       "<Figure size 648x216 with 3 Axes>"
      ]
     },
     "metadata": {
      "needs_background": "light"
     },
     "output_type": "display_data"
    }
   ],
   "source": [
    "names = [\"group_a\", \"group_b\", \"group_c\"]\n",
    "values = [3.4, 50.3, 23]\n",
    "plt.figure(figsize=(9, 3))\n",
    "plt.subplot(131)\n",
    "plt.bar(names, values)\n",
    "plt.subplot(132)\n",
    "plt.scatter(names, values)\n",
    "plt.subplot(133)\n",
    "plt.plot(names, values)\n",
    "plt.suptitle(\"Categorical Plotting\")\n",
    "plt.show()\n",
    "    "
   ]
  },
  {
   "cell_type": "markdown",
   "metadata": {},
   "source": [
    "### Pandas\n",
    "\n",
    "Permite manipular datos de alto nivel. Es una librería fácil de usar para an ́alisis y manipulación de datos. Está construida sobre Numpy.\n"
   ]
  },
  {
   "cell_type": "code",
   "execution_count": 25,
   "metadata": {},
   "outputs": [],
   "source": [
    "import pandas as pd"
   ]
  },
  {
   "cell_type": "code",
   "execution_count": 26,
   "metadata": {},
   "outputs": [
    {
     "data": {
      "text/html": [
       "<div>\n",
       "<style scoped>\n",
       "    .dataframe tbody tr th:only-of-type {\n",
       "        vertical-align: middle;\n",
       "    }\n",
       "\n",
       "    .dataframe tbody tr th {\n",
       "        vertical-align: top;\n",
       "    }\n",
       "\n",
       "    .dataframe thead th {\n",
       "        text-align: right;\n",
       "    }\n",
       "</style>\n",
       "<table border=\"1\" class=\"dataframe\">\n",
       "  <thead>\n",
       "    <tr style=\"text-align: right;\">\n",
       "      <th></th>\n",
       "      <th>country</th>\n",
       "      <th>capital</th>\n",
       "      <th>area</th>\n",
       "      <th>population</th>\n",
       "    </tr>\n",
       "  </thead>\n",
       "  <tbody>\n",
       "    <tr>\n",
       "      <th>0</th>\n",
       "      <td>Brazil</td>\n",
       "      <td>Brasilia</td>\n",
       "      <td>8.516</td>\n",
       "      <td>200.40</td>\n",
       "    </tr>\n",
       "    <tr>\n",
       "      <th>1</th>\n",
       "      <td>Russia</td>\n",
       "      <td>Moscow</td>\n",
       "      <td>17.100</td>\n",
       "      <td>143.50</td>\n",
       "    </tr>\n",
       "    <tr>\n",
       "      <th>2</th>\n",
       "      <td>India</td>\n",
       "      <td>New Dehli</td>\n",
       "      <td>3.286</td>\n",
       "      <td>1252.00</td>\n",
       "    </tr>\n",
       "    <tr>\n",
       "      <th>3</th>\n",
       "      <td>China</td>\n",
       "      <td>Beijing</td>\n",
       "      <td>9.597</td>\n",
       "      <td>1357.00</td>\n",
       "    </tr>\n",
       "    <tr>\n",
       "      <th>4</th>\n",
       "      <td>South Africa</td>\n",
       "      <td>Pretoria</td>\n",
       "      <td>1.221</td>\n",
       "      <td>52.98</td>\n",
       "    </tr>\n",
       "    <tr>\n",
       "      <th>5</th>\n",
       "      <td>Colombia</td>\n",
       "      <td>Bogot ́a</td>\n",
       "      <td>1.142</td>\n",
       "      <td>49.65</td>\n",
       "    </tr>\n",
       "  </tbody>\n",
       "</table>\n",
       "</div>"
      ],
      "text/plain": [
       "        country    capital    area  population\n",
       "0        Brazil   Brasilia   8.516      200.40\n",
       "1        Russia     Moscow  17.100      143.50\n",
       "2         India  New Dehli   3.286     1252.00\n",
       "3         China    Beijing   9.597     1357.00\n",
       "4  South Africa   Pretoria   1.221       52.98\n",
       "5      Colombia   Bogot ́a   1.142       49.65"
      ]
     },
     "execution_count": 26,
     "metadata": {},
     "output_type": "execute_result"
    }
   ],
   "source": [
    "dictc = {\"country\": [\"Brazil\", \"Russia\", \"India\",\n",
    "                          \"China\", \"South Africa\", \"Colombia\"],\n",
    "\"capital\": [\"Brasilia\", \"Moscow\", \"New Dehli\", \"Beijing\", \"Pretoria\", \"Bogot ́a\"],\n",
    "            \"area\": [8.516, 17.10, 3.286, 9.597, 1.221, 1.142],\n",
    "            \"population\": [200.4, 143.5, 1252, 1357, 52.98, 49.65] }\n",
    "brics = pd.DataFrame(dictc)\n",
    "brics\n",
    "  "
   ]
  },
  {
   "cell_type": "markdown",
   "metadata": {},
   "source": [
    "Pandas permite manipular archivos de tipo *.csv."
   ]
  },
  {
   "cell_type": "code",
   "execution_count": 27,
   "metadata": {},
   "outputs": [],
   "source": [
    "import requests"
   ]
  },
  {
   "cell_type": "code",
   "execution_count": 39,
   "metadata": {},
   "outputs": [
    {
     "name": "stdout",
     "output_type": "stream",
     "text": [
      "--2021-06-21 18:47:23--  https://raw.githubusercontent.com/arleserp/MinTIC2022/master/files/SalesJan2009.csv\n",
      "Resolving raw.githubusercontent.com (raw.githubusercontent.com)... 185.199.109.133, 185.199.110.133, 185.199.111.133, ...\n",
      "Connecting to raw.githubusercontent.com (raw.githubusercontent.com)|185.199.109.133|:443... connected.\n",
      "HTTP request sent, awaiting response... 200 OK\n",
      "Length: 129482 (126K) [text/plain]\n",
      "Saving to: ‘SalesJan2009.csv.1’\n",
      "\n",
      "SalesJan2009.csv.1  100%[===================>] 126.45K  --.-KB/s    in 0.07s   \n",
      "\n",
      "2021-06-21 18:47:23 (1.66 MB/s) - ‘SalesJan2009.csv.1’ saved [129482/129482]\n",
      "\n"
     ]
    }
   ],
   "source": [
    "!wget \"https://raw.githubusercontent.com/arleserp/MinTIC2022/master/files/SalesJan2009.csv\""
   ]
  },
  {
   "cell_type": "code",
   "execution_count": 30,
   "metadata": {},
   "outputs": [],
   "source": [
    "response = requests.get('https://raw.githubusercontent.com/arleserp/MinTIC2022/master/files/SalesJan2009.csv')\n",
    "with open('SalesJan2009.csv', 'w') as f:\n",
    "    f.write(response.text)"
   ]
  },
  {
   "cell_type": "code",
   "execution_count": null,
   "metadata": {},
   "outputs": [],
   "source": []
  },
  {
   "cell_type": "code",
   "execution_count": 31,
   "metadata": {},
   "outputs": [],
   "source": [
    "ventasdf = pd.read_csv(\"SalesJan2009.csv\")"
   ]
  },
  {
   "cell_type": "code",
   "execution_count": 33,
   "metadata": {},
   "outputs": [
    {
     "data": {
      "text/html": [
       "<div>\n",
       "<style scoped>\n",
       "    .dataframe tbody tr th:only-of-type {\n",
       "        vertical-align: middle;\n",
       "    }\n",
       "\n",
       "    .dataframe tbody tr th {\n",
       "        vertical-align: top;\n",
       "    }\n",
       "\n",
       "    .dataframe thead th {\n",
       "        text-align: right;\n",
       "    }\n",
       "</style>\n",
       "<table border=\"1\" class=\"dataframe\">\n",
       "  <thead>\n",
       "    <tr style=\"text-align: right;\">\n",
       "      <th></th>\n",
       "      <th>Transaction_date</th>\n",
       "      <th>Product</th>\n",
       "      <th>Price</th>\n",
       "      <th>Payment_Type</th>\n",
       "      <th>Name</th>\n",
       "      <th>City</th>\n",
       "      <th>State</th>\n",
       "      <th>Country</th>\n",
       "      <th>Account_Created</th>\n",
       "      <th>Last_Login</th>\n",
       "      <th>Latitude</th>\n",
       "      <th>Longitude</th>\n",
       "    </tr>\n",
       "  </thead>\n",
       "  <tbody>\n",
       "    <tr>\n",
       "      <th>0</th>\n",
       "      <td>1/2/2009 6:17</td>\n",
       "      <td>Product1</td>\n",
       "      <td>1200</td>\n",
       "      <td>Mastercard</td>\n",
       "      <td>carolina</td>\n",
       "      <td>Basildon</td>\n",
       "      <td>England</td>\n",
       "      <td>United Kingdom</td>\n",
       "      <td>1/2/2009 6:00</td>\n",
       "      <td>1/2/2009 6:08</td>\n",
       "      <td>51.50000</td>\n",
       "      <td>-1.116667</td>\n",
       "    </tr>\n",
       "    <tr>\n",
       "      <th>1</th>\n",
       "      <td>1/2/2009 4:53</td>\n",
       "      <td>Product1</td>\n",
       "      <td>1200</td>\n",
       "      <td>Visa</td>\n",
       "      <td>Betina</td>\n",
       "      <td>Parkville</td>\n",
       "      <td>MO</td>\n",
       "      <td>United States</td>\n",
       "      <td>1/2/2009 4:42</td>\n",
       "      <td>1/2/2009 7:49</td>\n",
       "      <td>39.19500</td>\n",
       "      <td>-94.681940</td>\n",
       "    </tr>\n",
       "    <tr>\n",
       "      <th>2</th>\n",
       "      <td>1/2/2009 13:08</td>\n",
       "      <td>Product1</td>\n",
       "      <td>1200</td>\n",
       "      <td>Mastercard</td>\n",
       "      <td>Federica e Andrea</td>\n",
       "      <td>Astoria</td>\n",
       "      <td>OR</td>\n",
       "      <td>United States</td>\n",
       "      <td>1/1/2009 16:21</td>\n",
       "      <td>1/3/2009 12:32</td>\n",
       "      <td>46.18806</td>\n",
       "      <td>-123.830000</td>\n",
       "    </tr>\n",
       "  </tbody>\n",
       "</table>\n",
       "</div>"
      ],
      "text/plain": [
       "  Transaction_date   Product  Price Payment_Type               Name  \\\n",
       "0    1/2/2009 6:17  Product1   1200   Mastercard           carolina   \n",
       "1    1/2/2009 4:53  Product1   1200         Visa             Betina   \n",
       "2   1/2/2009 13:08  Product1   1200   Mastercard  Federica e Andrea   \n",
       "\n",
       "                           City    State         Country Account_Created  \\\n",
       "0                      Basildon  England  United Kingdom   1/2/2009 6:00   \n",
       "1  Parkville                          MO   United States   1/2/2009 4:42   \n",
       "2  Astoria                            OR   United States  1/1/2009 16:21   \n",
       "\n",
       "       Last_Login  Latitude   Longitude  \n",
       "0   1/2/2009 6:08  51.50000   -1.116667  \n",
       "1   1/2/2009 7:49  39.19500  -94.681940  \n",
       "2  1/3/2009 12:32  46.18806 -123.830000  "
      ]
     },
     "execution_count": 33,
     "metadata": {},
     "output_type": "execute_result"
    }
   ],
   "source": [
    "ventasdf.head(3)"
   ]
  },
  {
   "cell_type": "code",
   "execution_count": 34,
   "metadata": {},
   "outputs": [],
   "source": [
    "from collections import Counter"
   ]
  },
  {
   "cell_type": "code",
   "execution_count": 36,
   "metadata": {},
   "outputs": [
    {
     "data": {
      "text/plain": [
       "[('United States', 462), ('United Kingdom', 100), ('Canada', 76)]"
      ]
     },
     "execution_count": 36,
     "metadata": {},
     "output_type": "execute_result"
    }
   ],
   "source": [
    "cp = Counter(ventasdf[\"Country\"])\n",
    "cp.most_common(3)"
   ]
  },
  {
   "cell_type": "code",
   "execution_count": 37,
   "metadata": {},
   "outputs": [
    {
     "data": {
      "text/plain": [
       "[('Visa', 521), ('Mastercard', 277), ('Amex', 110)]"
      ]
     },
     "execution_count": 37,
     "metadata": {},
     "output_type": "execute_result"
    }
   ],
   "source": [
    "cv = Counter(ventasdf[\"Payment_Type\"])\n",
    "cv.most_common(3)"
   ]
  },
  {
   "cell_type": "code",
   "execution_count": 38,
   "metadata": {},
   "outputs": [
    {
     "data": {
      "image/png": "[encoded data removed]",
      "text/plain": [
       "<Figure size 432x288 with 1 Axes>"
      ]
     },
     "metadata": {
      "needs_background": "light"
     },
     "output_type": "display_data"
    }
   ],
   "source": [
    "ventasdf[\"Transaction_date\"]=pd.to_datetime(ventasdf[\"Transaction_date\"])\n",
    "A = (ventasdf[\"Transaction_date\"]\n",
    "    .dt.floor(\"d\")\n",
    "    .value_counts()\n",
    "    .rename_axis(\"date\")\n",
    "    .reset_index(name=\"num ventas\"))\n",
    "G=A.plot(x=\"date\",y=\"num ventas\",color=\"green\",title=\"Ventas por fecha\")\n",
    "plt.show()"
   ]
  }
 ],
 "metadata": {
  "interpreter": {
   "hash": "aee8b7b246df8f9039afb4144a1f6fd8d2ca17a180786b69acc140d282b71a49"
  },
  "kernelspec": {
   "display_name": "Python 3.9.1 64-bit",
   "name": "python3"
  },
  "language_info": {
   "codemirror_mode": {
    "name": "ipython",
    "version": 3
   },
   "file_extension": ".py",
   "mimetype": "text/x-python",
   "name": "python",
   "nbconvert_exporter": "python",
   "pygments_lexer": "ipython3",
   "version": "3.9.1"
  },
  "orig_nbformat": 4
 },
 "nbformat": 4,
 "nbformat_minor": 2
}