{
  "nbformat": 4,
  "nbformat_minor": 0,
  "metadata": {
    "interpreter": {
      "hash": "aee8b7b246df8f9039afb4144a1f6fd8d2ca17a180786b69acc140d282b71a49"
    },
    "kernelspec": {
      "display_name": "Python 3.9.1 64-bit",
      "name": "python3"
    },
    "language_info": {
      "codemirror_mode": {
        "name": "ipython",
        "version": 3
      },
      "file_extension": ".py",
      "mimetype": "text/x-python",
      "name": "python",
      "nbconvert_exporter": "python",
      "pygments_lexer": "ipython3",
      "version": "3.9.1"
    },
    "orig_nbformat": 4,
    "colab": {
      "name": "22. Manejo librerias.ipynb",
      "provenance": []
    }
  },
  "cells": [
    {
      "cell_type": "markdown",
      "metadata": {
        "id": "4-8jlJTWCChk"
      },
      "source": [
        "# Manejo de Librerías"
      ]
    },
    {
      "cell_type": "markdown",
      "metadata": {
        "id": "eZd_mixCCChn"
      },
      "source": [
        "## Numpy"
      ]
    },
    {
      "cell_type": "markdown",
      "metadata": {
        "id": "QKdPYEOTCCho"
      },
      "source": [
        "Es una de las librerías más conocidas para realizar computaci ́on cient ́ıfica en Python. Provee una librer ́ıa de alto rendimiento para la manipulación de arreglos en varias dimensiones, además de ofrecer herramientas sofisticadas para manipularlos."
      ]
    },
    {
      "cell_type": "markdown",
      "metadata": {
        "id": "zxffbfmkCChp"
      },
      "source": [
        "### Arreglos\n",
        "* Un arreglo en numpy es una ret ́ıcula de valores del mismo tipo indexadas por enteros no negativos\n",
        "* El número de dimensiones (rank) y la forma (shape) del arreglo es una tupla de enteros que da el tamaño del arreglo para cada dimensi ́on.\n",
        "* Se pueden crear arreglos de numpy desde listas de Python y acceder a los elementos con el operador subscript []."
      ]
    },
    {
      "cell_type": "code",
      "metadata": {
        "id": "ZfHzU9wrFAei"
      },
      "source": [
        "!pip install [nombre del paquete]"
      ],
      "execution_count": null,
      "outputs": []
    },
    {
      "cell_type": "code",
      "metadata": {
        "id": "wZAypxLgF7BY",
        "outputId": "802793d2-f5f5-47ea-9117-5f602a475c3a",
        "colab": {
          "base_uri": "https://localhost:8080/"
        }
      },
      "source": [
        "!pip uninstall numpy -y"
      ],
      "execution_count": 1,
      "outputs": [
        {
          "output_type": "stream",
          "text": [
            "Uninstalling numpy-1.19.5:\n",
            "  Successfully uninstalled numpy-1.19.5\n"
          ],
          "name": "stdout"
        }
      ]
    },
    {
      "cell_type": "code",
      "metadata": {
        "id": "zyDK2LloFfep"
      },
      "source": [
        "!pip freeze > paquetes.txt"
      ],
      "execution_count": 40,
      "outputs": []
    },
    {
      "cell_type": "code",
      "metadata": {
        "id": "E-9RZcNUCChq"
      },
      "source": [
        "import numpy as np"
      ],
      "execution_count": 2,
      "outputs": []
    },
    {
      "cell_type": "code",
      "metadata": {
        "id": "yHkFASB9CChr",
        "outputId": "270190de-635b-4238-faf6-2009c70a5857",
        "colab": {
          "base_uri": "https://localhost:8080/"
        }
      },
      "source": [
        "l = list(range(1,5))\n",
        "a = np.array(list(range(1,5))) # Crea un arreglo lineal \n",
        "print(type(a)) # Imprime \"<class ’numpy.ndarray’>\"\n",
        "print(a)\n",
        "print(type(l))\n",
        "print(a.shape)\n",
        "a[0] = -4\n",
        "print(a)"
      ],
      "execution_count": 5,
      "outputs": [
        {
          "output_type": "stream",
          "text": [
            "<class 'numpy.ndarray'>\n",
            "[1 2 3 4]\n",
            "<class 'list'>\n",
            "(4,)\n",
            "[-4  2  3  4]\n"
          ],
          "name": "stdout"
        }
      ]
    },
    {
      "cell_type": "code",
      "metadata": {
        "id": "341fzaTCCCh0",
        "outputId": "67de9e92-12e1-48f7-b38e-d767bb46061c",
        "colab": {
          "base_uri": "https://localhost:8080/"
        }
      },
      "source": [
        "b = np.array([[1,2,3,5,6],[4,5,6,7, 8]]) # Crea un arreglo 2-dimensional\n",
        "print(b.shape)\n",
        "print(b)\n",
        "b[0,0] = 1590\n",
        "print(b)\n",
        "print(b[0,0], b[0,1], b[1,0])"
      ],
      "execution_count": 9,
      "outputs": [
        {
          "output_type": "stream",
          "text": [
            "(2, 5)\n",
            "[[1 2 3 5 6]\n",
            " [4 5 6 7 8]]\n",
            "[[1590    2    3    5    6]\n",
            " [   4    5    6    7    8]]\n",
            "1590 2 4\n"
          ],
          "name": "stdout"
        }
      ]
    },
    {
      "cell_type": "code",
      "metadata": {
        "id": "GYecJTNwJBrb",
        "outputId": "fd0015b4-5a76-4386-fcf7-a3e062a32487",
        "colab": {
          "base_uri": "https://localhost:8080/"
        }
      },
      "source": [
        "np.zeros((2, 5))"
      ],
      "execution_count": 7,
      "outputs": [
        {
          "output_type": "execute_result",
          "data": {
            "text/plain": [
              "array([[0., 0., 0., 0., 0.],\n",
              "       [0., 0., 0., 0., 0.]])"
            ]
          },
          "metadata": {
            "tags": []
          },
          "execution_count": 7
        }
      ]
    },
    {
      "cell_type": "markdown",
      "metadata": {
        "id": "4YTlByRiCCh2"
      },
      "source": [
        "Crea una matriz 3-dimensional (2x3x4) de ceros (0’s)"
      ]
    },
    {
      "cell_type": "code",
      "metadata": {
        "id": "hrv4gPf-CCh4",
        "outputId": "7103abe7-0a93-4f72-bc75-4b379ec8f729",
        "colab": {
          "base_uri": "https://localhost:8080/"
        }
      },
      "source": [
        "a = np.zeros((2,3,4))\n",
        "print(a.shape)\n",
        "print(a)"
      ],
      "execution_count": 10,
      "outputs": [
        {
          "output_type": "stream",
          "text": [
            "(2, 3, 4)\n",
            "[[[0. 0. 0. 0.]\n",
            "  [0. 0. 0. 0.]\n",
            "  [0. 0. 0. 0.]]\n",
            "\n",
            " [[0. 0. 0. 0.]\n",
            "  [0. 0. 0. 0.]\n",
            "  [0. 0. 0. 0.]]]\n"
          ],
          "name": "stdout"
        }
      ]
    },
    {
      "cell_type": "markdown",
      "metadata": {
        "id": "MfVy4zG_CCh4"
      },
      "source": [
        "Crea una matriz de 2x3 de unos (1’s)"
      ]
    },
    {
      "cell_type": "code",
      "metadata": {
        "id": "YzKm3eqfCCh5",
        "outputId": "250cfe93-0cb1-4e54-9fcd-6b66ba34a083",
        "colab": {
          "base_uri": "https://localhost:8080/"
        }
      },
      "source": [
        "b = np.ones((2,3))\n",
        "print(b.shape)\n",
        "print(b)"
      ],
      "execution_count": 11,
      "outputs": [
        {
          "output_type": "stream",
          "text": [
            "(2, 3)\n",
            "[[1. 1. 1.]\n",
            " [1. 1. 1.]]\n"
          ],
          "name": "stdout"
        }
      ]
    },
    {
      "cell_type": "code",
      "metadata": {
        "id": "3TMGG59QKFxE"
      },
      "source": [
        "b = 5 * b"
      ],
      "execution_count": 13,
      "outputs": []
    },
    {
      "cell_type": "code",
      "metadata": {
        "id": "LbfW-IqZKPX9",
        "outputId": "b2c45c1b-dfd4-47b9-84d0-9aa8eff6eebe",
        "colab": {
          "base_uri": "https://localhost:8080/"
        }
      },
      "source": [
        "b / 2"
      ],
      "execution_count": 14,
      "outputs": [
        {
          "output_type": "execute_result",
          "data": {
            "text/plain": [
              "array([[2.5, 2.5, 2.5],\n",
              "       [2.5, 2.5, 2.5]])"
            ]
          },
          "metadata": {
            "tags": []
          },
          "execution_count": 14
        }
      ]
    },
    {
      "cell_type": "code",
      "metadata": {
        "id": "NdCTLKwjKSTH",
        "outputId": "4a34ac82-5a9c-42cf-ad93-07ec2d3adbe1",
        "colab": {
          "base_uri": "https://localhost:8080/"
        }
      },
      "source": [
        "b.tolist()"
      ],
      "execution_count": 15,
      "outputs": [
        {
          "output_type": "execute_result",
          "data": {
            "text/plain": [
              "[[5.0, 5.0, 5.0], [5.0, 5.0, 5.0]]"
            ]
          },
          "metadata": {
            "tags": []
          },
          "execution_count": 15
        }
      ]
    },
    {
      "cell_type": "markdown",
      "metadata": {
        "id": "NcXj241pCCh6"
      },
      "source": [
        "**subscript**"
      ]
    },
    {
      "cell_type": "code",
      "metadata": {
        "id": "3UUixCtxCCh7",
        "outputId": "afbbd7f8-9721-4a72-8b5a-0574b8358d47",
        "colab": {
          "base_uri": "https://localhost:8080/"
        }
      },
      "source": [
        "a = np.array([[1,2,3,4], [5,6,7,8], [9,10,11,12]])\n",
        "print(a.shape)\n",
        "print(a)"
      ],
      "execution_count": 16,
      "outputs": [
        {
          "output_type": "stream",
          "text": [
            "(3, 4)\n",
            "[[ 1  2  3  4]\n",
            " [ 5  6  7  8]\n",
            " [ 9 10 11 12]]\n"
          ],
          "name": "stdout"
        }
      ]
    },
    {
      "cell_type": "code",
      "metadata": {
        "id": "Mi-wx7jpCCh9",
        "outputId": "3fd5a800-47f0-48a1-c2cf-0adf865b0cd2",
        "colab": {
          "base_uri": "https://localhost:8080/"
        }
      },
      "source": [
        "# El primer argumento indica las filas y el segundo las columnas\n",
        "b = a[:2, 1:4]\n",
        "print(b)"
      ],
      "execution_count": 18,
      "outputs": [
        {
          "output_type": "stream",
          "text": [
            "[[2 3 4]\n",
            " [6 7 8]]\n"
          ],
          "name": "stdout"
        }
      ]
    },
    {
      "cell_type": "code",
      "metadata": {
        "id": "KUgdIS9tLEyD"
      },
      "source": [
        "l = ['4', 5, 'l']"
      ],
      "execution_count": null,
      "outputs": []
    },
    {
      "cell_type": "code",
      "metadata": {
        "id": "oqtkabWsLMl6"
      },
      "source": [
        ""
      ],
      "execution_count": null,
      "outputs": []
    },
    {
      "cell_type": "code",
      "metadata": {
        "id": "BAdShxxACCh-",
        "outputId": "0936a0b5-faaf-42d1-eb6a-73b54f311ab9",
        "colab": {
          "base_uri": "https://localhost:8080/"
        }
      },
      "source": [
        "x = np.array([5, -4.2, 3], dtype=np.int)\n",
        "print(x)\n",
        "print(x.dtype)\n",
        "x = np.array([1.0, 2.0])\n",
        "print(x.dtype)"
      ],
      "execution_count": 28,
      "outputs": [
        {
          "output_type": "stream",
          "text": [
            "[ 5 -4  3]\n",
            "int64\n",
            "float64\n"
          ],
          "name": "stdout"
        }
      ]
    },
    {
      "cell_type": "code",
      "metadata": {
        "id": "iTpjns2ILdzO"
      },
      "source": [
        "x = np.array([5, -4], dtype=np.int32)\n",
        "print(x)\n",
        "print(x.dtype)"
      ],
      "execution_count": null,
      "outputs": []
    },
    {
      "cell_type": "code",
      "metadata": {
        "id": "nnF1Ut7ZCCh_",
        "outputId": "e86cbffb-b35c-4c80-8e9c-35b2406ef556",
        "colab": {
          "base_uri": "https://localhost:8080/"
        }
      },
      "source": [
        "x = np.array([[1,2,5], [3,4,6]], dtype=np.float128)\n",
        "y = np.array([[5,6,-1], [7,8,-6]], dtype=np.float128)\n",
        "print(x)\n",
        "print(y)\n"
      ],
      "execution_count": 29,
      "outputs": [
        {
          "output_type": "stream",
          "text": [
            "[[1. 2. 5.]\n",
            " [3. 4. 6.]]\n",
            "[[ 5.  6. -1.]\n",
            " [ 7.  8. -6.]]\n"
          ],
          "name": "stdout"
        }
      ]
    },
    {
      "cell_type": "code",
      "metadata": {
        "id": "hkE0wG4jCCh_",
        "outputId": "0dcd8470-393a-4490-c9df-0d2dd278a92e",
        "colab": {
          "base_uri": "https://localhost:8080/"
        }
      },
      "source": [
        "x + y"
      ],
      "execution_count": 30,
      "outputs": [
        {
          "output_type": "execute_result",
          "data": {
            "text/plain": [
              "array([[ 6.,  8.,  4.],\n",
              "       [10., 12.,  0.]], dtype=float128)"
            ]
          },
          "metadata": {
            "tags": []
          },
          "execution_count": 30
        }
      ]
    },
    {
      "cell_type": "code",
      "metadata": {
        "id": "_iS6jTgxCCiA",
        "outputId": "536f4f98-89c8-44b5-c67e-87437a742381",
        "colab": {
          "base_uri": "https://localhost:8080/"
        }
      },
      "source": [
        "np.add(x, y)"
      ],
      "execution_count": 31,
      "outputs": [
        {
          "output_type": "execute_result",
          "data": {
            "text/plain": [
              "array([[ 6.,  8.,  4.],\n",
              "       [10., 12.,  0.]], dtype=float128)"
            ]
          },
          "metadata": {
            "tags": []
          },
          "execution_count": 31
        }
      ]
    },
    {
      "cell_type": "code",
      "metadata": {
        "id": "d4HNBOOsCCiA",
        "outputId": "0f1d295a-1c95-46a4-84a8-a2c109881a90",
        "colab": {
          "base_uri": "https://localhost:8080/"
        }
      },
      "source": [
        "np.sqrt(x)"
      ],
      "execution_count": 32,
      "outputs": [
        {
          "output_type": "execute_result",
          "data": {
            "text/plain": [
              "array([[1.        , 1.41421356, 2.23606798],\n",
              "       [1.73205081, 2.        , 2.44948974]], dtype=float128)"
            ]
          },
          "metadata": {
            "tags": []
          },
          "execution_count": 32
        }
      ]
    },
    {
      "cell_type": "code",
      "metadata": {
        "id": "jwA9pWqqMxoN",
        "outputId": "73e3f499-21a2-4220-d813-b39d5f374026",
        "colab": {
          "base_uri": "https://localhost:8080/"
        }
      },
      "source": [
        "np.cos(np.ones((2,3)))"
      ],
      "execution_count": 35,
      "outputs": [
        {
          "output_type": "execute_result",
          "data": {
            "text/plain": [
              "array([[0.54030231, 0.54030231, 0.54030231],\n",
              "       [0.54030231, 0.54030231, 0.54030231]])"
            ]
          },
          "metadata": {
            "tags": []
          },
          "execution_count": 35
        }
      ]
    },
    {
      "cell_type": "code",
      "metadata": {
        "id": "4h0oJCPjM5pP",
        "outputId": "56b66c60-07ab-4c6c-de36-9a5f907bc879",
        "colab": {
          "base_uri": "https://localhost:8080/"
        }
      },
      "source": [
        "np.matmul(x, y.T)"
      ],
      "execution_count": 38,
      "outputs": [
        {
          "output_type": "execute_result",
          "data": {
            "text/plain": [
              "array([[12., -7.],\n",
              "       [33., 17.]], dtype=float128)"
            ]
          },
          "metadata": {
            "tags": []
          },
          "execution_count": 38
        }
      ]
    },
    {
      "cell_type": "code",
      "metadata": {
        "id": "pLYfrM-VCCiA",
        "outputId": "d49297cc-7f2e-4054-9e72-91c80bba9570",
        "colab": {
          "base_uri": "https://localhost:8080/"
        }
      },
      "source": [
        "np.linspace(2, 3, num=10, endpoint=True, retstep=False)"
      ],
      "execution_count": 39,
      "outputs": [
        {
          "output_type": "execute_result",
          "data": {
            "text/plain": [
              "array([2.        , 2.11111111, 2.22222222, 2.33333333, 2.44444444,\n",
              "       2.55555556, 2.66666667, 2.77777778, 2.88888889, 3.        ])"
            ]
          },
          "metadata": {
            "tags": []
          },
          "execution_count": 39
        }
      ]
    },
    {
      "cell_type": "markdown",
      "metadata": {
        "id": "I8vk0vLOCCiB"
      },
      "source": [
        "## Matplotlib\n",
        "\n",
        "* Matplotlib es una librería para crear visualizaciones estáticas o animadas en Python.\n",
        "* Es posible graficar en un área con uno o más ejes (en términos de coordenadas x-y, theta-r, coordenadas polares, x-y-z, etc.\n",
        "* La forma más simple de crear una figura con ejes es usar el m ́odulo pyplot\n",
        "\n",
        "[Documentación](https://matplotlib.org/stable/tutorials/introductory/usage.html)"
      ]
    },
    {
      "cell_type": "code",
      "metadata": {
        "id": "YnI0XDpLNvjX"
      },
      "source": [
        "!pip install matplotlib"
      ],
      "execution_count": null,
      "outputs": []
    },
    {
      "cell_type": "code",
      "metadata": {
        "id": "P3BOxQpxCCiB"
      },
      "source": [
        "import matplotlib.pyplot as plt"
      ],
      "execution_count": 41,
      "outputs": []
    },
    {
      "cell_type": "code",
      "metadata": {
        "id": "lzzSBZCJCCiB",
        "outputId": "d04f813b-4ae0-408c-c7d0-3e5d4024968d",
        "colab": {
          "base_uri": "https://localhost:8080/",
          "height": 283
        }
      },
      "source": [
        "plt.plot([1, 2, 3, 4], [1, 4, 2, 3])"
      ],
      "execution_count": 42,
      "outputs": [
        {
          "output_type": "execute_result",
          "data": {
            "text/plain": [
              "[<matplotlib.lines.Line2D at 0x7f18bf222ed0>]"
            ]
          },
          "metadata": {
            "tags": []
          },
          "execution_count": 42
        },
        {
          "output_type": "display_data",
          "data": {
            "image/png": "[encoded data removed]",
            "text/plain": [
              "<Figure size 432x288 with 1 Axes>"
            ]
          },
          "metadata": {
            "tags": [],
            "needs_background": "light"
          }
        }
      ]
    },
    {
      "cell_type": "code",
      "metadata": {
        "id": "qS7wNks2CCiD",
        "outputId": "58e6ce64-161a-49c0-fa73-45294c0a2eb4",
        "colab": {
          "base_uri": "https://localhost:8080/",
          "height": 313
        }
      },
      "source": [
        "x = np.linspace(0, 2, 50)\n",
        "#print(x)\n",
        "# A ́un con el OO-style, usamos \".pyplot.figure\" para crear la figura. \n",
        "fig, ax = plt.subplots() # Crea la figura y los ejes.\n",
        "ax.plot(x, x, label=\"linear\") # Dibuja algunos datos en los ejes. \n",
        "ax.plot(x, x**2, label=\"quadratic\") # Dibuja mas datos en los ejes. \n",
        "ax.plot(x, x**3, label=\"cubic\") # ... y algunos más. \n",
        "ax.set_xlabel(\"fasdfasdf\") # Agrega un x-label a los ejes. \n",
        "ax.set_ylabel(\"y label\") # Agrega un y-label a los ejes. \n",
        "ax.set_title(\"Grupo P63\") # Agrega título a los ejes.\n",
        "ax.legend() # Agrega una leyenda."
      ],
      "execution_count": 45,
      "outputs": [
        {
          "output_type": "execute_result",
          "data": {
            "text/plain": [
              "<matplotlib.legend.Legend at 0x7f18bec18190>"
            ]
          },
          "metadata": {
            "tags": []
          },
          "execution_count": 45
        },
        {
          "output_type": "display_data",
          "data": {
            "image/png": "[encoded data removed]",
            "text/plain": [
              "<Figure size 432x288 with 1 Axes>"
            ]
          },
          "metadata": {
            "tags": [],
            "needs_background": "light"
          }
        }
      ]
    },
    {
      "cell_type": "code",
      "metadata": {
        "id": "rKVnsKfXCCiD",
        "outputId": "5fcde18e-10ba-4d97-e713-8974ad0848bf"
      },
      "source": [
        "names = [\"group_a\", \"group_b\", \"group_c\"]\n",
        "values = [3.4, 50.3, 23]\n",
        "plt.figure(figsize=(9, 3))\n",
        "plt.subplot(131)\n",
        "plt.bar(names, values)\n",
        "plt.subplot(132)\n",
        "plt.scatter(names, values)\n",
        "plt.subplot(133)\n",
        "plt.plot(names, values)\n",
        "plt.suptitle(\"Categorical Plotting\")\n",
        "plt.show()\n",
        "    "
      ],
      "execution_count": null,
      "outputs": [
        {
          "output_type": "display_data",
          "data": {
            "image/png": "[encoded data removed]",
            "text/plain": [
              "<Figure size 648x216 with 3 Axes>"
            ]
          },
          "metadata": {
            "tags": [],
            "needs_background": "light"
          }
        }
      ]
    },
    {
      "cell_type": "code",
      "metadata": {
        "id": "zaSzICpZPo0j",
        "outputId": "cd232b28-9b51-4e2e-d4d3-cdb5dcbd5553",
        "colab": {
          "base_uri": "https://localhost:8080/",
          "height": 248
        }
      },
      "source": [
        "# Pie chart, where the slices will be ordered and plotted counter-clockwise:\n",
        "labels = 'Frogs', 'Hogs', 'Dogs', 'Logs'\n",
        "sizes = [15, 30, 45, 10]\n",
        "explode = (0, 0.1, 0, 0)  # only \"explode\" the 2nd slice (i.e. 'Hogs')\n",
        "\n",
        "fig1, ax1 = plt.subplots()\n",
        "ax1.pie(sizes, labels=labels, autopct='%1.1f%%',\n",
        "        shadow=False, startangle=90)\n",
        "ax1.axis('equal')  # Equal aspect ratio ensures that pie is drawn as a circle.\n",
        "\n",
        "plt.show()"
      ],
      "execution_count": 48,
      "outputs": [
        {
          "output_type": "display_data",
          "data": {
            "image/png": "[encoded data removed]",
            "text/plain": [
              "<Figure size 432x288 with 1 Axes>"
            ]
          },
          "metadata": {
            "tags": []
          }
        }
      ]
    },
    {
      "cell_type": "markdown",
      "metadata": {
        "id": "amyTnIj3CCiE"
      },
      "source": [
        "### Pandas\n",
        "\n",
        "Permite manipular datos de alto nivel. Es una librería fácil de usar para an ́alisis y manipulación de datos. Está construida sobre Numpy.\n"
      ]
    },
    {
      "cell_type": "code",
      "metadata": {
        "id": "tfqnC_7JQ6tA"
      },
      "source": [
        "!pip install pandas"
      ],
      "execution_count": null,
      "outputs": []
    },
    {
      "cell_type": "code",
      "metadata": {
        "id": "OKYcNBU9CCiE"
      },
      "source": [
        "import pandas as pd"
      ],
      "execution_count": 49,
      "outputs": []
    },
    {
      "cell_type": "code",
      "metadata": {
        "id": "bQ9HdFcZCCiE",
        "outputId": "53c8e624-6cd4-4655-df27-796c99417a1b",
        "colab": {
          "base_uri": "https://localhost:8080/",
          "height": 233
        }
      },
      "source": [
        "dictc = {\"country\": [\"Brazil\", \"Russia\", \"India\",\n",
        "                          \"China\", \"South Africa\", \"Colombia\"],\n",
        "\"capital\": [\"Brasilia\", \"Moscow\", \"New Dehli\", \"Beijing\", \"Pretoria\", \"Bogotá\"],\n",
        "            \"area\": [8.516, 17.10, 3.286, 9.597, 1.221, 1.142],\n",
        "            \"population\": [200.4, 143.5, 1252, 1357, 52.98, 49.65] }\n",
        "brics = pd.DataFrame(dictc)\n",
        "brics"
      ],
      "execution_count": 54,
      "outputs": [
        {
          "output_type": "execute_result",
          "data": {
            "text/html": [
              "<div>\n",
              "<style scoped>\n",
              "    .dataframe tbody tr th:only-of-type {\n",
              "        vertical-align: middle;\n",
              "    }\n",
              "\n",
              "    .dataframe tbody tr th {\n",
              "        vertical-align: top;\n",
              "    }\n",
              "\n",
              "    .dataframe thead th {\n",
              "        text-align: right;\n",
              "    }\n",
              "</style>\n",
              "<table border=\"1\" class=\"dataframe\">\n",
              "  <thead>\n",
              "    <tr style=\"text-align: right;\">\n",
              "      <th></th>\n",
              "      <th>country</th>\n",
              "      <th>capital</th>\n",
              "      <th>area</th>\n",
              "      <th>population</th>\n",
              "    </tr>\n",
              "  </thead>\n",
              "  <tbody>\n",
              "    <tr>\n",
              "      <th>0</th>\n",
              "      <td>Brazil</td>\n",
              "      <td>Brasilia</td>\n",
              "      <td>8.516</td>\n",
              "      <td>200.40</td>\n",
              "    </tr>\n",
              "    <tr>\n",
              "      <th>1</th>\n",
              "      <td>Russia</td>\n",
              "      <td>Moscow</td>\n",
              "      <td>17.100</td>\n",
              "      <td>143.50</td>\n",
              "    </tr>\n",
              "    <tr>\n",
              "      <th>2</th>\n",
              "      <td>India</td>\n",
              "      <td>New Dehli</td>\n",
              "      <td>3.286</td>\n",
              "      <td>1252.00</td>\n",
              "    </tr>\n",
              "    <tr>\n",
              "      <th>3</th>\n",
              "      <td>China</td>\n",
              "      <td>Beijing</td>\n",
              "      <td>9.597</td>\n",
              "      <td>1357.00</td>\n",
              "    </tr>\n",
              "    <tr>\n",
              "      <th>4</th>\n",
              "      <td>South Africa</td>\n",
              "      <td>Pretoria</td>\n",
              "      <td>1.221</td>\n",
              "      <td>52.98</td>\n",
              "    </tr>\n",
              "    <tr>\n",
              "      <th>5</th>\n",
              "      <td>Colombia</td>\n",
              "      <td>Bogotá</td>\n",
              "      <td>1.142</td>\n",
              "      <td>49.65</td>\n",
              "    </tr>\n",
              "  </tbody>\n",
              "</table>\n",
              "</div>"
            ],
            "text/plain": [
              "        country    capital    area  population\n",
              "0        Brazil   Brasilia   8.516      200.40\n",
              "1        Russia     Moscow  17.100      143.50\n",
              "2         India  New Dehli   3.286     1252.00\n",
              "3         China    Beijing   9.597     1357.00\n",
              "4  South Africa   Pretoria   1.221       52.98\n",
              "5      Colombia     Bogotá   1.142       49.65"
            ]
          },
          "metadata": {
            "tags": []
          },
          "execution_count": 54
        }
      ]
    },
    {
      "cell_type": "markdown",
      "metadata": {
        "id": "aEOt79yKCCiE"
      },
      "source": [
        "Pandas permite manipular archivos de tipo *.csv."
      ]
    },
    {
      "cell_type": "code",
      "metadata": {
        "id": "JeTza-7ECCiF"
      },
      "source": [
        "import requests"
      ],
      "execution_count": 55,
      "outputs": []
    },
    {
      "cell_type": "code",
      "metadata": {
        "id": "Ei5YOM-jCCiF",
        "outputId": "296b253e-e972-4174-e1ad-e64e899f3639"
      },
      "source": [
        "!wget \"https://raw.githubusercontent.com/arleserp/MinTIC2022/master/files/SalesJan2009.csv\""
      ],
      "execution_count": null,
      "outputs": [
        {
          "output_type": "stream",
          "text": [
            "--2021-06-21 18:47:23--  https://raw.githubusercontent.com/arleserp/MinTIC2022/master/files/SalesJan2009.csv\n",
            "Resolving raw.githubusercontent.com (raw.githubusercontent.com)... 185.199.109.133, 185.199.110.133, 185.199.111.133, ...\n",
            "Connecting to raw.githubusercontent.com (raw.githubusercontent.com)|185.199.109.133|:443... connected.\n",
            "HTTP request sent, awaiting response... 200 OK\n",
            "Length: 129482 (126K) [text/plain]\n",
            "Saving to: ‘SalesJan2009.csv.1’\n",
            "\n",
            "SalesJan2009.csv.1  100%[===================>] 126.45K  --.-KB/s    in 0.07s   \n",
            "\n",
            "2021-06-21 18:47:23 (1.66 MB/s) - ‘SalesJan2009.csv.1’ saved [129482/129482]\n",
            "\n"
          ],
          "name": "stdout"
        }
      ]
    },
    {
      "cell_type": "code",
      "metadata": {
        "id": "tjNhxSn3CCiF"
      },
      "source": [
        "response = requests.get('https://raw.githubusercontent.com/arleserp/MinTIC2022/master/files/SalesJan2009.csv')\n",
        "with open('SalesJan2009.csv', 'w') as f:\n",
        "    f.write(response.text)"
      ],
      "execution_count": 56,
      "outputs": []
    },
    {
      "cell_type": "code",
      "metadata": {
        "id": "u6Khp7eECCiG"
      },
      "source": [
        "ventasdf = pd.read_csv(\"SalesJan2009.csv\")"
      ],
      "execution_count": 59,
      "outputs": []
    },
    {
      "cell_type": "code",
      "metadata": {
        "id": "nq8nLcQbCCiG",
        "outputId": "178894c1-6f7e-4bd6-9008-f65593f9c641",
        "colab": {
          "base_uri": "https://localhost:8080/",
          "height": 165
        }
      },
      "source": [
        "ventasdf.head(2)"
      ],
      "execution_count": 67,
      "outputs": [
        {
          "output_type": "execute_result",
          "data": {
            "text/html": [
              "<div>\n",
              "<style scoped>\n",
              "    .dataframe tbody tr th:only-of-type {\n",
              "        vertical-align: middle;\n",
              "    }\n",
              "\n",
              "    .dataframe tbody tr th {\n",
              "        vertical-align: top;\n",
              "    }\n",
              "\n",
              "    .dataframe thead th {\n",
              "        text-align: right;\n",
              "    }\n",
              "</style>\n",
              "<table border=\"1\" class=\"dataframe\">\n",
              "  <thead>\n",
              "    <tr style=\"text-align: right;\">\n",
              "      <th></th>\n",
              "      <th>Transaction_date</th>\n",
              "      <th>Product</th>\n",
              "      <th>Price</th>\n",
              "      <th>Payment_Type</th>\n",
              "      <th>Name</th>\n",
              "      <th>City</th>\n",
              "      <th>State</th>\n",
              "      <th>Country</th>\n",
              "      <th>Account_Created</th>\n",
              "      <th>Last_Login</th>\n",
              "      <th>Latitude</th>\n",
              "      <th>Longitude</th>\n",
              "    </tr>\n",
              "  </thead>\n",
              "  <tbody>\n",
              "    <tr>\n",
              "      <th>0</th>\n",
              "      <td>1/2/2009 6:17</td>\n",
              "      <td>Product1</td>\n",
              "      <td>1200</td>\n",
              "      <td>Mastercard</td>\n",
              "      <td>carolina</td>\n",
              "      <td>Basildon</td>\n",
              "      <td>England</td>\n",
              "      <td>United Kingdom</td>\n",
              "      <td>1/2/2009 6:00</td>\n",
              "      <td>1/2/2009 6:08</td>\n",
              "      <td>51.500</td>\n",
              "      <td>-1.116667</td>\n",
              "    </tr>\n",
              "    <tr>\n",
              "      <th>1</th>\n",
              "      <td>1/2/2009 4:53</td>\n",
              "      <td>Product1</td>\n",
              "      <td>1200</td>\n",
              "      <td>Visa</td>\n",
              "      <td>Betina</td>\n",
              "      <td>Parkville</td>\n",
              "      <td>MO</td>\n",
              "      <td>United States</td>\n",
              "      <td>1/2/2009 4:42</td>\n",
              "      <td>1/2/2009 7:49</td>\n",
              "      <td>39.195</td>\n",
              "      <td>-94.681940</td>\n",
              "    </tr>\n",
              "  </tbody>\n",
              "</table>\n",
              "</div>"
            ],
            "text/plain": [
              "  Transaction_date   Product  Price  ...     Last_Login Latitude  Longitude\n",
              "0    1/2/2009 6:17  Product1   1200  ...  1/2/2009 6:08   51.500  -1.116667\n",
              "1    1/2/2009 4:53  Product1   1200  ...  1/2/2009 7:49   39.195 -94.681940\n",
              "\n",
              "[2 rows x 12 columns]"
            ]
          },
          "metadata": {
            "tags": []
          },
          "execution_count": 67
        }
      ]
    },
    {
      "cell_type": "code",
      "metadata": {
        "id": "4Dlr7yPhCCiG"
      },
      "source": [
        "from collections import Counter"
      ],
      "execution_count": 63,
      "outputs": []
    },
    {
      "cell_type": "code",
      "metadata": {
        "id": "E49f4ZVICCiH",
        "outputId": "fb1be559-b882-40a2-814d-095dc6f93b60",
        "colab": {
          "base_uri": "https://localhost:8080/"
        }
      },
      "source": [
        "cp = Counter(ventasdf[\"Country\"])\n",
        "cp.most_common(3)"
      ],
      "execution_count": 68,
      "outputs": [
        {
          "output_type": "execute_result",
          "data": {
            "text/plain": [
              "[('United States', 462), ('United Kingdom', 100), ('Canada', 76)]"
            ]
          },
          "metadata": {
            "tags": []
          },
          "execution_count": 68
        }
      ]
    },
    {
      "cell_type": "code",
      "metadata": {
        "id": "wtuyhXdaCCiI",
        "outputId": "399b9b32-1765-49ec-9987-7476da8728c3"
      },
      "source": [
        "cv = Counter(ventasdf[\"Payment_Type\"])\n",
        "cv.most_common(3)"
      ],
      "execution_count": null,
      "outputs": [
        {
          "output_type": "execute_result",
          "data": {
            "text/plain": [
              "[('Visa', 521), ('Mastercard', 277), ('Amex', 110)]"
            ]
          },
          "metadata": {
            "tags": []
          },
          "execution_count": 37
        }
      ]
    },
    {
      "cell_type": "code",
      "metadata": {
        "id": "qF3-zmyjCCiI"
      },
      "source": [
        "ventasdf[\"Transaction_date\"] = pd.to_datetime(ventasdf[\"Transaction_date\"])"
      ],
      "execution_count": 78,
      "outputs": []
    },
    {
      "cell_type": "code",
      "metadata": {
        "id": "b-9Xa8AsUvEc",
        "outputId": "6a294659-26a8-4c76-dfdd-28e83edc2f1a",
        "colab": {
          "base_uri": "https://localhost:8080/",
          "height": 230
        }
      },
      "source": [
        "ventasdf.head(3)"
      ],
      "execution_count": 79,
      "outputs": [
        {
          "output_type": "execute_result",
          "data": {
            "text/html": [
              "<div>\n",
              "<style scoped>\n",
              "    .dataframe tbody tr th:only-of-type {\n",
              "        vertical-align: middle;\n",
              "    }\n",
              "\n",
              "    .dataframe tbody tr th {\n",
              "        vertical-align: top;\n",
              "    }\n",
              "\n",
              "    .dataframe thead th {\n",
              "        text-align: right;\n",
              "    }\n",
              "</style>\n",
              "<table border=\"1\" class=\"dataframe\">\n",
              "  <thead>\n",
              "    <tr style=\"text-align: right;\">\n",
              "      <th></th>\n",
              "      <th>Transaction_date</th>\n",
              "      <th>Product</th>\n",
              "      <th>Price</th>\n",
              "      <th>Payment_Type</th>\n",
              "      <th>Name</th>\n",
              "      <th>City</th>\n",
              "      <th>State</th>\n",
              "      <th>Country</th>\n",
              "      <th>Account_Created</th>\n",
              "      <th>Last_Login</th>\n",
              "      <th>Latitude</th>\n",
              "      <th>Longitude</th>\n",
              "    </tr>\n",
              "  </thead>\n",
              "  <tbody>\n",
              "    <tr>\n",
              "      <th>0</th>\n",
              "      <td>2009-01-02 06:17:00</td>\n",
              "      <td>Product1</td>\n",
              "      <td>1200</td>\n",
              "      <td>Mastercard</td>\n",
              "      <td>carolina</td>\n",
              "      <td>Basildon</td>\n",
              "      <td>England</td>\n",
              "      <td>United Kingdom</td>\n",
              "      <td>1/2/2009 6:00</td>\n",
              "      <td>1/2/2009 6:08</td>\n",
              "      <td>51.50000</td>\n",
              "      <td>-1.116667</td>\n",
              "    </tr>\n",
              "    <tr>\n",
              "      <th>1</th>\n",
              "      <td>2009-01-02 04:53:00</td>\n",
              "      <td>Product1</td>\n",
              "      <td>1200</td>\n",
              "      <td>Visa</td>\n",
              "      <td>Betina</td>\n",
              "      <td>Parkville</td>\n",
              "      <td>MO</td>\n",
              "      <td>United States</td>\n",
              "      <td>1/2/2009 4:42</td>\n",
              "      <td>1/2/2009 7:49</td>\n",
              "      <td>39.19500</td>\n",
              "      <td>-94.681940</td>\n",
              "    </tr>\n",
              "    <tr>\n",
              "      <th>2</th>\n",
              "      <td>2009-01-02 13:08:00</td>\n",
              "      <td>Product1</td>\n",
              "      <td>1200</td>\n",
              "      <td>Mastercard</td>\n",
              "      <td>Federica e Andrea</td>\n",
              "      <td>Astoria</td>\n",
              "      <td>OR</td>\n",
              "      <td>United States</td>\n",
              "      <td>1/1/2009 16:21</td>\n",
              "      <td>1/3/2009 12:32</td>\n",
              "      <td>46.18806</td>\n",
              "      <td>-123.830000</td>\n",
              "    </tr>\n",
              "  </tbody>\n",
              "</table>\n",
              "</div>"
            ],
            "text/plain": [
              "     Transaction_date   Product  Price  ...      Last_Login  Latitude   Longitude\n",
              "0 2009-01-02 06:17:00  Product1   1200  ...   1/2/2009 6:08  51.50000   -1.116667\n",
              "1 2009-01-02 04:53:00  Product1   1200  ...   1/2/2009 7:49  39.19500  -94.681940\n",
              "2 2009-01-02 13:08:00  Product1   1200  ...  1/3/2009 12:32  46.18806 -123.830000\n",
              "\n",
              "[3 rows x 12 columns]"
            ]
          },
          "metadata": {
            "tags": []
          },
          "execution_count": 79
        }
      ]
    },
    {
      "cell_type": "code",
      "metadata": {
        "id": "CjGA4FW1VYAA"
      },
      "source": [
        "col = 'Name'"
      ],
      "execution_count": 82,
      "outputs": []
    },
    {
      "cell_type": "code",
      "metadata": {
        "id": "ILZ_G4jLVSzf",
        "outputId": "c017c82e-9cd8-4461-9a4d-0ca2df3975b4",
        "colab": {
          "base_uri": "https://localhost:8080/"
        }
      },
      "source": [
        "ventasdf[col]"
      ],
      "execution_count": 83,
      "outputs": [
        {
          "output_type": "execute_result",
          "data": {
            "text/plain": [
              "0               carolina\n",
              "1                 Betina\n",
              "2      Federica e Andrea\n",
              "3                  Gouya\n",
              "4                Gerd W \n",
              "             ...        \n",
              "992           Hans-Joerg\n",
              "993           Christiane\n",
              "994               Pamela\n",
              "995                julie\n",
              "996               Julia \n",
              "Name: Name, Length: 997, dtype: object"
            ]
          },
          "metadata": {
            "tags": []
          },
          "execution_count": 83
        }
      ]
    },
    {
      "cell_type": "code",
      "metadata": {
        "id": "NKkaZkk1UkFn",
        "outputId": "5610a1b2-8154-4699-90bc-25fbfd2c1842",
        "colab": {
          "base_uri": "https://localhost:8080/",
          "height": 301
        }
      },
      "source": [
        "A = (ventasdf[\"Transaction_date\"]\n",
        "    .dt.floor(\"d\")\n",
        "    .value_counts()\n",
        "    .rename_axis(\"date\")\n",
        "    .reset_index(name=\"num ventas\"))\n",
        "G=A.plot(x=\"date\",y=\"num ventas\",color=\"green\",title=\"Ventas por fecha\")\n",
        "plt.show()"
      ],
      "execution_count": 80,
      "outputs": [
        {
          "output_type": "display_data",
          "data": {
            "image/png": "[encoded data removed]",
            "text/plain": [
              "<Figure size 432x288 with 1 Axes>"
            ]
          },
          "metadata": {
            "tags": [],
            "needs_background": "light"
          }
        }
      ]
    },
    {
      "cell_type": "markdown",
      "metadata": {
        "id": "tRsBCxB0CCiJ"
      },
      "source": [
        "### Datetime"
      ]
    },
    {
      "cell_type": "code",
      "metadata": {
        "id": "wX1OEg-MYOxL"
      },
      "source": [
        "def f(a, b = 1):\n",
        "  return a / b"
      ],
      "execution_count": 101,
      "outputs": []
    },
    {
      "cell_type": "code",
      "metadata": {
        "id": "ytE_6KFwYTBi",
        "outputId": "ca4f7edb-d8cc-4d83-9ed3-63eb1deb352e",
        "colab": {
          "base_uri": "https://localhost:8080/",
          "height": 169
        }
      },
      "source": [
        "f(a=3)"
      ],
      "execution_count": 104,
      "outputs": [
        {
          "output_type": "error",
          "ename": "TypeError",
          "evalue": "ignored",
          "traceback": [
            "\u001b[0;31m---------------------------------------------------------------------------\u001b[0m",
            "\u001b[0;31mTypeError\u001b[0m                                 Traceback (most recent call last)",
            "\u001b[0;32m<ipython-input-104-7161d824963a>\u001b[0m in \u001b[0;36m<module>\u001b[0;34m()\u001b[0m\n\u001b[0;32m----> 1\u001b[0;31m \u001b[0mf\u001b[0m\u001b[0;34m(\u001b[0m\u001b[0ma\u001b[0m\u001b[0;34m=\u001b[0m\u001b[0;36m3\u001b[0m\u001b[0;34m)\u001b[0m\u001b[0;34m\u001b[0m\u001b[0;34m\u001b[0m\u001b[0m\n\u001b[0m",
            "\u001b[0;31mTypeError\u001b[0m: f() missing 1 required positional argument: 'b'"
          ]
        }
      ]
    },
    {
      "cell_type": "markdown",
      "metadata": {
        "id": "-E9U-dKWCCiK"
      },
      "source": [
        "**date**"
      ]
    },
    {
      "cell_type": "code",
      "metadata": {
        "id": "TStumq-SCCiK"
      },
      "source": [
        "import datetime"
      ],
      "execution_count": 85,
      "outputs": []
    },
    {
      "cell_type": "code",
      "metadata": {
        "id": "wV4Slg79CCiK",
        "outputId": "4560ece1-18e9-478c-fa23-99737601de3e",
        "colab": {
          "base_uri": "https://localhost:8080/"
        }
      },
      "source": [
        "try:\n",
        "  d = datetime.date(month=16, day=10, year=2021)\n",
        "  print(d)\n",
        "except ValueError as e:\n",
        "  print(e)"
      ],
      "execution_count": 106,
      "outputs": [
        {
          "output_type": "stream",
          "text": [
            "month must be in 1..12\n"
          ],
          "name": "stdout"
        }
      ]
    },
    {
      "cell_type": "code",
      "metadata": {
        "id": "_EJKV_gyCCiL",
        "outputId": "5b6c1986-9b8b-4527-a775-e749770829db",
        "colab": {
          "base_uri": "https://localhost:8080/"
        }
      },
      "source": [
        "today = datetime.date.today()\n",
        "today"
      ],
      "execution_count": 108,
      "outputs": [
        {
          "output_type": "execute_result",
          "data": {
            "text/plain": [
              "datetime.date(2021, 6, 22)"
            ]
          },
          "metadata": {
            "tags": []
          },
          "execution_count": 108
        }
      ]
    },
    {
      "cell_type": "code",
      "metadata": {
        "id": "_hgKAMhGCCiL",
        "outputId": "11203f5b-15dd-4366-90ed-58344ffe7143",
        "colab": {
          "base_uri": "https://localhost:8080/"
        }
      },
      "source": [
        "print(\"Current year:\", today.year)\n",
        "print(\"Current month:\", today.month)\n",
        "print(\"Current day:\", today.day)"
      ],
      "execution_count": 109,
      "outputs": [
        {
          "output_type": "stream",
          "text": [
            "Current year: 2021\n",
            "Current month: 6\n",
            "Current day: 22\n"
          ],
          "name": "stdout"
        }
      ]
    },
    {
      "cell_type": "markdown",
      "metadata": {
        "id": "HLU5NCQGCCiM"
      },
      "source": [
        "**time**"
      ]
    },
    {
      "cell_type": "code",
      "metadata": {
        "id": "AEhI9YvGCCiM",
        "outputId": "9e96a528-2ca0-4c87-ed97-79be45d0e397",
        "colab": {
          "base_uri": "https://localhost:8080/"
        }
      },
      "source": [
        "# time(hour = 0, minute = 0, second = 0)\n",
        "a = datetime.time(minute=10)\n",
        "print(\"a =\", a)\n",
        "\n",
        "# time(hour, minute and second)\n",
        "b = datetime.time(11, 34, 56)\n",
        "print(\"b =\", b)\n",
        "\n",
        "# time(hour, minute and second)\n",
        "c = datetime.time(hour = 15, minute = 34, second = 56)\n",
        "print(\"c =\", c)\n",
        "\n",
        "# time(hour, minute, second, microsecond)\n",
        "d = datetime.time(11, 34, 56, 234566)\n",
        "print(\"d =\", d)"
      ],
      "execution_count": 113,
      "outputs": [
        {
          "output_type": "stream",
          "text": [
            "a = 00:10:00\n",
            "b = 11:34:56\n",
            "c = 15:34:56\n",
            "d = 11:34:56.234566\n"
          ],
          "name": "stdout"
        }
      ]
    },
    {
      "cell_type": "code",
      "metadata": {
        "id": "uYGVbxWBCCiM",
        "outputId": "17e3277a-c5f0-476f-86fd-eeaaf6826da4",
        "colab": {
          "base_uri": "https://localhost:8080/"
        }
      },
      "source": [
        "a = datetime.time(11, 34, 56)\n",
        "\n",
        "print(\"hour =\", a.hour)\n",
        "print(\"minute =\", a.minute)\n",
        "print(\"second =\", a.second)\n",
        "print(\"microsecond =\", a.microsecond)"
      ],
      "execution_count": 114,
      "outputs": [
        {
          "output_type": "stream",
          "text": [
            "hour = 11\n",
            "minute = 34\n",
            "second = 56\n",
            "microsecond = 0\n"
          ],
          "name": "stdout"
        }
      ]
    },
    {
      "cell_type": "markdown",
      "metadata": {
        "id": "VEer08ehCCiM"
      },
      "source": [
        "**datetime**"
      ]
    },
    {
      "cell_type": "code",
      "metadata": {
        "id": "wzuI156lCCiN",
        "outputId": "62213fab-224f-43d1-bd25-75e6da7d3142",
        "colab": {
          "base_uri": "https://localhost:8080/"
        }
      },
      "source": [
        "datetime.datetime.now()"
      ],
      "execution_count": 117,
      "outputs": [
        {
          "output_type": "execute_result",
          "data": {
            "text/plain": [
              "datetime.datetime(2021, 6, 22, 1, 50, 24, 630163)"
            ]
          },
          "metadata": {
            "tags": []
          },
          "execution_count": 117
        }
      ]
    },
    {
      "cell_type": "code",
      "metadata": {
        "id": "R4blMbtBCCiO",
        "outputId": "b0c764a1-eb4e-40d1-831b-4b6484119f87",
        "colab": {
          "base_uri": "https://localhost:8080/"
        }
      },
      "source": [
        "#datetime(year, month, day)\n",
        "a = datetime.datetime(2018, 11, 28)\n",
        "print(a)\n",
        "\n",
        "# datetime(year, month, day, hour, minute, second, microsecond)\n",
        "b = datetime.datetime(2017,11,28, 23, 55, 59, 342380)\n",
        "print(b)"
      ],
      "execution_count": 120,
      "outputs": [
        {
          "output_type": "stream",
          "text": [
            "2018-11-28 00:00:00\n",
            "2017-11-28 23:55:59.342380\n"
          ],
          "name": "stdout"
        }
      ]
    },
    {
      "cell_type": "code",
      "metadata": {
        "id": "8zwsfd8mCCiO",
        "outputId": "de2c64ed-ed5b-4e59-e665-4cefc5babdfb",
        "colab": {
          "base_uri": "https://localhost:8080/"
        }
      },
      "source": [
        "a = datetime.datetime(2017, 11, 28, 23, 55, 59, 342380)\n",
        "print(\"year =\", a.year)\n",
        "print(\"month =\", a.month)\n",
        "print(\"hour =\", a.hour)\n",
        "print(\"minute =\", a.minute)\n",
        "print(\"timestamp =\", a.timestamp())"
      ],
      "execution_count": 121,
      "outputs": [
        {
          "output_type": "stream",
          "text": [
            "year = 2017\n",
            "month = 11\n",
            "hour = 23\n",
            "minute = 55\n",
            "timestamp = 1511913359.34238\n"
          ],
          "name": "stdout"
        }
      ]
    },
    {
      "cell_type": "markdown",
      "metadata": {
        "id": "xaBlpquwCCiP"
      },
      "source": [
        "**timedelta**"
      ]
    },
    {
      "cell_type": "code",
      "metadata": {
        "id": "vYs8BnoBCCiP",
        "outputId": "73f5d009-35cd-447d-90f6-4839dcf5f87b",
        "colab": {
          "base_uri": "https://localhost:8080/"
        }
      },
      "source": [
        "t1 = datetime.date(year = 2018, month = 7, day = 12)\n",
        "t2 = datetime.date(year = 2017, month = 12, day = 23)\n",
        "t3 = t1 - t2\n",
        "print(\"t3 =\", t3)\n",
        "\n",
        "\n",
        "\n",
        "t4 = datetime.datetime(year = 2018, month = 7, day = 12, hour = 7, minute = 9, second = 33)\n",
        "t5 = datetime.datetime(year = 2019, month = 6, day = 10, hour = 5, minute = 55, second = 13)\n",
        "t6 = t4 - t5\n",
        "print(\"t6 =\", t6)\n",
        "\n",
        "print(\"type of t3 =\", type(t3)) \n",
        "print(\"type of t6 =\", type(t6))  "
      ],
      "execution_count": 123,
      "outputs": [
        {
          "output_type": "stream",
          "text": [
            "t3 = 201 days, 0:00:00\n",
            "t6 = -333 days, 1:14:20\n",
            "type of t3 = <class 'datetime.timedelta'>\n",
            "type of t6 = <class 'datetime.timedelta'>\n"
          ],
          "name": "stdout"
        }
      ]
    },
    {
      "cell_type": "code",
      "metadata": {
        "id": "QqSjRGdRcBB-",
        "outputId": "b2b80ff0-ded5-4710-d223-1a1b84ffd1d0",
        "colab": {
          "base_uri": "https://localhost:8080/"
        }
      },
      "source": [
        "t1 + t3"
      ],
      "execution_count": 126,
      "outputs": [
        {
          "output_type": "execute_result",
          "data": {
            "text/plain": [
              "datetime.date(2019, 1, 29)"
            ]
          },
          "metadata": {
            "tags": []
          },
          "execution_count": 126
        }
      ]
    },
    {
      "cell_type": "markdown",
      "metadata": {
        "id": "iS1nuYC6CCiP"
      },
      "source": [
        "**strftime**"
      ]
    },
    {
      "cell_type": "code",
      "metadata": {
        "id": "B7ORxsxcCCiP",
        "outputId": "27d49adc-8482-49fd-8998-1d898302235b",
        "colab": {
          "base_uri": "https://localhost:8080/"
        }
      },
      "source": [
        "now = datetime.datetime.now()\n",
        "now"
      ],
      "execution_count": 124,
      "outputs": [
        {
          "output_type": "execute_result",
          "data": {
            "text/plain": [
              "datetime.datetime(2021, 6, 22, 1, 57, 22, 537490)"
            ]
          },
          "metadata": {
            "tags": []
          },
          "execution_count": 124
        }
      ]
    },
    {
      "cell_type": "code",
      "metadata": {
        "id": "RBff7qQ1CCiQ",
        "outputId": "6eeab531-709b-46fa-d110-c34dbfd51f53",
        "colab": {
          "base_uri": "https://localhost:8080/",
          "height": 35
        }
      },
      "source": [
        "now.strftime(\"%-I & %M - %S\")"
      ],
      "execution_count": 135,
      "outputs": [
        {
          "output_type": "execute_result",
          "data": {
            "application/vnd.google.colaboratory.intrinsic+json": {
              "type": "string"
            },
            "text/plain": [
              "'1 & 57 - 22'"
            ]
          },
          "metadata": {
            "tags": []
          },
          "execution_count": 135
        }
      ]
    },
    {
      "cell_type": "code",
      "metadata": {
        "id": "-4Knh_BhCCiQ",
        "outputId": "6c14a29b-78fa-40ba-b14f-b55246cc03e3",
        "colab": {
          "base_uri": "https://localhost:8080/",
          "height": 35
        }
      },
      "source": [
        "now.strftime(\"%m/%d/%Y, %H:%M:%S\")"
      ],
      "execution_count": 131,
      "outputs": [
        {
          "output_type": "execute_result",
          "data": {
            "application/vnd.google.colaboratory.intrinsic+json": {
              "type": "string"
            },
            "text/plain": [
              "'06/22/2021, 01:57:22'"
            ]
          },
          "metadata": {
            "tags": []
          },
          "execution_count": 131
        }
      ]
    },
    {
      "cell_type": "code",
      "metadata": {
        "id": "osOQLRn7CCiQ",
        "outputId": "0207b652-6750-4c0f-f753-949b50e69317",
        "colab": {
          "base_uri": "https://localhost:8080/",
          "height": 35
        }
      },
      "source": [
        "now.strftime(\"%d/%m/%Y, %H:%M:%S, %a\")"
      ],
      "execution_count": 133,
      "outputs": [
        {
          "output_type": "execute_result",
          "data": {
            "application/vnd.google.colaboratory.intrinsic+json": {
              "type": "string"
            },
            "text/plain": [
              "'22/06/2021, 01:57:22, Tue'"
            ]
          },
          "metadata": {
            "tags": []
          },
          "execution_count": 133
        }
      ]
    },
    {
      "cell_type": "code",
      "metadata": {
        "id": "OOft4L2vCCiR",
        "outputId": "026bf586-1b84-42db-f373-667896b494b8",
        "colab": {
          "base_uri": "https://localhost:8080/",
          "height": 35
        }
      },
      "source": [
        "date_string = \"21 June, 2018 & 18\"\n",
        "date_string"
      ],
      "execution_count": 141,
      "outputs": [
        {
          "output_type": "execute_result",
          "data": {
            "application/vnd.google.colaboratory.intrinsic+json": {
              "type": "string"
            },
            "text/plain": [
              "'21 June, 2018 & 18'"
            ]
          },
          "metadata": {
            "tags": []
          },
          "execution_count": 141
        }
      ]
    },
    {
      "cell_type": "code",
      "metadata": {
        "id": "Ew0h4u0JCCiR",
        "outputId": "25e8486d-f12f-4d0a-80f7-7348da7a0a7a",
        "colab": {
          "base_uri": "https://localhost:8080/"
        }
      },
      "source": [
        "date_object = datetime.datetime.strptime(date_string, \"%d %B, %Y & %H\")\n",
        "date_object.hour"
      ],
      "execution_count": 143,
      "outputs": [
        {
          "output_type": "execute_result",
          "data": {
            "text/plain": [
              "18"
            ]
          },
          "metadata": {
            "tags": []
          },
          "execution_count": 143
        }
      ]
    },
    {
      "cell_type": "markdown",
      "metadata": {
        "id": "5CtiomhCeK0o"
      },
      "source": [
        "[Directivas strf](https://strftime.org/)"
      ]
    }
  ]
}